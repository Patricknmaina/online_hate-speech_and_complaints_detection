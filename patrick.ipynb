{
 "cells": [
  {
   "cell_type": "markdown",
   "id": "08b54b47",
   "metadata": {},
   "source": [
    "# Safaricom Tweets Classification for complaints & Hate Speech Detection"
   ]
  },
  {
   "cell_type": "code",
   "execution_count": 15,
   "id": "b18716b9",
   "metadata": {},
   "outputs": [],
   "source": [
    "# import libraries\n",
    "import pandas as pd\n",
    "import numpy as np\n",
    "import matplotlib.pyplot as plt\n",
    "import seaborn as sns\n",
    "import plotly.express as px\n",
    "from sklearn.feature_extraction.text import CountVectorizer\n",
    "from sklearn.model_selection import train_test_split\n",
    "from sklearn.linear_model import LogisticRegression\n",
    "from sklearn.naive_bayes import MultinomialNB\n",
    "from sklearn.metrics import classification_report, accuracy_score, precision_score, recall_score, f1_score\n",
    "\n",
    "# nltk libraries\n",
    "import nltk\n",
    "nltk.download('punkt_tab', quiet=True)\n",
    "nltk.download('stopwords', quiet=True)\n",
    "nltk.download('wordnet', quiet=True)\n",
    "from nltk.corpus import stopwords\n",
    "from nltk.stem import WordNetLemmatizer\n",
    "from nltk.tokenize import word_tokenize\n",
    "import re"
   ]
  },
  {
   "cell_type": "markdown",
   "id": "12e4553d",
   "metadata": {},
   "source": [
    "## Load the dataset"
   ]
  },
  {
   "cell_type": "code",
   "execution_count": 16,
   "id": "0e38c33e",
   "metadata": {},
   "outputs": [
    {
     "name": "stdout",
     "output_type": "stream",
     "text": [
      "Dataset loaded successfully from data/safaricom_data.csv\n"
     ]
    }
   ],
   "source": [
    "# load dataset\n",
    "from data_prep.data_loader import DataLoader # custom class\n",
    "\n",
    "# define a loader variable\n",
    "loader = DataLoader('data/safaricom_data.csv')\n",
    "data = loader.load_data()"
   ]
  },
  {
   "cell_type": "code",
   "execution_count": null,
   "id": "748e9366",
   "metadata": {},
   "outputs": [
    {
     "name": "stdout",
     "output_type": "stream",
     "text": [
      "Dataset Information:\n",
      "==================================================\n",
      "<class 'pandas.core.frame.DataFrame'>\n",
      "RangeIndex: 2574 entries, 0 to 2573\n",
      "Data columns (total 10 columns):\n",
      " #   Column    Non-Null Count  Dtype  \n",
      "---  ------    --------------  -----  \n",
      " 0   Tweet ID  2574 non-null   float64\n",
      " 1   URL       2574 non-null   object \n",
      " 2   Content   2574 non-null   object \n",
      " 3   Likes     2574 non-null   int64  \n",
      " 4   Retweets  2574 non-null   int64  \n",
      " 5   Replies   2574 non-null   int64  \n",
      " 6   Quotes    2574 non-null   int64  \n",
      " 7   Views     2574 non-null   int64  \n",
      " 8   Date      2574 non-null   object \n",
      " 9   Labels    2573 non-null   object \n",
      "dtypes: float64(1), int64(5), object(4)\n",
      "memory usage: 201.2+ KB\n",
      "None\n",
      "\n",
      "Dataset shape: (2574, 10)\n",
      "Memory usage: 1.31 MB\n",
      "\n",
      "Found 1 missing value(s) in 'Labels' column. Dropping them.\n",
      "New dataset shape after dropping missing 'Labels': (2573, 10)\n"
     ]
    }
   ],
   "source": [
    "# check the dataset info and shape\n",
    "loader.check_dataset_info()"
   ]
  },
  {
   "cell_type": "code",
   "execution_count": 18,
   "id": "6d987542",
   "metadata": {},
   "outputs": [
    {
     "name": "stdout",
     "output_type": "stream",
     "text": [
      "Number of duplicate rows: 0\n",
      "No duplicate rows found.\n"
     ]
    },
    {
     "data": {
      "text/plain": [
       "np.int64(0)"
      ]
     },
     "execution_count": 18,
     "metadata": {},
     "output_type": "execute_result"
    }
   ],
   "source": [
    "# check for duplicates\n",
    "loader.check_duplicates()"
   ]
  },
  {
   "cell_type": "code",
   "execution_count": 19,
   "id": "40e5e78c",
   "metadata": {},
   "outputs": [
    {
     "name": "stdout",
     "output_type": "stream",
     "text": [
      "Distribution of the target variable:\n",
      "==================================================\n",
      "Labels\n",
      "Neutral                                 1032\n",
      "Customer care complaint                  397\n",
      "Internet or airtime bundle complaint     299\n",
      "Hate Speech                              297\n",
      "MPESA complaint                          189\n",
      "Network reliability problem              184\n",
      "Data protection and privacy concern      175\n",
      "Name: count, dtype: int64\n"
     ]
    },
    {
     "data": {
      "text/plain": [
       "Labels\n",
       "Neutral                                 1032\n",
       "Customer care complaint                  397\n",
       "Internet or airtime bundle complaint     299\n",
       "Hate Speech                              297\n",
       "MPESA complaint                          189\n",
       "Network reliability problem              184\n",
       "Data protection and privacy concern      175\n",
       "Name: count, dtype: int64"
      ]
     },
     "execution_count": 19,
     "metadata": {},
     "output_type": "execute_result"
    }
   ],
   "source": [
    "# check the distribution of the target variable\n",
    "loader.analyze_target_distribution()"
   ]
  },
  {
   "cell_type": "code",
   "execution_count": 21,
   "id": "8e6ffb7d",
   "metadata": {},
   "outputs": [
    {
     "data": {
      "application/vnd.plotly.v1+json": {
       "config": {
        "plotlyServerURL": "https://plot.ly"
       },
       "data": [
        {
         "hovertemplate": "Label=%{x}<br>Count=%{y}<extra></extra>",
         "legendgroup": "",
         "marker": {
          "color": [
           "#636EFA",
           "#EF553B",
           "#00CC96",
           "#AB63FA",
           "#FFA15A",
           "#19D3F3",
           "#FF6692"
          ],
          "pattern": {
           "shape": ""
          }
         },
         "name": "",
         "orientation": "v",
         "showlegend": false,
         "textposition": "auto",
         "type": "bar",
         "x": [
          "Neutral",
          "Customer care complaint",
          "Internet or airtime bundle complaint",
          "Hate Speech",
          "MPESA complaint",
          "Network reliability problem",
          "Data protection and privacy concern"
         ],
         "xaxis": "x",
         "y": {
          "bdata": "CASNASsBKQG9ALgArwA=",
          "dtype": "i2"
         },
         "yaxis": "y"
        }
       ],
       "layout": {
        "barmode": "relative",
        "legend": {
         "tracegroupgap": 0
        },
        "template": {
         "data": {
          "bar": [
           {
            "error_x": {
             "color": "#2a3f5f"
            },
            "error_y": {
             "color": "#2a3f5f"
            },
            "marker": {
             "line": {
              "color": "#E5ECF6",
              "width": 0.5
             },
             "pattern": {
              "fillmode": "overlay",
              "size": 10,
              "solidity": 0.2
             }
            },
            "type": "bar"
           }
          ],
          "barpolar": [
           {
            "marker": {
             "line": {
              "color": "#E5ECF6",
              "width": 0.5
             },
             "pattern": {
              "fillmode": "overlay",
              "size": 10,
              "solidity": 0.2
             }
            },
            "type": "barpolar"
           }
          ],
          "carpet": [
           {
            "aaxis": {
             "endlinecolor": "#2a3f5f",
             "gridcolor": "white",
             "linecolor": "white",
             "minorgridcolor": "white",
             "startlinecolor": "#2a3f5f"
            },
            "baxis": {
             "endlinecolor": "#2a3f5f",
             "gridcolor": "white",
             "linecolor": "white",
             "minorgridcolor": "white",
             "startlinecolor": "#2a3f5f"
            },
            "type": "carpet"
           }
          ],
          "choropleth": [
           {
            "colorbar": {
             "outlinewidth": 0,
             "ticks": ""
            },
            "type": "choropleth"
           }
          ],
          "contour": [
           {
            "colorbar": {
             "outlinewidth": 0,
             "ticks": ""
            },
            "colorscale": [
             [
              0,
              "#0d0887"
             ],
             [
              0.1111111111111111,
              "#46039f"
             ],
             [
              0.2222222222222222,
              "#7201a8"
             ],
             [
              0.3333333333333333,
              "#9c179e"
             ],
             [
              0.4444444444444444,
              "#bd3786"
             ],
             [
              0.5555555555555556,
              "#d8576b"
             ],
             [
              0.6666666666666666,
              "#ed7953"
             ],
             [
              0.7777777777777778,
              "#fb9f3a"
             ],
             [
              0.8888888888888888,
              "#fdca26"
             ],
             [
              1,
              "#f0f921"
             ]
            ],
            "type": "contour"
           }
          ],
          "contourcarpet": [
           {
            "colorbar": {
             "outlinewidth": 0,
             "ticks": ""
            },
            "type": "contourcarpet"
           }
          ],
          "heatmap": [
           {
            "colorbar": {
             "outlinewidth": 0,
             "ticks": ""
            },
            "colorscale": [
             [
              0,
              "#0d0887"
             ],
             [
              0.1111111111111111,
              "#46039f"
             ],
             [
              0.2222222222222222,
              "#7201a8"
             ],
             [
              0.3333333333333333,
              "#9c179e"
             ],
             [
              0.4444444444444444,
              "#bd3786"
             ],
             [
              0.5555555555555556,
              "#d8576b"
             ],
             [
              0.6666666666666666,
              "#ed7953"
             ],
             [
              0.7777777777777778,
              "#fb9f3a"
             ],
             [
              0.8888888888888888,
              "#fdca26"
             ],
             [
              1,
              "#f0f921"
             ]
            ],
            "type": "heatmap"
           }
          ],
          "histogram": [
           {
            "marker": {
             "pattern": {
              "fillmode": "overlay",
              "size": 10,
              "solidity": 0.2
             }
            },
            "type": "histogram"
           }
          ],
          "histogram2d": [
           {
            "colorbar": {
             "outlinewidth": 0,
             "ticks": ""
            },
            "colorscale": [
             [
              0,
              "#0d0887"
             ],
             [
              0.1111111111111111,
              "#46039f"
             ],
             [
              0.2222222222222222,
              "#7201a8"
             ],
             [
              0.3333333333333333,
              "#9c179e"
             ],
             [
              0.4444444444444444,
              "#bd3786"
             ],
             [
              0.5555555555555556,
              "#d8576b"
             ],
             [
              0.6666666666666666,
              "#ed7953"
             ],
             [
              0.7777777777777778,
              "#fb9f3a"
             ],
             [
              0.8888888888888888,
              "#fdca26"
             ],
             [
              1,
              "#f0f921"
             ]
            ],
            "type": "histogram2d"
           }
          ],
          "histogram2dcontour": [
           {
            "colorbar": {
             "outlinewidth": 0,
             "ticks": ""
            },
            "colorscale": [
             [
              0,
              "#0d0887"
             ],
             [
              0.1111111111111111,
              "#46039f"
             ],
             [
              0.2222222222222222,
              "#7201a8"
             ],
             [
              0.3333333333333333,
              "#9c179e"
             ],
             [
              0.4444444444444444,
              "#bd3786"
             ],
             [
              0.5555555555555556,
              "#d8576b"
             ],
             [
              0.6666666666666666,
              "#ed7953"
             ],
             [
              0.7777777777777778,
              "#fb9f3a"
             ],
             [
              0.8888888888888888,
              "#fdca26"
             ],
             [
              1,
              "#f0f921"
             ]
            ],
            "type": "histogram2dcontour"
           }
          ],
          "mesh3d": [
           {
            "colorbar": {
             "outlinewidth": 0,
             "ticks": ""
            },
            "type": "mesh3d"
           }
          ],
          "parcoords": [
           {
            "line": {
             "colorbar": {
              "outlinewidth": 0,
              "ticks": ""
             }
            },
            "type": "parcoords"
           }
          ],
          "pie": [
           {
            "automargin": true,
            "type": "pie"
           }
          ],
          "scatter": [
           {
            "fillpattern": {
             "fillmode": "overlay",
             "size": 10,
             "solidity": 0.2
            },
            "type": "scatter"
           }
          ],
          "scatter3d": [
           {
            "line": {
             "colorbar": {
              "outlinewidth": 0,
              "ticks": ""
             }
            },
            "marker": {
             "colorbar": {
              "outlinewidth": 0,
              "ticks": ""
             }
            },
            "type": "scatter3d"
           }
          ],
          "scattercarpet": [
           {
            "marker": {
             "colorbar": {
              "outlinewidth": 0,
              "ticks": ""
             }
            },
            "type": "scattercarpet"
           }
          ],
          "scattergeo": [
           {
            "marker": {
             "colorbar": {
              "outlinewidth": 0,
              "ticks": ""
             }
            },
            "type": "scattergeo"
           }
          ],
          "scattergl": [
           {
            "marker": {
             "colorbar": {
              "outlinewidth": 0,
              "ticks": ""
             }
            },
            "type": "scattergl"
           }
          ],
          "scattermap": [
           {
            "marker": {
             "colorbar": {
              "outlinewidth": 0,
              "ticks": ""
             }
            },
            "type": "scattermap"
           }
          ],
          "scattermapbox": [
           {
            "marker": {
             "colorbar": {
              "outlinewidth": 0,
              "ticks": ""
             }
            },
            "type": "scattermapbox"
           }
          ],
          "scatterpolar": [
           {
            "marker": {
             "colorbar": {
              "outlinewidth": 0,
              "ticks": ""
             }
            },
            "type": "scatterpolar"
           }
          ],
          "scatterpolargl": [
           {
            "marker": {
             "colorbar": {
              "outlinewidth": 0,
              "ticks": ""
             }
            },
            "type": "scatterpolargl"
           }
          ],
          "scatterternary": [
           {
            "marker": {
             "colorbar": {
              "outlinewidth": 0,
              "ticks": ""
             }
            },
            "type": "scatterternary"
           }
          ],
          "surface": [
           {
            "colorbar": {
             "outlinewidth": 0,
             "ticks": ""
            },
            "colorscale": [
             [
              0,
              "#0d0887"
             ],
             [
              0.1111111111111111,
              "#46039f"
             ],
             [
              0.2222222222222222,
              "#7201a8"
             ],
             [
              0.3333333333333333,
              "#9c179e"
             ],
             [
              0.4444444444444444,
              "#bd3786"
             ],
             [
              0.5555555555555556,
              "#d8576b"
             ],
             [
              0.6666666666666666,
              "#ed7953"
             ],
             [
              0.7777777777777778,
              "#fb9f3a"
             ],
             [
              0.8888888888888888,
              "#fdca26"
             ],
             [
              1,
              "#f0f921"
             ]
            ],
            "type": "surface"
           }
          ],
          "table": [
           {
            "cells": {
             "fill": {
              "color": "#EBF0F8"
             },
             "line": {
              "color": "white"
             }
            },
            "header": {
             "fill": {
              "color": "#C8D4E3"
             },
             "line": {
              "color": "white"
             }
            },
            "type": "table"
           }
          ]
         },
         "layout": {
          "annotationdefaults": {
           "arrowcolor": "#2a3f5f",
           "arrowhead": 0,
           "arrowwidth": 1
          },
          "autotypenumbers": "strict",
          "coloraxis": {
           "colorbar": {
            "outlinewidth": 0,
            "ticks": ""
           }
          },
          "colorscale": {
           "diverging": [
            [
             0,
             "#8e0152"
            ],
            [
             0.1,
             "#c51b7d"
            ],
            [
             0.2,
             "#de77ae"
            ],
            [
             0.3,
             "#f1b6da"
            ],
            [
             0.4,
             "#fde0ef"
            ],
            [
             0.5,
             "#f7f7f7"
            ],
            [
             0.6,
             "#e6f5d0"
            ],
            [
             0.7,
             "#b8e186"
            ],
            [
             0.8,
             "#7fbc41"
            ],
            [
             0.9,
             "#4d9221"
            ],
            [
             1,
             "#276419"
            ]
           ],
           "sequential": [
            [
             0,
             "#0d0887"
            ],
            [
             0.1111111111111111,
             "#46039f"
            ],
            [
             0.2222222222222222,
             "#7201a8"
            ],
            [
             0.3333333333333333,
             "#9c179e"
            ],
            [
             0.4444444444444444,
             "#bd3786"
            ],
            [
             0.5555555555555556,
             "#d8576b"
            ],
            [
             0.6666666666666666,
             "#ed7953"
            ],
            [
             0.7777777777777778,
             "#fb9f3a"
            ],
            [
             0.8888888888888888,
             "#fdca26"
            ],
            [
             1,
             "#f0f921"
            ]
           ],
           "sequentialminus": [
            [
             0,
             "#0d0887"
            ],
            [
             0.1111111111111111,
             "#46039f"
            ],
            [
             0.2222222222222222,
             "#7201a8"
            ],
            [
             0.3333333333333333,
             "#9c179e"
            ],
            [
             0.4444444444444444,
             "#bd3786"
            ],
            [
             0.5555555555555556,
             "#d8576b"
            ],
            [
             0.6666666666666666,
             "#ed7953"
            ],
            [
             0.7777777777777778,
             "#fb9f3a"
            ],
            [
             0.8888888888888888,
             "#fdca26"
            ],
            [
             1,
             "#f0f921"
            ]
           ]
          },
          "colorway": [
           "#636efa",
           "#EF553B",
           "#00cc96",
           "#ab63fa",
           "#FFA15A",
           "#19d3f3",
           "#FF6692",
           "#B6E880",
           "#FF97FF",
           "#FECB52"
          ],
          "font": {
           "color": "#2a3f5f"
          },
          "geo": {
           "bgcolor": "white",
           "lakecolor": "white",
           "landcolor": "#E5ECF6",
           "showlakes": true,
           "showland": true,
           "subunitcolor": "white"
          },
          "hoverlabel": {
           "align": "left"
          },
          "hovermode": "closest",
          "mapbox": {
           "style": "light"
          },
          "paper_bgcolor": "white",
          "plot_bgcolor": "#E5ECF6",
          "polar": {
           "angularaxis": {
            "gridcolor": "white",
            "linecolor": "white",
            "ticks": ""
           },
           "bgcolor": "#E5ECF6",
           "radialaxis": {
            "gridcolor": "white",
            "linecolor": "white",
            "ticks": ""
           }
          },
          "scene": {
           "xaxis": {
            "backgroundcolor": "#E5ECF6",
            "gridcolor": "white",
            "gridwidth": 2,
            "linecolor": "white",
            "showbackground": true,
            "ticks": "",
            "zerolinecolor": "white"
           },
           "yaxis": {
            "backgroundcolor": "#E5ECF6",
            "gridcolor": "white",
            "gridwidth": 2,
            "linecolor": "white",
            "showbackground": true,
            "ticks": "",
            "zerolinecolor": "white"
           },
           "zaxis": {
            "backgroundcolor": "#E5ECF6",
            "gridcolor": "white",
            "gridwidth": 2,
            "linecolor": "white",
            "showbackground": true,
            "ticks": "",
            "zerolinecolor": "white"
           }
          },
          "shapedefaults": {
           "line": {
            "color": "#2a3f5f"
           }
          },
          "ternary": {
           "aaxis": {
            "gridcolor": "white",
            "linecolor": "white",
            "ticks": ""
           },
           "baxis": {
            "gridcolor": "white",
            "linecolor": "white",
            "ticks": ""
           },
           "bgcolor": "#E5ECF6",
           "caxis": {
            "gridcolor": "white",
            "linecolor": "white",
            "ticks": ""
           }
          },
          "title": {
           "x": 0.05
          },
          "xaxis": {
           "automargin": true,
           "gridcolor": "white",
           "linecolor": "white",
           "ticks": "",
           "title": {
            "standoff": 15
           },
           "zerolinecolor": "white",
           "zerolinewidth": 2
          },
          "yaxis": {
           "automargin": true,
           "gridcolor": "white",
           "linecolor": "white",
           "ticks": "",
           "title": {
            "standoff": 15
           },
           "zerolinecolor": "white",
           "zerolinewidth": 2
          }
         }
        },
        "title": {
         "text": "Distribution of Target Variable"
        },
        "xaxis": {
         "anchor": "y",
         "domain": [
          0,
          1
         ],
         "title": {
          "text": "Label"
         }
        },
        "yaxis": {
         "anchor": "x",
         "domain": [
          0,
          1
         ],
         "title": {
          "text": "Count"
         }
        }
       }
      }
     },
     "metadata": {},
     "output_type": "display_data"
    }
   ],
   "source": [
    "# plot the distribution of the target variable\n",
    "loader.plot_target_distribution()"
   ]
  },
  {
   "cell_type": "code",
   "execution_count": 22,
   "id": "6ae0df5b",
   "metadata": {},
   "outputs": [
    {
     "name": "stdout",
     "output_type": "stream",
     "text": [
      "Dataset Summary:\n",
      "==================================================\n",
      "Shape: (2573, 10)\n",
      "Columns: 10\n",
      "Missing values: 0\n",
      "Duplicates: 0\n",
      "Memory usage: 1.40 MB\n"
     ]
    },
    {
     "data": {
      "text/plain": [
       "{'shape': (2573, 10),\n",
       " 'columns': ['Tweet ID',\n",
       "  'URL',\n",
       "  'Content',\n",
       "  'Likes',\n",
       "  'Retweets',\n",
       "  'Replies',\n",
       "  'Quotes',\n",
       "  'Views',\n",
       "  'Date',\n",
       "  'Labels'],\n",
       " 'dtypes': {'Tweet ID': dtype('float64'),\n",
       "  'URL': dtype('O'),\n",
       "  'Content': dtype('O'),\n",
       "  'Likes': dtype('int64'),\n",
       "  'Retweets': dtype('int64'),\n",
       "  'Replies': dtype('int64'),\n",
       "  'Quotes': dtype('int64'),\n",
       "  'Views': dtype('int64'),\n",
       "  'Date': dtype('O'),\n",
       "  'Labels': dtype('O')},\n",
       " 'missing_values': {'Tweet ID': 0,\n",
       "  'URL': 0,\n",
       "  'Content': 0,\n",
       "  'Likes': 0,\n",
       "  'Retweets': 0,\n",
       "  'Replies': 0,\n",
       "  'Quotes': 0,\n",
       "  'Views': 0,\n",
       "  'Date': 0,\n",
       "  'Labels': 0},\n",
       " 'duplicates': np.int64(0),\n",
       " 'memory_usage_mb': np.float64(1.402358055114746)}"
      ]
     },
     "execution_count": 22,
     "metadata": {},
     "output_type": "execute_result"
    }
   ],
   "source": [
    "# display a comprehensive summary of the dataset\n",
    "loader.get_dataset_summary()"
   ]
  },
  {
   "cell_type": "markdown",
   "id": "6a012222",
   "metadata": {},
   "source": [
    "## Feature Engineering, Data Cleaning, Preprocessing & Vectorization"
   ]
  },
  {
   "cell_type": "code",
   "execution_count": 23,
   "id": "3d2d5b0c",
   "metadata": {},
   "outputs": [
    {
     "name": "stdout",
     "output_type": "stream",
     "text": [
      "Starting feature engineering pipeline...\n",
      "==================================================\n",
      "Generating text features...\n",
      "Added features: chars, words, sentences\n",
      "Removed columns: ['Tweet ID', 'URL']\n",
      "Cleaning text data...\n",
      "Text cleaning completed.\n",
      "Tokenizing text...\n",
      "Tokenization completed.\n",
      "Lemmatizing text...\n",
      "Lemmatization completed.\n",
      "Creating processed text...\n",
      "Processed text creation completed.\n",
      "Handling missing values in 'Labels' column...\n",
      "Removed 1 rows with 'unknown' labels.\n",
      "Processed data saved to data/cleaned_safaricom_data.csv\n",
      "Prepared data for modeling:\n",
      "Features shape: (2573, 12)\n",
      "Target shape: (2573,)\n",
      "Splitting data with test_size=0.2, random_state=42\n",
      "Training set shape: (2058, 12)\n",
      "Testing set shape: (515, 12)\n",
      "Vectorizing text using COUNT vectorizer...\n",
      "Training features shape: (2058, 5000)\n",
      "Testing features shape: (515, 5000)\n",
      "Vocabulary size: 5000\n",
      "Feature engineering pipeline completed!\n",
      "==================================================\n"
     ]
    },
    {
     "name": "stderr",
     "output_type": "stream",
     "text": [
      "/home/patrick/Desktop/online_hate-speech_and_complaints_detection/data_prep/feature_engineering.py:221: FutureWarning:\n",
      "\n",
      "A value is trying to be set on a copy of a DataFrame or Series through chained assignment using an inplace method.\n",
      "The behavior will change in pandas 3.0. This inplace method will never work because the intermediate object on which we are setting values always behaves as a copy.\n",
      "\n",
      "For example, when doing 'df[col].method(value, inplace=True)', try using 'df.method({col: value}, inplace=True)' or df[col] = df[col].method(value) instead, to perform the operation inplace on the original object.\n",
      "\n",
      "\n",
      "\n"
     ]
    }
   ],
   "source": [
    "# use the FeatureEngineering class for creating new features, data cleaning, data preprocessing and vectorization\n",
    "from data_prep.feature_engineering import FeatureEngineering\n",
    "fe = FeatureEngineering(data)\n",
    "X_train_vec, X_test_vec, y_train, y_test, vectorizer = fe.process_pipeline()"
   ]
  },
  {
   "cell_type": "code",
   "execution_count": 24,
   "id": "e2b5f734",
   "metadata": {},
   "outputs": [],
   "source": [
    "# Ensure that fe.processed_data is not None before saving\n",
    "if fe.data is None:\n",
    "    raise ValueError(\"Processed data is not available. Please ensure the preprocessing pipeline has been run successfully.\")\n",
    "else:\n",
    "    safaricom_df = fe.data.copy()\n",
    "\n",
    "safaricom_df.to_csv('data/cleaned_safaricom_data.csv', index=False)"
   ]
  },
  {
   "cell_type": "markdown",
   "id": "6c49b3e1",
   "metadata": {},
   "source": [
    "## Modeling"
   ]
  },
  {
   "cell_type": "code",
   "execution_count": 25,
   "id": "61a9ccf8",
   "metadata": {},
   "outputs": [
    {
     "name": "stdout",
     "output_type": "stream",
     "text": [
      "Training and evaluating all models...\n",
      "==================================================\n",
      "Training Logistic Regression model...\n",
      "Logistic Regression model trained successfully.\n",
      "Evaluating Logistic Regression...\n",
      "Logistic Regression Results:\n",
      "Accuracy: 0.6214\n",
      "Precision: 0.6274\n",
      "Recall: 0.6214\n",
      "F1-Score: 0.6201\n",
      "\n",
      "Classification Report:\n",
      "                                      precision    recall  f1-score   support\n",
      "\n",
      "             Customer care complaint       0.42      0.47      0.45        72\n",
      " Data protection and privacy concern       0.55      0.31      0.39        39\n",
      "                         Hate Speech       0.43      0.53      0.47        51\n",
      "Internet or airtime bundle complaint       0.67      0.69      0.68        55\n",
      "                     MPESA complaint       0.67      0.79      0.72        43\n",
      "         Network reliability problem       0.68      0.55      0.61        42\n",
      "                             Neutral       0.73      0.71      0.72       213\n",
      "\n",
      "                            accuracy                           0.62       515\n",
      "                           macro avg       0.59      0.58      0.58       515\n",
      "                        weighted avg       0.63      0.62      0.62       515\n",
      "\n",
      "Training Naive Bayes model...\n",
      "Naive Bayes model trained successfully.\n",
      "Evaluating Naive Bayes...\n",
      "Naive Bayes Results:\n",
      "Accuracy: 0.5961\n",
      "Precision: 0.6115\n",
      "Recall: 0.5961\n",
      "F1-Score: 0.5663\n",
      "\n",
      "Classification Report:\n",
      "                                      precision    recall  f1-score   support\n",
      "\n",
      "             Customer care complaint       0.46      0.57      0.51        72\n",
      " Data protection and privacy concern       0.62      0.13      0.21        39\n",
      "                         Hate Speech       0.53      0.37      0.44        51\n",
      "Internet or airtime bundle complaint       0.61      0.65      0.63        55\n",
      "                     MPESA complaint       0.70      0.49      0.58        43\n",
      "         Network reliability problem       0.80      0.19      0.31        42\n",
      "                             Neutral       0.63      0.83      0.71       213\n",
      "\n",
      "                            accuracy                           0.60       515\n",
      "                           macro avg       0.62      0.46      0.48       515\n",
      "                        weighted avg       0.61      0.60      0.57       515\n",
      "\n",
      "Training Random Forest model...\n",
      "Random Forest model trained successfully.\n",
      "Evaluating Random Forest...\n",
      "Random Forest Results:\n",
      "Accuracy: 0.6214\n",
      "Precision: 0.6346\n",
      "Recall: 0.6214\n",
      "F1-Score: 0.5905\n",
      "\n",
      "Classification Report:\n",
      "                                      precision    recall  f1-score   support\n",
      "\n",
      "             Customer care complaint       0.56      0.33      0.42        72\n",
      " Data protection and privacy concern       0.86      0.15      0.26        39\n",
      "                         Hate Speech       0.63      0.37      0.47        51\n",
      "Internet or airtime bundle complaint       0.60      0.78      0.68        55\n",
      "                     MPESA complaint       0.62      0.74      0.67        43\n",
      "         Network reliability problem       0.67      0.38      0.48        42\n",
      "                             Neutral       0.63      0.85      0.72       213\n",
      "\n",
      "                            accuracy                           0.62       515\n",
      "                           macro avg       0.65      0.52      0.53       515\n",
      "                        weighted avg       0.63      0.62      0.59       515\n",
      "\n",
      "\n",
      "Best model: Logistic Regression (F1-Score: 0.6201)\n"
     ]
    }
   ],
   "source": [
    "# use the Modeling() class to train and evaluate all models\n",
    "from data_prep.modeling import Modeling\n",
    "modeler = Modeling()\n",
    "results = modeler.train_and_evaluate_all_models(X_train_vec, y_train, X_test_vec, y_test)"
   ]
  },
  {
   "cell_type": "code",
   "execution_count": 26,
   "id": "490cfd11",
   "metadata": {},
   "outputs": [
    {
     "name": "stdout",
     "output_type": "stream",
     "text": [
      "Model Comparison:\n",
      "==================================================\n",
      "              Model  accuracy  precision  recall  f1_score\n",
      "Logistic Regression    0.6214     0.6274  0.6214    0.6201\n",
      "        Naive Bayes    0.5961     0.6115  0.5961    0.5663\n",
      "      Random Forest    0.6214     0.6346  0.6214    0.5905\n"
     ]
    },
    {
     "data": {
      "text/html": [
       "<div>\n",
       "<style scoped>\n",
       "    .dataframe tbody tr th:only-of-type {\n",
       "        vertical-align: middle;\n",
       "    }\n",
       "\n",
       "    .dataframe tbody tr th {\n",
       "        vertical-align: top;\n",
       "    }\n",
       "\n",
       "    .dataframe thead th {\n",
       "        text-align: right;\n",
       "    }\n",
       "</style>\n",
       "<table border=\"1\" class=\"dataframe\">\n",
       "  <thead>\n",
       "    <tr style=\"text-align: right;\">\n",
       "      <th></th>\n",
       "      <th>Model</th>\n",
       "      <th>accuracy</th>\n",
       "      <th>precision</th>\n",
       "      <th>recall</th>\n",
       "      <th>f1_score</th>\n",
       "    </tr>\n",
       "  </thead>\n",
       "  <tbody>\n",
       "    <tr>\n",
       "      <th>0</th>\n",
       "      <td>Logistic Regression</td>\n",
       "      <td>0.621359</td>\n",
       "      <td>0.627435</td>\n",
       "      <td>0.621359</td>\n",
       "      <td>0.620130</td>\n",
       "    </tr>\n",
       "    <tr>\n",
       "      <th>1</th>\n",
       "      <td>Naive Bayes</td>\n",
       "      <td>0.596117</td>\n",
       "      <td>0.611531</td>\n",
       "      <td>0.596117</td>\n",
       "      <td>0.566339</td>\n",
       "    </tr>\n",
       "    <tr>\n",
       "      <th>2</th>\n",
       "      <td>Random Forest</td>\n",
       "      <td>0.621359</td>\n",
       "      <td>0.634587</td>\n",
       "      <td>0.621359</td>\n",
       "      <td>0.590462</td>\n",
       "    </tr>\n",
       "  </tbody>\n",
       "</table>\n",
       "</div>"
      ],
      "text/plain": [
       "                 Model  accuracy  precision    recall  f1_score\n",
       "0  Logistic Regression  0.621359   0.627435  0.621359  0.620130\n",
       "1          Naive Bayes  0.596117   0.611531  0.596117  0.566339\n",
       "2        Random Forest  0.621359   0.634587  0.621359  0.590462"
      ]
     },
     "execution_count": 26,
     "metadata": {},
     "output_type": "execute_result"
    }
   ],
   "source": [
    "# compare all the models\n",
    "modeler.compare_models()"
   ]
  },
  {
   "cell_type": "code",
   "execution_count": 12,
   "id": "99842bc5",
   "metadata": {},
   "outputs": [],
   "source": [
    "# # cross-validation of the model\n",
    "# # Initialize the logistic regression model\n",
    "# lr_model = LogisticRegression(max_iter=1000, random_state=42)\n",
    "\n",
    "# # Use the Modeling class's cross_validate_model method for cross-validation\n",
    "# cv_results = modeler.cross_validate_model(lr_model, X_train_vec, y_train, cv=5)\n",
    "\n",
    "# print(\"Logistic Regression 5-fold cross-validation results:\", cv_results)"
   ]
  },
  {
   "cell_type": "code",
   "execution_count": 27,
   "id": "6a1e849a",
   "metadata": {},
   "outputs": [
    {
     "data": {
      "image/png": "[encoded data removed]",
      "text/plain": [
       "<Figure size 1000x800 with 2 Axes>"
      ]
     },
     "metadata": {},
     "output_type": "display_data"
    }
   ],
   "source": [
    "# plot the confusion matrix for the best model\n",
    "modeler.plot_confusion_matrix()"
   ]
  },
  {
   "cell_type": "code",
   "execution_count": 28,
   "id": "5e942abd",
   "metadata": {},
   "outputs": [
    {
     "name": "stdout",
     "output_type": "stream",
     "text": [
      "Testing predictions on sample tweets:\n",
      "1. Tweet: Safaricom network is very slow today, I can't browse properly\n",
      "   Prediction: Network reliability problem\n",
      "\n",
      "2. Tweet: There have been so many abductions in the country and I bet Safaricom is sharing our information\n",
      "   Prediction: Data protection and privacy concern\n",
      "\n",
      "3. Tweet: Thank you Safaricom for the great service today\n",
      "   Prediction: Neutral\n",
      "\n",
      "4. Tweet: My MPESA transaction failed again, this is frustrating\n",
      "   Prediction: MPESA complaint\n",
      "\n"
     ]
    }
   ],
   "source": [
    "# predict on some new tweets\n",
    "test_tweets = [\n",
    "    \"Safaricom network is very slow today, I can't browse properly\",\n",
    "    \"There have been so many abductions in the country and I bet Safaricom is sharing our information\",\n",
    "    \"Thank you Safaricom for the great service today\",\n",
    "    \"My MPESA transaction failed again, this is frustrating\"\n",
    "]\n",
    "    \n",
    "print(\"Testing predictions on sample tweets:\")\n",
    "for i, tweet in enumerate(test_tweets, 1):\n",
    "    prediction = modeler.predict_new_text(tweet, vectorizer)\n",
    "    print(f\"{i}. Tweet: {tweet}\")\n",
    "    print(f\"   Prediction: {prediction}\")\n",
    "    print()"
   ]
  },
  {
   "cell_type": "markdown",
   "id": "701b5ff2",
   "metadata": {},
   "source": []
  }
 ],
 "metadata": {
  "kernelspec": {
   "display_name": "venv",
   "language": "python",
   "name": "python3"
  },
  "language_info": {
   "codemirror_mode": {
    "name": "ipython",
    "version": 3
   },
   "file_extension": ".py",
   "mimetype": "text/x-python",
   "name": "python",
   "nbconvert_exporter": "python",
   "pygments_lexer": "ipython3",
   "version": "3.12.3"
  }
 },
 "nbformat": 4,
 "nbformat_minor": 5
}
