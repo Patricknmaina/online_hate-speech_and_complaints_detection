{
 "cells": [
  {
   "cell_type": "markdown",
   "id": "08b54b47",
   "metadata": {},
   "source": [
    "# Safaricom Tweets Classification for complaints & Hate Speech Detection"
   ]
  },
  {
   "cell_type": "code",
   "execution_count": 1,
   "id": "b18716b9",
   "metadata": {},
   "outputs": [],
   "source": [
    "# import libraries\n",
    "import pandas as pd\n",
    "import numpy as np\n",
    "import matplotlib.pyplot as plt\n",
    "import seaborn as sns\n",
    "import plotly.express as px\n",
    "from sklearn.feature_extraction.text import CountVectorizer\n",
    "from sklearn.model_selection import train_test_split\n",
    "from sklearn.linear_model import LogisticRegression\n",
    "from sklearn.naive_bayes import MultinomialNB\n",
    "from sklearn.metrics import classification_report, accuracy_score, precision_score, recall_score, f1_score\n",
    "\n",
    "# nltk libraries\n",
    "import nltk\n",
    "nltk.download('punkt_tab', quiet=True)\n",
    "nltk.download('stopwords', quiet=True)\n",
    "nltk.download('wordnet', quiet=True)\n",
    "from nltk.corpus import stopwords\n",
    "from nltk.stem import WordNetLemmatizer\n",
    "from nltk.tokenize import word_tokenize\n",
    "import re"
   ]
  },
  {
   "cell_type": "markdown",
   "id": "12e4553d",
   "metadata": {},
   "source": [
    "## Load the dataset"
   ]
  },
  {
   "cell_type": "code",
   "execution_count": 2,
   "id": "0e38c33e",
   "metadata": {},
   "outputs": [
    {
     "data": {
      "text/html": [
       "<div>\n",
       "<style scoped>\n",
       "    .dataframe tbody tr th:only-of-type {\n",
       "        vertical-align: middle;\n",
       "    }\n",
       "\n",
       "    .dataframe tbody tr th {\n",
       "        vertical-align: top;\n",
       "    }\n",
       "\n",
       "    .dataframe thead th {\n",
       "        text-align: right;\n",
       "    }\n",
       "</style>\n",
       "<table border=\"1\" class=\"dataframe\">\n",
       "  <thead>\n",
       "    <tr style=\"text-align: right;\">\n",
       "      <th></th>\n",
       "      <th>Tweet ID</th>\n",
       "      <th>URL</th>\n",
       "      <th>Content</th>\n",
       "      <th>Likes</th>\n",
       "      <th>Retweets</th>\n",
       "      <th>Replies</th>\n",
       "      <th>Quotes</th>\n",
       "      <th>Views</th>\n",
       "      <th>Date</th>\n",
       "      <th>Labels</th>\n",
       "    </tr>\n",
       "  </thead>\n",
       "  <tbody>\n",
       "    <tr>\n",
       "      <th>0</th>\n",
       "      <td>1.950000e+18</td>\n",
       "      <td>https://x.com/MawiaDorothy/status/194955836816...</td>\n",
       "      <td>How comes I have overdue debts.. na sijakopa.....</td>\n",
       "      <td>1</td>\n",
       "      <td>0</td>\n",
       "      <td>0</td>\n",
       "      <td>0</td>\n",
       "      <td>21</td>\n",
       "      <td>July 27, 2025 at 07:51 PM</td>\n",
       "      <td>Customer care complaint</td>\n",
       "    </tr>\n",
       "    <tr>\n",
       "      <th>1</th>\n",
       "      <td>1.950000e+18</td>\n",
       "      <td>https://x.com/KruiGeofrey/status/1949310365839...</td>\n",
       "      <td>@Monty_Hasashi @Safaricom 😂😂</td>\n",
       "      <td>0</td>\n",
       "      <td>0</td>\n",
       "      <td>0</td>\n",
       "      <td>0</td>\n",
       "      <td>22</td>\n",
       "      <td>July 27, 2025 at 03:26 AM</td>\n",
       "      <td>Neutral</td>\n",
       "    </tr>\n",
       "    <tr>\n",
       "      <th>2</th>\n",
       "      <td>1.950000e+18</td>\n",
       "      <td>https://x.com/martozgicha/status/1949022872242...</td>\n",
       "      <td>@safaricom weka data ,wacheni jokes...Thank yo...</td>\n",
       "      <td>0</td>\n",
       "      <td>0</td>\n",
       "      <td>0</td>\n",
       "      <td>0</td>\n",
       "      <td>6</td>\n",
       "      <td>July 26, 2025 at 08:23 AM</td>\n",
       "      <td>Internet or airtime bundle complaint</td>\n",
       "    </tr>\n",
       "    <tr>\n",
       "      <th>3</th>\n",
       "      <td>1.950000e+18</td>\n",
       "      <td>https://x.com/liyansmutembei/status/1948476756...</td>\n",
       "      <td>@SafaricomPLC Hello @SafaricomPLC   @safaricom...</td>\n",
       "      <td>0</td>\n",
       "      <td>0</td>\n",
       "      <td>0</td>\n",
       "      <td>0</td>\n",
       "      <td>47</td>\n",
       "      <td>July 24, 2025 at 08:13 PM</td>\n",
       "      <td>Customer care complaint</td>\n",
       "    </tr>\n",
       "    <tr>\n",
       "      <th>4</th>\n",
       "      <td>1.950000e+18</td>\n",
       "      <td>https://x.com/SsirNixoNdugire/status/194833516...</td>\n",
       "      <td>@PeterNdegwa_ @SafaricomPLC @Safaricom_Care @S...</td>\n",
       "      <td>0</td>\n",
       "      <td>0</td>\n",
       "      <td>0</td>\n",
       "      <td>0</td>\n",
       "      <td>5</td>\n",
       "      <td>July 24, 2025 at 10:51 AM</td>\n",
       "      <td>Customer care complaint</td>\n",
       "    </tr>\n",
       "  </tbody>\n",
       "</table>\n",
       "</div>"
      ],
      "text/plain": [
       "       Tweet ID                                                URL  \\\n",
       "0  1.950000e+18  https://x.com/MawiaDorothy/status/194955836816...   \n",
       "1  1.950000e+18  https://x.com/KruiGeofrey/status/1949310365839...   \n",
       "2  1.950000e+18  https://x.com/martozgicha/status/1949022872242...   \n",
       "3  1.950000e+18  https://x.com/liyansmutembei/status/1948476756...   \n",
       "4  1.950000e+18  https://x.com/SsirNixoNdugire/status/194833516...   \n",
       "\n",
       "                                             Content  Likes  Retweets  \\\n",
       "0  How comes I have overdue debts.. na sijakopa.....      1         0   \n",
       "1                       @Monty_Hasashi @Safaricom 😂😂      0         0   \n",
       "2  @safaricom weka data ,wacheni jokes...Thank yo...      0         0   \n",
       "3  @SafaricomPLC Hello @SafaricomPLC   @safaricom...      0         0   \n",
       "4  @PeterNdegwa_ @SafaricomPLC @Safaricom_Care @S...      0         0   \n",
       "\n",
       "   Replies  Quotes  Views                       Date  \\\n",
       "0        0       0     21  July 27, 2025 at 07:51 PM   \n",
       "1        0       0     22  July 27, 2025 at 03:26 AM   \n",
       "2        0       0      6  July 26, 2025 at 08:23 AM   \n",
       "3        0       0     47  July 24, 2025 at 08:13 PM   \n",
       "4        0       0      5  July 24, 2025 at 10:51 AM   \n",
       "\n",
       "                                 Labels  \n",
       "0               Customer care complaint  \n",
       "1                               Neutral  \n",
       "2  Internet or airtime bundle complaint  \n",
       "3               Customer care complaint  \n",
       "4               Customer care complaint  "
      ]
     },
     "execution_count": 2,
     "metadata": {},
     "output_type": "execute_result"
    }
   ],
   "source": [
    "# load dataset\n",
    "safaricom_df = pd.read_csv('data/safaricom_data.csv')\n",
    "safaricom_df.head()"
   ]
  },
  {
   "cell_type": "code",
   "execution_count": 3,
   "id": "748e9366",
   "metadata": {},
   "outputs": [
    {
     "name": "stdout",
     "output_type": "stream",
     "text": [
      "<class 'pandas.core.frame.DataFrame'>\n",
      "RangeIndex: 2574 entries, 0 to 2573\n",
      "Data columns (total 10 columns):\n",
      " #   Column    Non-Null Count  Dtype  \n",
      "---  ------    --------------  -----  \n",
      " 0   Tweet ID  2574 non-null   float64\n",
      " 1   URL       2574 non-null   object \n",
      " 2   Content   2574 non-null   object \n",
      " 3   Likes     2574 non-null   int64  \n",
      " 4   Retweets  2574 non-null   int64  \n",
      " 5   Replies   2574 non-null   int64  \n",
      " 6   Quotes    2574 non-null   int64  \n",
      " 7   Views     2574 non-null   int64  \n",
      " 8   Date      2574 non-null   object \n",
      " 9   Labels    2573 non-null   object \n",
      "dtypes: float64(1), int64(5), object(4)\n",
      "memory usage: 201.2+ KB\n",
      "None\n",
      "\n",
      "Dataset shape:\n",
      " (2574, 10)\n"
     ]
    }
   ],
   "source": [
    "# check the dataset info and shape\n",
    "print(safaricom_df.info())\n",
    "print(\"\\nDataset shape:\\n\", safaricom_df.shape)"
   ]
  },
  {
   "cell_type": "code",
   "execution_count": 4,
   "id": "6d987542",
   "metadata": {},
   "outputs": [
    {
     "data": {
      "text/plain": [
       "np.int64(0)"
      ]
     },
     "execution_count": 4,
     "metadata": {},
     "output_type": "execute_result"
    }
   ],
   "source": [
    "# check for duplicates\n",
    "safaricom_df.duplicated().sum()"
   ]
  },
  {
   "cell_type": "code",
   "execution_count": 31,
   "id": "40e5e78c",
   "metadata": {},
   "outputs": [
    {
     "name": "stdout",
     "output_type": "stream",
     "text": [
      "Distribution of the target variable:\n",
      " Labels\n",
      "Neutral                                 1032\n",
      "Customer care complaint                  397\n",
      "Internet or airtime bundle complaint     299\n",
      "Hate Speech                              297\n",
      "MPESA complaint                          189\n",
      "Network reliability problem              184\n",
      "Data protection and privacy concern      175\n",
      "Name: count, dtype: int64\n"
     ]
    },
    {
     "data": {
      "application/vnd.plotly.v1+json": {
       "config": {
        "plotlyServerURL": "https://plot.ly"
       },
       "data": [
        {
         "hovertemplate": "Label=%{x}<br>Count=%{y}<extra></extra>",
         "legendgroup": "",
         "marker": {
          "color": [
           "#636EFA",
           "#EF553B",
           "#00CC96",
           "#AB63FA",
           "#FFA15A",
           "#19D3F3",
           "#FF6692"
          ],
          "pattern": {
           "shape": ""
          }
         },
         "name": "",
         "orientation": "v",
         "showlegend": false,
         "textposition": "auto",
         "type": "bar",
         "x": [
          "Neutral",
          "Customer care complaint",
          "Internet or airtime bundle complaint",
          "Hate Speech",
          "MPESA complaint",
          "Network reliability problem",
          "Data protection and privacy concern"
         ],
         "xaxis": "x",
         "y": {
          "bdata": "CASNASsBKQG9ALgArwA=",
          "dtype": "i2"
         },
         "yaxis": "y"
        }
       ],
       "layout": {
        "barmode": "relative",
        "legend": {
         "tracegroupgap": 0
        },
        "template": {
         "data": {
          "bar": [
           {
            "error_x": {
             "color": "#2a3f5f"
            },
            "error_y": {
             "color": "#2a3f5f"
            },
            "marker": {
             "line": {
              "color": "#E5ECF6",
              "width": 0.5
             },
             "pattern": {
              "fillmode": "overlay",
              "size": 10,
              "solidity": 0.2
             }
            },
            "type": "bar"
           }
          ],
          "barpolar": [
           {
            "marker": {
             "line": {
              "color": "#E5ECF6",
              "width": 0.5
             },
             "pattern": {
              "fillmode": "overlay",
              "size": 10,
              "solidity": 0.2
             }
            },
            "type": "barpolar"
           }
          ],
          "carpet": [
           {
            "aaxis": {
             "endlinecolor": "#2a3f5f",
             "gridcolor": "white",
             "linecolor": "white",
             "minorgridcolor": "white",
             "startlinecolor": "#2a3f5f"
            },
            "baxis": {
             "endlinecolor": "#2a3f5f",
             "gridcolor": "white",
             "linecolor": "white",
             "minorgridcolor": "white",
             "startlinecolor": "#2a3f5f"
            },
            "type": "carpet"
           }
          ],
          "choropleth": [
           {
            "colorbar": {
             "outlinewidth": 0,
             "ticks": ""
            },
            "type": "choropleth"
           }
          ],
          "contour": [
           {
            "colorbar": {
             "outlinewidth": 0,
             "ticks": ""
            },
            "colorscale": [
             [
              0,
              "#0d0887"
             ],
             [
              0.1111111111111111,
              "#46039f"
             ],
             [
              0.2222222222222222,
              "#7201a8"
             ],
             [
              0.3333333333333333,
              "#9c179e"
             ],
             [
              0.4444444444444444,
              "#bd3786"
             ],
             [
              0.5555555555555556,
              "#d8576b"
             ],
             [
              0.6666666666666666,
              "#ed7953"
             ],
             [
              0.7777777777777778,
              "#fb9f3a"
             ],
             [
              0.8888888888888888,
              "#fdca26"
             ],
             [
              1,
              "#f0f921"
             ]
            ],
            "type": "contour"
           }
          ],
          "contourcarpet": [
           {
            "colorbar": {
             "outlinewidth": 0,
             "ticks": ""
            },
            "type": "contourcarpet"
           }
          ],
          "heatmap": [
           {
            "colorbar": {
             "outlinewidth": 0,
             "ticks": ""
            },
            "colorscale": [
             [
              0,
              "#0d0887"
             ],
             [
              0.1111111111111111,
              "#46039f"
             ],
             [
              0.2222222222222222,
              "#7201a8"
             ],
             [
              0.3333333333333333,
              "#9c179e"
             ],
             [
              0.4444444444444444,
              "#bd3786"
             ],
             [
              0.5555555555555556,
              "#d8576b"
             ],
             [
              0.6666666666666666,
              "#ed7953"
             ],
             [
              0.7777777777777778,
              "#fb9f3a"
             ],
             [
              0.8888888888888888,
              "#fdca26"
             ],
             [
              1,
              "#f0f921"
             ]
            ],
            "type": "heatmap"
           }
          ],
          "histogram": [
           {
            "marker": {
             "pattern": {
              "fillmode": "overlay",
              "size": 10,
              "solidity": 0.2
             }
            },
            "type": "histogram"
           }
          ],
          "histogram2d": [
           {
            "colorbar": {
             "outlinewidth": 0,
             "ticks": ""
            },
            "colorscale": [
             [
              0,
              "#0d0887"
             ],
             [
              0.1111111111111111,
              "#46039f"
             ],
             [
              0.2222222222222222,
              "#7201a8"
             ],
             [
              0.3333333333333333,
              "#9c179e"
             ],
             [
              0.4444444444444444,
              "#bd3786"
             ],
             [
              0.5555555555555556,
              "#d8576b"
             ],
             [
              0.6666666666666666,
              "#ed7953"
             ],
             [
              0.7777777777777778,
              "#fb9f3a"
             ],
             [
              0.8888888888888888,
              "#fdca26"
             ],
             [
              1,
              "#f0f921"
             ]
            ],
            "type": "histogram2d"
           }
          ],
          "histogram2dcontour": [
           {
            "colorbar": {
             "outlinewidth": 0,
             "ticks": ""
            },
            "colorscale": [
             [
              0,
              "#0d0887"
             ],
             [
              0.1111111111111111,
              "#46039f"
             ],
             [
              0.2222222222222222,
              "#7201a8"
             ],
             [
              0.3333333333333333,
              "#9c179e"
             ],
             [
              0.4444444444444444,
              "#bd3786"
             ],
             [
              0.5555555555555556,
              "#d8576b"
             ],
             [
              0.6666666666666666,
              "#ed7953"
             ],
             [
              0.7777777777777778,
              "#fb9f3a"
             ],
             [
              0.8888888888888888,
              "#fdca26"
             ],
             [
              1,
              "#f0f921"
             ]
            ],
            "type": "histogram2dcontour"
           }
          ],
          "mesh3d": [
           {
            "colorbar": {
             "outlinewidth": 0,
             "ticks": ""
            },
            "type": "mesh3d"
           }
          ],
          "parcoords": [
           {
            "line": {
             "colorbar": {
              "outlinewidth": 0,
              "ticks": ""
             }
            },
            "type": "parcoords"
           }
          ],
          "pie": [
           {
            "automargin": true,
            "type": "pie"
           }
          ],
          "scatter": [
           {
            "fillpattern": {
             "fillmode": "overlay",
             "size": 10,
             "solidity": 0.2
            },
            "type": "scatter"
           }
          ],
          "scatter3d": [
           {
            "line": {
             "colorbar": {
              "outlinewidth": 0,
              "ticks": ""
             }
            },
            "marker": {
             "colorbar": {
              "outlinewidth": 0,
              "ticks": ""
             }
            },
            "type": "scatter3d"
           }
          ],
          "scattercarpet": [
           {
            "marker": {
             "colorbar": {
              "outlinewidth": 0,
              "ticks": ""
             }
            },
            "type": "scattercarpet"
           }
          ],
          "scattergeo": [
           {
            "marker": {
             "colorbar": {
              "outlinewidth": 0,
              "ticks": ""
             }
            },
            "type": "scattergeo"
           }
          ],
          "scattergl": [
           {
            "marker": {
             "colorbar": {
              "outlinewidth": 0,
              "ticks": ""
             }
            },
            "type": "scattergl"
           }
          ],
          "scattermap": [
           {
            "marker": {
             "colorbar": {
              "outlinewidth": 0,
              "ticks": ""
             }
            },
            "type": "scattermap"
           }
          ],
          "scattermapbox": [
           {
            "marker": {
             "colorbar": {
              "outlinewidth": 0,
              "ticks": ""
             }
            },
            "type": "scattermapbox"
           }
          ],
          "scatterpolar": [
           {
            "marker": {
             "colorbar": {
              "outlinewidth": 0,
              "ticks": ""
             }
            },
            "type": "scatterpolar"
           }
          ],
          "scatterpolargl": [
           {
            "marker": {
             "colorbar": {
              "outlinewidth": 0,
              "ticks": ""
             }
            },
            "type": "scatterpolargl"
           }
          ],
          "scatterternary": [
           {
            "marker": {
             "colorbar": {
              "outlinewidth": 0,
              "ticks": ""
             }
            },
            "type": "scatterternary"
           }
          ],
          "surface": [
           {
            "colorbar": {
             "outlinewidth": 0,
             "ticks": ""
            },
            "colorscale": [
             [
              0,
              "#0d0887"
             ],
             [
              0.1111111111111111,
              "#46039f"
             ],
             [
              0.2222222222222222,
              "#7201a8"
             ],
             [
              0.3333333333333333,
              "#9c179e"
             ],
             [
              0.4444444444444444,
              "#bd3786"
             ],
             [
              0.5555555555555556,
              "#d8576b"
             ],
             [
              0.6666666666666666,
              "#ed7953"
             ],
             [
              0.7777777777777778,
              "#fb9f3a"
             ],
             [
              0.8888888888888888,
              "#fdca26"
             ],
             [
              1,
              "#f0f921"
             ]
            ],
            "type": "surface"
           }
          ],
          "table": [
           {
            "cells": {
             "fill": {
              "color": "#EBF0F8"
             },
             "line": {
              "color": "white"
             }
            },
            "header": {
             "fill": {
              "color": "#C8D4E3"
             },
             "line": {
              "color": "white"
             }
            },
            "type": "table"
           }
          ]
         },
         "layout": {
          "annotationdefaults": {
           "arrowcolor": "#2a3f5f",
           "arrowhead": 0,
           "arrowwidth": 1
          },
          "autotypenumbers": "strict",
          "coloraxis": {
           "colorbar": {
            "outlinewidth": 0,
            "ticks": ""
           }
          },
          "colorscale": {
           "diverging": [
            [
             0,
             "#8e0152"
            ],
            [
             0.1,
             "#c51b7d"
            ],
            [
             0.2,
             "#de77ae"
            ],
            [
             0.3,
             "#f1b6da"
            ],
            [
             0.4,
             "#fde0ef"
            ],
            [
             0.5,
             "#f7f7f7"
            ],
            [
             0.6,
             "#e6f5d0"
            ],
            [
             0.7,
             "#b8e186"
            ],
            [
             0.8,
             "#7fbc41"
            ],
            [
             0.9,
             "#4d9221"
            ],
            [
             1,
             "#276419"
            ]
           ],
           "sequential": [
            [
             0,
             "#0d0887"
            ],
            [
             0.1111111111111111,
             "#46039f"
            ],
            [
             0.2222222222222222,
             "#7201a8"
            ],
            [
             0.3333333333333333,
             "#9c179e"
            ],
            [
             0.4444444444444444,
             "#bd3786"
            ],
            [
             0.5555555555555556,
             "#d8576b"
            ],
            [
             0.6666666666666666,
             "#ed7953"
            ],
            [
             0.7777777777777778,
             "#fb9f3a"
            ],
            [
             0.8888888888888888,
             "#fdca26"
            ],
            [
             1,
             "#f0f921"
            ]
           ],
           "sequentialminus": [
            [
             0,
             "#0d0887"
            ],
            [
             0.1111111111111111,
             "#46039f"
            ],
            [
             0.2222222222222222,
             "#7201a8"
            ],
            [
             0.3333333333333333,
             "#9c179e"
            ],
            [
             0.4444444444444444,
             "#bd3786"
            ],
            [
             0.5555555555555556,
             "#d8576b"
            ],
            [
             0.6666666666666666,
             "#ed7953"
            ],
            [
             0.7777777777777778,
             "#fb9f3a"
            ],
            [
             0.8888888888888888,
             "#fdca26"
            ],
            [
             1,
             "#f0f921"
            ]
           ]
          },
          "colorway": [
           "#636efa",
           "#EF553B",
           "#00cc96",
           "#ab63fa",
           "#FFA15A",
           "#19d3f3",
           "#FF6692",
           "#B6E880",
           "#FF97FF",
           "#FECB52"
          ],
          "font": {
           "color": "#2a3f5f"
          },
          "geo": {
           "bgcolor": "white",
           "lakecolor": "white",
           "landcolor": "#E5ECF6",
           "showlakes": true,
           "showland": true,
           "subunitcolor": "white"
          },
          "hoverlabel": {
           "align": "left"
          },
          "hovermode": "closest",
          "mapbox": {
           "style": "light"
          },
          "paper_bgcolor": "white",
          "plot_bgcolor": "#E5ECF6",
          "polar": {
           "angularaxis": {
            "gridcolor": "white",
            "linecolor": "white",
            "ticks": ""
           },
           "bgcolor": "#E5ECF6",
           "radialaxis": {
            "gridcolor": "white",
            "linecolor": "white",
            "ticks": ""
           }
          },
          "scene": {
           "xaxis": {
            "backgroundcolor": "#E5ECF6",
            "gridcolor": "white",
            "gridwidth": 2,
            "linecolor": "white",
            "showbackground": true,
            "ticks": "",
            "zerolinecolor": "white"
           },
           "yaxis": {
            "backgroundcolor": "#E5ECF6",
            "gridcolor": "white",
            "gridwidth": 2,
            "linecolor": "white",
            "showbackground": true,
            "ticks": "",
            "zerolinecolor": "white"
           },
           "zaxis": {
            "backgroundcolor": "#E5ECF6",
            "gridcolor": "white",
            "gridwidth": 2,
            "linecolor": "white",
            "showbackground": true,
            "ticks": "",
            "zerolinecolor": "white"
           }
          },
          "shapedefaults": {
           "line": {
            "color": "#2a3f5f"
           }
          },
          "ternary": {
           "aaxis": {
            "gridcolor": "white",
            "linecolor": "white",
            "ticks": ""
           },
           "baxis": {
            "gridcolor": "white",
            "linecolor": "white",
            "ticks": ""
           },
           "bgcolor": "#E5ECF6",
           "caxis": {
            "gridcolor": "white",
            "linecolor": "white",
            "ticks": ""
           }
          },
          "title": {
           "x": 0.05
          },
          "xaxis": {
           "automargin": true,
           "gridcolor": "white",
           "linecolor": "white",
           "ticks": "",
           "title": {
            "standoff": 15
           },
           "zerolinecolor": "white",
           "zerolinewidth": 2
          },
          "yaxis": {
           "automargin": true,
           "gridcolor": "white",
           "linecolor": "white",
           "ticks": "",
           "title": {
            "standoff": 15
           },
           "zerolinecolor": "white",
           "zerolinewidth": 2
          }
         }
        },
        "title": {
         "text": "Distribution of Target Variable"
        },
        "xaxis": {
         "anchor": "y",
         "domain": [
          0,
          1
         ],
         "title": {
          "text": "Label"
         }
        },
        "yaxis": {
         "anchor": "x",
         "domain": [
          0,
          1
         ],
         "title": {
          "text": "Count"
         }
        }
       }
      }
     },
     "metadata": {},
     "output_type": "display_data"
    }
   ],
   "source": [
    "# check the distribution of the target variable\n",
    "print(\"Distribution of the target variable:\\n\", safaricom_df['Labels'].value_counts())\n",
    "\n",
    "fig = px.bar(\n",
    "    safaricom_df['Labels'].value_counts().reset_index(name='count'),\n",
    "    x='Labels',\n",
    "    y='count',\n",
    "    labels={'Labels': 'Label', 'count': 'Count'},\n",
    "    title='Distribution of Target Variable'\n",
    ")\n",
    "\n",
    "# Get unique labels to assign a color to each\n",
    "unique_labels = safaricom_df['Labels'].value_counts().reset_index(name='count')['Labels']\n",
    "color_discrete_sequence = px.colors.qualitative.Plotly  # or use another palette like 'Set2', 'Pastel', etc.\n",
    "\n",
    "# If there are more labels than colors in the palette, repeat the palette\n",
    "if len(unique_labels) > len(color_discrete_sequence):\n",
    "    color_discrete_sequence = color_discrete_sequence * (len(unique_labels) // len(color_discrete_sequence) + 1)\n",
    "\n",
    "fig.update_traces(marker_color=color_discrete_sequence[:len(unique_labels)])\n",
    "fig.show()"
   ]
  },
  {
   "cell_type": "markdown",
   "id": "6a012222",
   "metadata": {},
   "source": [
    "## Feature Engineering"
   ]
  },
  {
   "cell_type": "code",
   "execution_count": 6,
   "id": "3d2d5b0c",
   "metadata": {},
   "outputs": [
    {
     "data": {
      "text/html": [
       "<div>\n",
       "<style scoped>\n",
       "    .dataframe tbody tr th:only-of-type {\n",
       "        vertical-align: middle;\n",
       "    }\n",
       "\n",
       "    .dataframe tbody tr th {\n",
       "        vertical-align: top;\n",
       "    }\n",
       "\n",
       "    .dataframe thead th {\n",
       "        text-align: right;\n",
       "    }\n",
       "</style>\n",
       "<table border=\"1\" class=\"dataframe\">\n",
       "  <thead>\n",
       "    <tr style=\"text-align: right;\">\n",
       "      <th></th>\n",
       "      <th>Tweet ID</th>\n",
       "      <th>URL</th>\n",
       "      <th>Content</th>\n",
       "      <th>Likes</th>\n",
       "      <th>Retweets</th>\n",
       "      <th>Replies</th>\n",
       "      <th>Quotes</th>\n",
       "      <th>Views</th>\n",
       "      <th>Date</th>\n",
       "      <th>Labels</th>\n",
       "      <th>chars</th>\n",
       "      <th>words</th>\n",
       "      <th>sentences</th>\n",
       "    </tr>\n",
       "  </thead>\n",
       "  <tbody>\n",
       "    <tr>\n",
       "      <th>0</th>\n",
       "      <td>1.950000e+18</td>\n",
       "      <td>https://x.com/MawiaDorothy/status/194955836816...</td>\n",
       "      <td>How comes I have overdue debts.. na sijakopa.....</td>\n",
       "      <td>1</td>\n",
       "      <td>0</td>\n",
       "      <td>0</td>\n",
       "      <td>0</td>\n",
       "      <td>21</td>\n",
       "      <td>July 27, 2025 at 07:51 PM</td>\n",
       "      <td>Customer care complaint</td>\n",
       "      <td>99</td>\n",
       "      <td>19</td>\n",
       "      <td>1</td>\n",
       "    </tr>\n",
       "    <tr>\n",
       "      <th>1</th>\n",
       "      <td>1.950000e+18</td>\n",
       "      <td>https://x.com/KruiGeofrey/status/1949310365839...</td>\n",
       "      <td>@Monty_Hasashi @Safaricom 😂😂</td>\n",
       "      <td>0</td>\n",
       "      <td>0</td>\n",
       "      <td>0</td>\n",
       "      <td>0</td>\n",
       "      <td>22</td>\n",
       "      <td>July 27, 2025 at 03:26 AM</td>\n",
       "      <td>Neutral</td>\n",
       "      <td>28</td>\n",
       "      <td>5</td>\n",
       "      <td>1</td>\n",
       "    </tr>\n",
       "    <tr>\n",
       "      <th>2</th>\n",
       "      <td>1.950000e+18</td>\n",
       "      <td>https://x.com/martozgicha/status/1949022872242...</td>\n",
       "      <td>@safaricom weka data ,wacheni jokes...Thank yo...</td>\n",
       "      <td>0</td>\n",
       "      <td>0</td>\n",
       "      <td>0</td>\n",
       "      <td>0</td>\n",
       "      <td>6</td>\n",
       "      <td>July 26, 2025 at 08:23 AM</td>\n",
       "      <td>Internet or airtime bundle complaint</td>\n",
       "      <td>181</td>\n",
       "      <td>38</td>\n",
       "      <td>2</td>\n",
       "    </tr>\n",
       "    <tr>\n",
       "      <th>3</th>\n",
       "      <td>1.950000e+18</td>\n",
       "      <td>https://x.com/liyansmutembei/status/1948476756...</td>\n",
       "      <td>@SafaricomPLC Hello @SafaricomPLC   @safaricom...</td>\n",
       "      <td>0</td>\n",
       "      <td>0</td>\n",
       "      <td>0</td>\n",
       "      <td>0</td>\n",
       "      <td>47</td>\n",
       "      <td>July 24, 2025 at 08:13 PM</td>\n",
       "      <td>Customer care complaint</td>\n",
       "      <td>280</td>\n",
       "      <td>53</td>\n",
       "      <td>4</td>\n",
       "    </tr>\n",
       "    <tr>\n",
       "      <th>4</th>\n",
       "      <td>1.950000e+18</td>\n",
       "      <td>https://x.com/SsirNixoNdugire/status/194833516...</td>\n",
       "      <td>@PeterNdegwa_ @SafaricomPLC @Safaricom_Care @S...</td>\n",
       "      <td>0</td>\n",
       "      <td>0</td>\n",
       "      <td>0</td>\n",
       "      <td>0</td>\n",
       "      <td>5</td>\n",
       "      <td>July 24, 2025 at 10:51 AM</td>\n",
       "      <td>Customer care complaint</td>\n",
       "      <td>255</td>\n",
       "      <td>48</td>\n",
       "      <td>2</td>\n",
       "    </tr>\n",
       "    <tr>\n",
       "      <th>5</th>\n",
       "      <td>1.950000e+18</td>\n",
       "      <td>https://x.com/sokodirectory/status/19483095914...</td>\n",
       "      <td>Update: @Safaricom PLC  (NSE: SCOM), has annou...</td>\n",
       "      <td>0</td>\n",
       "      <td>0</td>\n",
       "      <td>0</td>\n",
       "      <td>0</td>\n",
       "      <td>80</td>\n",
       "      <td>July 24, 2025 at 09:09 AM</td>\n",
       "      <td>Neutral</td>\n",
       "      <td>262</td>\n",
       "      <td>50</td>\n",
       "      <td>2</td>\n",
       "    </tr>\n",
       "    <tr>\n",
       "      <th>6</th>\n",
       "      <td>1.950000e+18</td>\n",
       "      <td>https://x.com/obwedede/status/1948301344843919753</td>\n",
       "      <td>Customer Growth: 50M Connected, The @Safaricom...</td>\n",
       "      <td>0</td>\n",
       "      <td>2</td>\n",
       "      <td>0</td>\n",
       "      <td>0</td>\n",
       "      <td>19</td>\n",
       "      <td>July 24, 2025 at 08:36 AM</td>\n",
       "      <td>Neutral</td>\n",
       "      <td>196</td>\n",
       "      <td>39</td>\n",
       "      <td>4</td>\n",
       "    </tr>\n",
       "    <tr>\n",
       "      <th>7</th>\n",
       "      <td>1.950000e+18</td>\n",
       "      <td>https://x.com/obwedede/status/1948295655346012530</td>\n",
       "      <td>Through the @Safaricom and M-PESA Foundations,...</td>\n",
       "      <td>0</td>\n",
       "      <td>2</td>\n",
       "      <td>0</td>\n",
       "      <td>0</td>\n",
       "      <td>29</td>\n",
       "      <td>July 24, 2025 at 08:14 AM</td>\n",
       "      <td>Neutral</td>\n",
       "      <td>226</td>\n",
       "      <td>39</td>\n",
       "      <td>3</td>\n",
       "    </tr>\n",
       "    <tr>\n",
       "      <th>8</th>\n",
       "      <td>1.950000e+18</td>\n",
       "      <td>https://x.com/obwedede/status/1948295244396548199</td>\n",
       "      <td>In the last financial year, @Safaricom contrib...</td>\n",
       "      <td>0</td>\n",
       "      <td>0</td>\n",
       "      <td>0</td>\n",
       "      <td>0</td>\n",
       "      <td>6</td>\n",
       "      <td>July 24, 2025 at 08:12 AM</td>\n",
       "      <td>Neutral</td>\n",
       "      <td>224</td>\n",
       "      <td>44</td>\n",
       "      <td>4</td>\n",
       "    </tr>\n",
       "    <tr>\n",
       "      <th>9</th>\n",
       "      <td>1.950000e+18</td>\n",
       "      <td>https://x.com/obwedede/status/1948294724365795439</td>\n",
       "      <td>Beyond Kenya, @Safaricom is also winning in Et...</td>\n",
       "      <td>0</td>\n",
       "      <td>1</td>\n",
       "      <td>1</td>\n",
       "      <td>0</td>\n",
       "      <td>17</td>\n",
       "      <td>July 24, 2025 at 08:10 AM</td>\n",
       "      <td>Neutral</td>\n",
       "      <td>243</td>\n",
       "      <td>43</td>\n",
       "      <td>3</td>\n",
       "    </tr>\n",
       "  </tbody>\n",
       "</table>\n",
       "</div>"
      ],
      "text/plain": [
       "       Tweet ID                                                URL  \\\n",
       "0  1.950000e+18  https://x.com/MawiaDorothy/status/194955836816...   \n",
       "1  1.950000e+18  https://x.com/KruiGeofrey/status/1949310365839...   \n",
       "2  1.950000e+18  https://x.com/martozgicha/status/1949022872242...   \n",
       "3  1.950000e+18  https://x.com/liyansmutembei/status/1948476756...   \n",
       "4  1.950000e+18  https://x.com/SsirNixoNdugire/status/194833516...   \n",
       "5  1.950000e+18  https://x.com/sokodirectory/status/19483095914...   \n",
       "6  1.950000e+18  https://x.com/obwedede/status/1948301344843919753   \n",
       "7  1.950000e+18  https://x.com/obwedede/status/1948295655346012530   \n",
       "8  1.950000e+18  https://x.com/obwedede/status/1948295244396548199   \n",
       "9  1.950000e+18  https://x.com/obwedede/status/1948294724365795439   \n",
       "\n",
       "                                             Content  Likes  Retweets  \\\n",
       "0  How comes I have overdue debts.. na sijakopa.....      1         0   \n",
       "1                       @Monty_Hasashi @Safaricom 😂😂      0         0   \n",
       "2  @safaricom weka data ,wacheni jokes...Thank yo...      0         0   \n",
       "3  @SafaricomPLC Hello @SafaricomPLC   @safaricom...      0         0   \n",
       "4  @PeterNdegwa_ @SafaricomPLC @Safaricom_Care @S...      0         0   \n",
       "5  Update: @Safaricom PLC  (NSE: SCOM), has annou...      0         0   \n",
       "6  Customer Growth: 50M Connected, The @Safaricom...      0         2   \n",
       "7  Through the @Safaricom and M-PESA Foundations,...      0         2   \n",
       "8  In the last financial year, @Safaricom contrib...      0         0   \n",
       "9  Beyond Kenya, @Safaricom is also winning in Et...      0         1   \n",
       "\n",
       "   Replies  Quotes  Views                       Date  \\\n",
       "0        0       0     21  July 27, 2025 at 07:51 PM   \n",
       "1        0       0     22  July 27, 2025 at 03:26 AM   \n",
       "2        0       0      6  July 26, 2025 at 08:23 AM   \n",
       "3        0       0     47  July 24, 2025 at 08:13 PM   \n",
       "4        0       0      5  July 24, 2025 at 10:51 AM   \n",
       "5        0       0     80  July 24, 2025 at 09:09 AM   \n",
       "6        0       0     19  July 24, 2025 at 08:36 AM   \n",
       "7        0       0     29  July 24, 2025 at 08:14 AM   \n",
       "8        0       0      6  July 24, 2025 at 08:12 AM   \n",
       "9        1       0     17  July 24, 2025 at 08:10 AM   \n",
       "\n",
       "                                 Labels  chars  words  sentences  \n",
       "0               Customer care complaint     99     19          1  \n",
       "1                               Neutral     28      5          1  \n",
       "2  Internet or airtime bundle complaint    181     38          2  \n",
       "3               Customer care complaint    280     53          4  \n",
       "4               Customer care complaint    255     48          2  \n",
       "5                               Neutral    262     50          2  \n",
       "6                               Neutral    196     39          4  \n",
       "7                               Neutral    226     39          3  \n",
       "8                               Neutral    224     44          4  \n",
       "9                               Neutral    243     43          3  "
      ]
     },
     "execution_count": 6,
     "metadata": {},
     "output_type": "execute_result"
    }
   ],
   "source": [
    "# function for generating columns with number of characters, words and sentences\n",
    "def generate_columns(df):\n",
    "    safaricom_df['chars'] = safaricom_df['Content'].apply(len)\n",
    "    safaricom_df['words'] = safaricom_df['Content'].apply(lambda x: nltk.word_tokenize(x)).apply(len)\n",
    "    safaricom_df['sentences'] = safaricom_df['Content'].apply(lambda x: nltk.sent_tokenize(x)).apply(len)\n",
    "    return df\n",
    "safaricom_df = generate_columns(safaricom_df)\n",
    "\n",
    "# display safaricom_df with new columns\n",
    "safaricom_df.head(10)"
   ]
  },
  {
   "cell_type": "code",
   "execution_count": 7,
   "id": "f383330c",
   "metadata": {},
   "outputs": [
    {
     "data": {
      "text/html": [
       "<div>\n",
       "<style scoped>\n",
       "    .dataframe tbody tr th:only-of-type {\n",
       "        vertical-align: middle;\n",
       "    }\n",
       "\n",
       "    .dataframe tbody tr th {\n",
       "        vertical-align: top;\n",
       "    }\n",
       "\n",
       "    .dataframe thead th {\n",
       "        text-align: right;\n",
       "    }\n",
       "</style>\n",
       "<table border=\"1\" class=\"dataframe\">\n",
       "  <thead>\n",
       "    <tr style=\"text-align: right;\">\n",
       "      <th></th>\n",
       "      <th>Content</th>\n",
       "      <th>Likes</th>\n",
       "      <th>Retweets</th>\n",
       "      <th>Replies</th>\n",
       "      <th>Quotes</th>\n",
       "      <th>Views</th>\n",
       "      <th>Date</th>\n",
       "      <th>Labels</th>\n",
       "      <th>chars</th>\n",
       "      <th>words</th>\n",
       "      <th>sentences</th>\n",
       "    </tr>\n",
       "  </thead>\n",
       "  <tbody>\n",
       "    <tr>\n",
       "      <th>0</th>\n",
       "      <td>How comes I have overdue debts.. na sijakopa.....</td>\n",
       "      <td>1</td>\n",
       "      <td>0</td>\n",
       "      <td>0</td>\n",
       "      <td>0</td>\n",
       "      <td>21</td>\n",
       "      <td>July 27, 2025 at 07:51 PM</td>\n",
       "      <td>Customer care complaint</td>\n",
       "      <td>99</td>\n",
       "      <td>19</td>\n",
       "      <td>1</td>\n",
       "    </tr>\n",
       "    <tr>\n",
       "      <th>1</th>\n",
       "      <td>@Monty_Hasashi @Safaricom 😂😂</td>\n",
       "      <td>0</td>\n",
       "      <td>0</td>\n",
       "      <td>0</td>\n",
       "      <td>0</td>\n",
       "      <td>22</td>\n",
       "      <td>July 27, 2025 at 03:26 AM</td>\n",
       "      <td>Neutral</td>\n",
       "      <td>28</td>\n",
       "      <td>5</td>\n",
       "      <td>1</td>\n",
       "    </tr>\n",
       "    <tr>\n",
       "      <th>2</th>\n",
       "      <td>@safaricom weka data ,wacheni jokes...Thank yo...</td>\n",
       "      <td>0</td>\n",
       "      <td>0</td>\n",
       "      <td>0</td>\n",
       "      <td>0</td>\n",
       "      <td>6</td>\n",
       "      <td>July 26, 2025 at 08:23 AM</td>\n",
       "      <td>Internet or airtime bundle complaint</td>\n",
       "      <td>181</td>\n",
       "      <td>38</td>\n",
       "      <td>2</td>\n",
       "    </tr>\n",
       "    <tr>\n",
       "      <th>3</th>\n",
       "      <td>@SafaricomPLC Hello @SafaricomPLC   @safaricom...</td>\n",
       "      <td>0</td>\n",
       "      <td>0</td>\n",
       "      <td>0</td>\n",
       "      <td>0</td>\n",
       "      <td>47</td>\n",
       "      <td>July 24, 2025 at 08:13 PM</td>\n",
       "      <td>Customer care complaint</td>\n",
       "      <td>280</td>\n",
       "      <td>53</td>\n",
       "      <td>4</td>\n",
       "    </tr>\n",
       "    <tr>\n",
       "      <th>4</th>\n",
       "      <td>@PeterNdegwa_ @SafaricomPLC @Safaricom_Care @S...</td>\n",
       "      <td>0</td>\n",
       "      <td>0</td>\n",
       "      <td>0</td>\n",
       "      <td>0</td>\n",
       "      <td>5</td>\n",
       "      <td>July 24, 2025 at 10:51 AM</td>\n",
       "      <td>Customer care complaint</td>\n",
       "      <td>255</td>\n",
       "      <td>48</td>\n",
       "      <td>2</td>\n",
       "    </tr>\n",
       "  </tbody>\n",
       "</table>\n",
       "</div>"
      ],
      "text/plain": [
       "                                             Content  Likes  Retweets  \\\n",
       "0  How comes I have overdue debts.. na sijakopa.....      1         0   \n",
       "1                       @Monty_Hasashi @Safaricom 😂😂      0         0   \n",
       "2  @safaricom weka data ,wacheni jokes...Thank yo...      0         0   \n",
       "3  @SafaricomPLC Hello @SafaricomPLC   @safaricom...      0         0   \n",
       "4  @PeterNdegwa_ @SafaricomPLC @Safaricom_Care @S...      0         0   \n",
       "\n",
       "   Replies  Quotes  Views                       Date  \\\n",
       "0        0       0     21  July 27, 2025 at 07:51 PM   \n",
       "1        0       0     22  July 27, 2025 at 03:26 AM   \n",
       "2        0       0      6  July 26, 2025 at 08:23 AM   \n",
       "3        0       0     47  July 24, 2025 at 08:13 PM   \n",
       "4        0       0      5  July 24, 2025 at 10:51 AM   \n",
       "\n",
       "                                 Labels  chars  words  sentences  \n",
       "0               Customer care complaint     99     19          1  \n",
       "1                               Neutral     28      5          1  \n",
       "2  Internet or airtime bundle complaint    181     38          2  \n",
       "3               Customer care complaint    280     53          4  \n",
       "4               Customer care complaint    255     48          2  "
      ]
     },
     "execution_count": 7,
     "metadata": {},
     "output_type": "execute_result"
    }
   ],
   "source": [
    "# drop the Tweet ID and URL columns\n",
    "safaricom_df = safaricom_df.drop(columns=['Tweet ID', 'URL'], axis=1)\n",
    "safaricom_df.head()"
   ]
  },
  {
   "cell_type": "markdown",
   "id": "61bc95bc",
   "metadata": {},
   "source": [
    "## Data Cleaning"
   ]
  },
  {
   "cell_type": "code",
   "execution_count": 8,
   "id": "740c3059",
   "metadata": {},
   "outputs": [
    {
     "data": {
      "text/html": [
       "<div>\n",
       "<style scoped>\n",
       "    .dataframe tbody tr th:only-of-type {\n",
       "        vertical-align: middle;\n",
       "    }\n",
       "\n",
       "    .dataframe tbody tr th {\n",
       "        vertical-align: top;\n",
       "    }\n",
       "\n",
       "    .dataframe thead th {\n",
       "        text-align: right;\n",
       "    }\n",
       "</style>\n",
       "<table border=\"1\" class=\"dataframe\">\n",
       "  <thead>\n",
       "    <tr style=\"text-align: right;\">\n",
       "      <th></th>\n",
       "      <th>Content</th>\n",
       "      <th>Likes</th>\n",
       "      <th>Retweets</th>\n",
       "      <th>Replies</th>\n",
       "      <th>Quotes</th>\n",
       "      <th>Views</th>\n",
       "      <th>Date</th>\n",
       "      <th>Labels</th>\n",
       "      <th>chars</th>\n",
       "      <th>words</th>\n",
       "      <th>sentences</th>\n",
       "    </tr>\n",
       "  </thead>\n",
       "  <tbody>\n",
       "    <tr>\n",
       "      <th>0</th>\n",
       "      <td>how comes i have overdue debts na sijakopawhat...</td>\n",
       "      <td>1</td>\n",
       "      <td>0</td>\n",
       "      <td>0</td>\n",
       "      <td>0</td>\n",
       "      <td>21</td>\n",
       "      <td>July 27, 2025 at 07:51 PM</td>\n",
       "      <td>Customer care complaint</td>\n",
       "      <td>99</td>\n",
       "      <td>19</td>\n",
       "      <td>1</td>\n",
       "    </tr>\n",
       "    <tr>\n",
       "      <th>1</th>\n",
       "      <td>montyhasashi safaricom</td>\n",
       "      <td>0</td>\n",
       "      <td>0</td>\n",
       "      <td>0</td>\n",
       "      <td>0</td>\n",
       "      <td>22</td>\n",
       "      <td>July 27, 2025 at 03:26 AM</td>\n",
       "      <td>Neutral</td>\n",
       "      <td>28</td>\n",
       "      <td>5</td>\n",
       "      <td>1</td>\n",
       "    </tr>\n",
       "    <tr>\n",
       "      <th>2</th>\n",
       "      <td>safaricom weka data wacheni jokesthank you for...</td>\n",
       "      <td>0</td>\n",
       "      <td>0</td>\n",
       "      <td>0</td>\n",
       "      <td>0</td>\n",
       "      <td>6</td>\n",
       "      <td>July 26, 2025 at 08:23 AM</td>\n",
       "      <td>Internet or airtime bundle complaint</td>\n",
       "      <td>181</td>\n",
       "      <td>38</td>\n",
       "      <td>2</td>\n",
       "    </tr>\n",
       "    <tr>\n",
       "      <th>3</th>\n",
       "      <td>safaricomplc hello safaricomplc safaricom can ...</td>\n",
       "      <td>0</td>\n",
       "      <td>0</td>\n",
       "      <td>0</td>\n",
       "      <td>0</td>\n",
       "      <td>47</td>\n",
       "      <td>July 24, 2025 at 08:13 PM</td>\n",
       "      <td>Customer care complaint</td>\n",
       "      <td>280</td>\n",
       "      <td>53</td>\n",
       "      <td>4</td>\n",
       "    </tr>\n",
       "    <tr>\n",
       "      <th>4</th>\n",
       "      <td>peterndegwa safaricomplc safaricomcare safbusi...</td>\n",
       "      <td>0</td>\n",
       "      <td>0</td>\n",
       "      <td>0</td>\n",
       "      <td>0</td>\n",
       "      <td>5</td>\n",
       "      <td>July 24, 2025 at 10:51 AM</td>\n",
       "      <td>Customer care complaint</td>\n",
       "      <td>255</td>\n",
       "      <td>48</td>\n",
       "      <td>2</td>\n",
       "    </tr>\n",
       "    <tr>\n",
       "      <th>5</th>\n",
       "      <td>update safaricom plc nse scom has announced a ...</td>\n",
       "      <td>0</td>\n",
       "      <td>0</td>\n",
       "      <td>0</td>\n",
       "      <td>0</td>\n",
       "      <td>80</td>\n",
       "      <td>July 24, 2025 at 09:09 AM</td>\n",
       "      <td>Neutral</td>\n",
       "      <td>262</td>\n",
       "      <td>50</td>\n",
       "      <td>2</td>\n",
       "    </tr>\n",
       "    <tr>\n",
       "      <th>6</th>\n",
       "      <td>customer growth 50m connected the safaricom st...</td>\n",
       "      <td>0</td>\n",
       "      <td>2</td>\n",
       "      <td>0</td>\n",
       "      <td>0</td>\n",
       "      <td>19</td>\n",
       "      <td>July 24, 2025 at 08:36 AM</td>\n",
       "      <td>Neutral</td>\n",
       "      <td>196</td>\n",
       "      <td>39</td>\n",
       "      <td>4</td>\n",
       "    </tr>\n",
       "    <tr>\n",
       "      <th>7</th>\n",
       "      <td>through the safaricom and mpesa foundations 8m...</td>\n",
       "      <td>0</td>\n",
       "      <td>2</td>\n",
       "      <td>0</td>\n",
       "      <td>0</td>\n",
       "      <td>29</td>\n",
       "      <td>July 24, 2025 at 08:14 AM</td>\n",
       "      <td>Neutral</td>\n",
       "      <td>226</td>\n",
       "      <td>39</td>\n",
       "      <td>3</td>\n",
       "    </tr>\n",
       "    <tr>\n",
       "      <th>8</th>\n",
       "      <td>in the last financial year safaricom contribut...</td>\n",
       "      <td>0</td>\n",
       "      <td>0</td>\n",
       "      <td>0</td>\n",
       "      <td>0</td>\n",
       "      <td>6</td>\n",
       "      <td>July 24, 2025 at 08:12 AM</td>\n",
       "      <td>Neutral</td>\n",
       "      <td>224</td>\n",
       "      <td>44</td>\n",
       "      <td>4</td>\n",
       "    </tr>\n",
       "    <tr>\n",
       "      <th>9</th>\n",
       "      <td>beyond kenya safaricom is also winning in ethi...</td>\n",
       "      <td>0</td>\n",
       "      <td>1</td>\n",
       "      <td>1</td>\n",
       "      <td>0</td>\n",
       "      <td>17</td>\n",
       "      <td>July 24, 2025 at 08:10 AM</td>\n",
       "      <td>Neutral</td>\n",
       "      <td>243</td>\n",
       "      <td>43</td>\n",
       "      <td>3</td>\n",
       "    </tr>\n",
       "  </tbody>\n",
       "</table>\n",
       "</div>"
      ],
      "text/plain": [
       "                                             Content  Likes  Retweets  \\\n",
       "0  how comes i have overdue debts na sijakopawhat...      1         0   \n",
       "1                             montyhasashi safaricom      0         0   \n",
       "2  safaricom weka data wacheni jokesthank you for...      0         0   \n",
       "3  safaricomplc hello safaricomplc safaricom can ...      0         0   \n",
       "4  peterndegwa safaricomplc safaricomcare safbusi...      0         0   \n",
       "5  update safaricom plc nse scom has announced a ...      0         0   \n",
       "6  customer growth 50m connected the safaricom st...      0         2   \n",
       "7  through the safaricom and mpesa foundations 8m...      0         2   \n",
       "8  in the last financial year safaricom contribut...      0         0   \n",
       "9  beyond kenya safaricom is also winning in ethi...      0         1   \n",
       "\n",
       "   Replies  Quotes  Views                       Date  \\\n",
       "0        0       0     21  July 27, 2025 at 07:51 PM   \n",
       "1        0       0     22  July 27, 2025 at 03:26 AM   \n",
       "2        0       0      6  July 26, 2025 at 08:23 AM   \n",
       "3        0       0     47  July 24, 2025 at 08:13 PM   \n",
       "4        0       0      5  July 24, 2025 at 10:51 AM   \n",
       "5        0       0     80  July 24, 2025 at 09:09 AM   \n",
       "6        0       0     19  July 24, 2025 at 08:36 AM   \n",
       "7        0       0     29  July 24, 2025 at 08:14 AM   \n",
       "8        0       0      6  July 24, 2025 at 08:12 AM   \n",
       "9        1       0     17  July 24, 2025 at 08:10 AM   \n",
       "\n",
       "                                 Labels  chars  words  sentences  \n",
       "0               Customer care complaint     99     19          1  \n",
       "1                               Neutral     28      5          1  \n",
       "2  Internet or airtime bundle complaint    181     38          2  \n",
       "3               Customer care complaint    280     53          4  \n",
       "4               Customer care complaint    255     48          2  \n",
       "5                               Neutral    262     50          2  \n",
       "6                               Neutral    196     39          4  \n",
       "7                               Neutral    226     39          3  \n",
       "8                               Neutral    224     44          4  \n",
       "9                               Neutral    243     43          3  "
      ]
     },
     "execution_count": 8,
     "metadata": {},
     "output_type": "execute_result"
    }
   ],
   "source": [
    "# define a data cleaning function\n",
    "def clean_data(text):\n",
    "    # remove URLs\n",
    "    text = re.sub(r'http\\S+|www.\\S+', '', text)\n",
    "\n",
    "    # remove only the @ and # signs, keep the words\n",
    "    text = re.sub(r'[@#]', '', text)\n",
    "\n",
    "    # remove special characters (but keep numbers)\n",
    "    text = re.sub(r'[^A-Za-z0-9\\s]', '', text)\n",
    "\n",
    "    # convert to lowercase\n",
    "    text = text.lower()\n",
    "\n",
    "    # remove additional whitespace\n",
    "    text = re.sub(r'\\s+', ' ', text).strip()\n",
    "\n",
    "    return text\n",
    "\n",
    "# apply the function to the Content column\n",
    "safaricom_df['Content'] = safaricom_df['Content'].apply(clean_data)\n",
    "\n",
    "# display the first 10 rows of the cleaned dataset\n",
    "safaricom_df.head(10)"
   ]
  },
  {
   "cell_type": "markdown",
   "id": "531f7ea7",
   "metadata": {},
   "source": [
    "## Data Preprocessing"
   ]
  },
  {
   "cell_type": "code",
   "execution_count": 9,
   "id": "6f452dc9",
   "metadata": {},
   "outputs": [
    {
     "data": {
      "text/html": [
       "<div>\n",
       "<style scoped>\n",
       "    .dataframe tbody tr th:only-of-type {\n",
       "        vertical-align: middle;\n",
       "    }\n",
       "\n",
       "    .dataframe tbody tr th {\n",
       "        vertical-align: top;\n",
       "    }\n",
       "\n",
       "    .dataframe thead th {\n",
       "        text-align: right;\n",
       "    }\n",
       "</style>\n",
       "<table border=\"1\" class=\"dataframe\">\n",
       "  <thead>\n",
       "    <tr style=\"text-align: right;\">\n",
       "      <th></th>\n",
       "      <th>Content</th>\n",
       "      <th>Likes</th>\n",
       "      <th>Retweets</th>\n",
       "      <th>Replies</th>\n",
       "      <th>Quotes</th>\n",
       "      <th>Views</th>\n",
       "      <th>Date</th>\n",
       "      <th>Labels</th>\n",
       "      <th>chars</th>\n",
       "      <th>words</th>\n",
       "      <th>sentences</th>\n",
       "      <th>Tokenized Text</th>\n",
       "    </tr>\n",
       "  </thead>\n",
       "  <tbody>\n",
       "    <tr>\n",
       "      <th>0</th>\n",
       "      <td>how comes i have overdue debts na sijakopawhat...</td>\n",
       "      <td>1</td>\n",
       "      <td>0</td>\n",
       "      <td>0</td>\n",
       "      <td>0</td>\n",
       "      <td>21</td>\n",
       "      <td>July 27, 2025 at 07:51 PM</td>\n",
       "      <td>Customer care complaint</td>\n",
       "      <td>99</td>\n",
       "      <td>19</td>\n",
       "      <td>1</td>\n",
       "      <td>[how, comes, i, have, overdue, debts, na, sija...</td>\n",
       "    </tr>\n",
       "    <tr>\n",
       "      <th>1</th>\n",
       "      <td>montyhasashi safaricom</td>\n",
       "      <td>0</td>\n",
       "      <td>0</td>\n",
       "      <td>0</td>\n",
       "      <td>0</td>\n",
       "      <td>22</td>\n",
       "      <td>July 27, 2025 at 03:26 AM</td>\n",
       "      <td>Neutral</td>\n",
       "      <td>28</td>\n",
       "      <td>5</td>\n",
       "      <td>1</td>\n",
       "      <td>[montyhasashi, safaricom]</td>\n",
       "    </tr>\n",
       "    <tr>\n",
       "      <th>2</th>\n",
       "      <td>safaricom weka data wacheni jokesthank you for...</td>\n",
       "      <td>0</td>\n",
       "      <td>0</td>\n",
       "      <td>0</td>\n",
       "      <td>0</td>\n",
       "      <td>6</td>\n",
       "      <td>July 26, 2025 at 08:23 AM</td>\n",
       "      <td>Internet or airtime bundle complaint</td>\n",
       "      <td>181</td>\n",
       "      <td>38</td>\n",
       "      <td>2</td>\n",
       "      <td>[safaricom, weka, data, wacheni, jokesthank, y...</td>\n",
       "    </tr>\n",
       "    <tr>\n",
       "      <th>3</th>\n",
       "      <td>safaricomplc hello safaricomplc safaricom can ...</td>\n",
       "      <td>0</td>\n",
       "      <td>0</td>\n",
       "      <td>0</td>\n",
       "      <td>0</td>\n",
       "      <td>47</td>\n",
       "      <td>July 24, 2025 at 08:13 PM</td>\n",
       "      <td>Customer care complaint</td>\n",
       "      <td>280</td>\n",
       "      <td>53</td>\n",
       "      <td>4</td>\n",
       "      <td>[safaricomplc, hello, safaricomplc, safaricom,...</td>\n",
       "    </tr>\n",
       "    <tr>\n",
       "      <th>4</th>\n",
       "      <td>peterndegwa safaricomplc safaricomcare safbusi...</td>\n",
       "      <td>0</td>\n",
       "      <td>0</td>\n",
       "      <td>0</td>\n",
       "      <td>0</td>\n",
       "      <td>5</td>\n",
       "      <td>July 24, 2025 at 10:51 AM</td>\n",
       "      <td>Customer care complaint</td>\n",
       "      <td>255</td>\n",
       "      <td>48</td>\n",
       "      <td>2</td>\n",
       "      <td>[peterndegwa, safaricomplc, safaricomcare, saf...</td>\n",
       "    </tr>\n",
       "  </tbody>\n",
       "</table>\n",
       "</div>"
      ],
      "text/plain": [
       "                                             Content  Likes  Retweets  \\\n",
       "0  how comes i have overdue debts na sijakopawhat...      1         0   \n",
       "1                             montyhasashi safaricom      0         0   \n",
       "2  safaricom weka data wacheni jokesthank you for...      0         0   \n",
       "3  safaricomplc hello safaricomplc safaricom can ...      0         0   \n",
       "4  peterndegwa safaricomplc safaricomcare safbusi...      0         0   \n",
       "\n",
       "   Replies  Quotes  Views                       Date  \\\n",
       "0        0       0     21  July 27, 2025 at 07:51 PM   \n",
       "1        0       0     22  July 27, 2025 at 03:26 AM   \n",
       "2        0       0      6  July 26, 2025 at 08:23 AM   \n",
       "3        0       0     47  July 24, 2025 at 08:13 PM   \n",
       "4        0       0      5  July 24, 2025 at 10:51 AM   \n",
       "\n",
       "                                 Labels  chars  words  sentences  \\\n",
       "0               Customer care complaint     99     19          1   \n",
       "1                               Neutral     28      5          1   \n",
       "2  Internet or airtime bundle complaint    181     38          2   \n",
       "3               Customer care complaint    280     53          4   \n",
       "4               Customer care complaint    255     48          2   \n",
       "\n",
       "                                      Tokenized Text  \n",
       "0  [how, comes, i, have, overdue, debts, na, sija...  \n",
       "1                          [montyhasashi, safaricom]  \n",
       "2  [safaricom, weka, data, wacheni, jokesthank, y...  \n",
       "3  [safaricomplc, hello, safaricomplc, safaricom,...  \n",
       "4  [peterndegwa, safaricomplc, safaricomcare, saf...  "
      ]
     },
     "execution_count": 9,
     "metadata": {},
     "output_type": "execute_result"
    }
   ],
   "source": [
    "# tokenize the tweet content\n",
    "safaricom_df['Tokenized Text'] = safaricom_df['Content'].apply(lambda document: str.lower(document)).apply(lambda doc: nltk.word_tokenize(doc))\n",
    "safaricom_df.head()"
   ]
  },
  {
   "cell_type": "code",
   "execution_count": 10,
   "id": "6dcf0ca3",
   "metadata": {},
   "outputs": [
    {
     "data": {
      "text/html": [
       "<div>\n",
       "<style scoped>\n",
       "    .dataframe tbody tr th:only-of-type {\n",
       "        vertical-align: middle;\n",
       "    }\n",
       "\n",
       "    .dataframe tbody tr th {\n",
       "        vertical-align: top;\n",
       "    }\n",
       "\n",
       "    .dataframe thead th {\n",
       "        text-align: right;\n",
       "    }\n",
       "</style>\n",
       "<table border=\"1\" class=\"dataframe\">\n",
       "  <thead>\n",
       "    <tr style=\"text-align: right;\">\n",
       "      <th></th>\n",
       "      <th>Content</th>\n",
       "      <th>Likes</th>\n",
       "      <th>Retweets</th>\n",
       "      <th>Replies</th>\n",
       "      <th>Quotes</th>\n",
       "      <th>Views</th>\n",
       "      <th>Date</th>\n",
       "      <th>Labels</th>\n",
       "      <th>chars</th>\n",
       "      <th>words</th>\n",
       "      <th>sentences</th>\n",
       "      <th>Tokenized Text</th>\n",
       "      <th>Lematized Text</th>\n",
       "    </tr>\n",
       "  </thead>\n",
       "  <tbody>\n",
       "    <tr>\n",
       "      <th>0</th>\n",
       "      <td>how comes i have overdue debts na sijakopawhat...</td>\n",
       "      <td>1</td>\n",
       "      <td>0</td>\n",
       "      <td>0</td>\n",
       "      <td>0</td>\n",
       "      <td>21</td>\n",
       "      <td>July 27, 2025 at 07:51 PM</td>\n",
       "      <td>Customer care complaint</td>\n",
       "      <td>99</td>\n",
       "      <td>19</td>\n",
       "      <td>1</td>\n",
       "      <td>[how, comes, i, have, overdue, debts, na, sija...</td>\n",
       "      <td>[how, come, i, have, overdue, debt, na, sijako...</td>\n",
       "    </tr>\n",
       "    <tr>\n",
       "      <th>1</th>\n",
       "      <td>montyhasashi safaricom</td>\n",
       "      <td>0</td>\n",
       "      <td>0</td>\n",
       "      <td>0</td>\n",
       "      <td>0</td>\n",
       "      <td>22</td>\n",
       "      <td>July 27, 2025 at 03:26 AM</td>\n",
       "      <td>Neutral</td>\n",
       "      <td>28</td>\n",
       "      <td>5</td>\n",
       "      <td>1</td>\n",
       "      <td>[montyhasashi, safaricom]</td>\n",
       "      <td>[montyhasashi, safaricom]</td>\n",
       "    </tr>\n",
       "    <tr>\n",
       "      <th>2</th>\n",
       "      <td>safaricom weka data wacheni jokesthank you for...</td>\n",
       "      <td>0</td>\n",
       "      <td>0</td>\n",
       "      <td>0</td>\n",
       "      <td>0</td>\n",
       "      <td>6</td>\n",
       "      <td>July 26, 2025 at 08:23 AM</td>\n",
       "      <td>Internet or airtime bundle complaint</td>\n",
       "      <td>181</td>\n",
       "      <td>38</td>\n",
       "      <td>2</td>\n",
       "      <td>[safaricom, weka, data, wacheni, jokesthank, y...</td>\n",
       "      <td>[safaricom, weka, data, wacheni, jokesthank, y...</td>\n",
       "    </tr>\n",
       "    <tr>\n",
       "      <th>3</th>\n",
       "      <td>safaricomplc hello safaricomplc safaricom can ...</td>\n",
       "      <td>0</td>\n",
       "      <td>0</td>\n",
       "      <td>0</td>\n",
       "      <td>0</td>\n",
       "      <td>47</td>\n",
       "      <td>July 24, 2025 at 08:13 PM</td>\n",
       "      <td>Customer care complaint</td>\n",
       "      <td>280</td>\n",
       "      <td>53</td>\n",
       "      <td>4</td>\n",
       "      <td>[safaricomplc, hello, safaricomplc, safaricom,...</td>\n",
       "      <td>[safaricomplc, hello, safaricomplc, safaricom,...</td>\n",
       "    </tr>\n",
       "    <tr>\n",
       "      <th>4</th>\n",
       "      <td>peterndegwa safaricomplc safaricomcare safbusi...</td>\n",
       "      <td>0</td>\n",
       "      <td>0</td>\n",
       "      <td>0</td>\n",
       "      <td>0</td>\n",
       "      <td>5</td>\n",
       "      <td>July 24, 2025 at 10:51 AM</td>\n",
       "      <td>Customer care complaint</td>\n",
       "      <td>255</td>\n",
       "      <td>48</td>\n",
       "      <td>2</td>\n",
       "      <td>[peterndegwa, safaricomplc, safaricomcare, saf...</td>\n",
       "      <td>[peterndegwa, safaricomplc, safaricomcare, saf...</td>\n",
       "    </tr>\n",
       "  </tbody>\n",
       "</table>\n",
       "</div>"
      ],
      "text/plain": [
       "                                             Content  Likes  Retweets  \\\n",
       "0  how comes i have overdue debts na sijakopawhat...      1         0   \n",
       "1                             montyhasashi safaricom      0         0   \n",
       "2  safaricom weka data wacheni jokesthank you for...      0         0   \n",
       "3  safaricomplc hello safaricomplc safaricom can ...      0         0   \n",
       "4  peterndegwa safaricomplc safaricomcare safbusi...      0         0   \n",
       "\n",
       "   Replies  Quotes  Views                       Date  \\\n",
       "0        0       0     21  July 27, 2025 at 07:51 PM   \n",
       "1        0       0     22  July 27, 2025 at 03:26 AM   \n",
       "2        0       0      6  July 26, 2025 at 08:23 AM   \n",
       "3        0       0     47  July 24, 2025 at 08:13 PM   \n",
       "4        0       0      5  July 24, 2025 at 10:51 AM   \n",
       "\n",
       "                                 Labels  chars  words  sentences  \\\n",
       "0               Customer care complaint     99     19          1   \n",
       "1                               Neutral     28      5          1   \n",
       "2  Internet or airtime bundle complaint    181     38          2   \n",
       "3               Customer care complaint    280     53          4   \n",
       "4               Customer care complaint    255     48          2   \n",
       "\n",
       "                                      Tokenized Text  \\\n",
       "0  [how, comes, i, have, overdue, debts, na, sija...   \n",
       "1                          [montyhasashi, safaricom]   \n",
       "2  [safaricom, weka, data, wacheni, jokesthank, y...   \n",
       "3  [safaricomplc, hello, safaricomplc, safaricom,...   \n",
       "4  [peterndegwa, safaricomplc, safaricomcare, saf...   \n",
       "\n",
       "                                      Lematized Text  \n",
       "0  [how, come, i, have, overdue, debt, na, sijako...  \n",
       "1                          [montyhasashi, safaricom]  \n",
       "2  [safaricom, weka, data, wacheni, jokesthank, y...  \n",
       "3  [safaricomplc, hello, safaricomplc, safaricom,...  \n",
       "4  [peterndegwa, safaricomplc, safaricomcare, saf...  "
      ]
     },
     "execution_count": 10,
     "metadata": {},
     "output_type": "execute_result"
    }
   ],
   "source": [
    "# lemmatize the tweet content\n",
    "safaricom_df['Lematized Text'] = safaricom_df['Tokenized Text'].apply(lambda word_token: [nltk.WordNetLemmatizer().lemmatize(token) for token in word_token])\n",
    "safaricom_df.head()"
   ]
  },
  {
   "cell_type": "code",
   "execution_count": 11,
   "id": "91d0c116",
   "metadata": {},
   "outputs": [],
   "source": [
    "# save the cleaned and preprocessed dataframe\n",
    "safaricom_df.to_csv('data/cleaned_safaricom_data.csv', index=False)"
   ]
  },
  {
   "cell_type": "code",
   "execution_count": 20,
   "id": "e2b5f734",
   "metadata": {},
   "outputs": [
    {
     "name": "stderr",
     "output_type": "stream",
     "text": [
      "/tmp/ipykernel_6345/2580041668.py:5: FutureWarning:\n",
      "\n",
      "A value is trying to be set on a copy of a DataFrame or Series through chained assignment using an inplace method.\n",
      "The behavior will change in pandas 3.0. This inplace method will never work because the intermediate object on which we are setting values always behaves as a copy.\n",
      "\n",
      "For example, when doing 'df[col].method(value, inplace=True)', try using 'df.method({col: value}, inplace=True)' or df[col] = df[col].method(value) instead, to perform the operation inplace on the original object.\n",
      "\n",
      "\n",
      "\n"
     ]
    }
   ],
   "source": [
    "# join the lemmatized tokens back into strings for vectorization\n",
    "safaricom_df['processed_text'] = safaricom_df['Lematized Text'].apply(lambda x: ' '.join(x))\n",
    "\n",
    "# fill any NaN values in the 'Labels' column\n",
    "safaricom_df['Labels'].fillna('unknown', inplace=True)\n",
    "\n",
    "# Filter out unknown labels before training\n",
    "safaricom_df = safaricom_df[safaricom_df['Labels'] != 'unknown']\n",
    "\n",
    "# split the data into train and test sets\n",
    "X = safaricom_df.drop(['Labels', 'Date'], axis=1)\n",
    "y = safaricom_df['Labels']\n",
    "\n",
    "X_train, X_test, y_train, y_test = train_test_split(X, y, test_size=0.2, random_state=42)"
   ]
  },
  {
   "cell_type": "code",
   "execution_count": 21,
   "id": "772f2705",
   "metadata": {},
   "outputs": [
    {
     "name": "stdout",
     "output_type": "stream",
     "text": [
      "Training features shape: (2058, 5000)\n",
      "Testing features shape: (515, 5000)\n",
      "Vocabulary size: 5000\n"
     ]
    }
   ],
   "source": [
    "# Feature Extraction using CountVectorizer (Bag of Words)\n",
    "\n",
    "# initialize the CountVectorizer\n",
    "vectorizer = CountVectorizer(max_features=5000, stop_words='english')\n",
    "\n",
    "# fit on training data and transform both training and validation data\n",
    "X_train_vectorized = vectorizer.fit_transform(X_train['processed_text'])\n",
    "X_test_vectorized = vectorizer.transform(X_test['processed_text'])\n",
    "\n",
    "print(f\"Training features shape: {X_train_vectorized.shape}\")\n",
    "print(f\"Testing features shape: {X_test_vectorized.shape}\")\n",
    "print(f\"Vocabulary size: {len(vectorizer.vocabulary_)}\")"
   ]
  },
  {
   "cell_type": "markdown",
   "id": "6c49b3e1",
   "metadata": {},
   "source": [
    "## Modeling"
   ]
  },
  {
   "cell_type": "markdown",
   "id": "134bde45",
   "metadata": {},
   "source": [
    "### 1. Logistic Regression"
   ]
  },
  {
   "cell_type": "code",
   "execution_count": 24,
   "id": "61a9ccf8",
   "metadata": {},
   "outputs": [
    {
     "name": "stdout",
     "output_type": "stream",
     "text": [
      "Logistic Regression F1-Score: 0.620129656665342\n",
      "\n",
      "Classification Report:\n",
      "                                       precision    recall  f1-score   support\n",
      "\n",
      "             Customer care complaint       0.42      0.47      0.45        72\n",
      " Data protection and privacy concern       0.55      0.31      0.39        39\n",
      "                         Hate Speech       0.43      0.53      0.47        51\n",
      "Internet or airtime bundle complaint       0.67      0.69      0.68        55\n",
      "                     MPESA complaint       0.67      0.79      0.72        43\n",
      "         Network reliability problem       0.68      0.55      0.61        42\n",
      "                             Neutral       0.73      0.71      0.72       213\n",
      "\n",
      "                            accuracy                           0.62       515\n",
      "                           macro avg       0.59      0.58      0.58       515\n",
      "                        weighted avg       0.63      0.62      0.62       515\n",
      "\n"
     ]
    }
   ],
   "source": [
    "# instantiate the Logistic Regression model, and fit the data\n",
    "log_model = LogisticRegression(max_iter=1000, random_state=42, class_weight='balanced')\n",
    "log_model.fit(X_train_vectorized, y_train)\n",
    "\n",
    "# make predictions on the test set\n",
    "y_pred = log_model.predict(X_test_vectorized)\n",
    "\n",
    "# evaluate the model\n",
    "print(f\"Logistic Regression F1-Score: {f1_score(y_test, y_pred, average='weighted', zero_division=0)}\")\n",
    "print(\"\\nClassification Report:\\n\", classification_report(y_test, y_pred))"
   ]
  },
  {
   "cell_type": "markdown",
   "id": "49c05e3e",
   "metadata": {},
   "source": [
    "### 2. Naive Bayes Model"
   ]
  },
  {
   "cell_type": "code",
   "execution_count": 25,
   "id": "69db5218",
   "metadata": {},
   "outputs": [
    {
     "name": "stdout",
     "output_type": "stream",
     "text": [
      "Naive Bayes F1-Score: 0.5663385402113926\n",
      "\n",
      "Classification Report:\n",
      "                                       precision    recall  f1-score   support\n",
      "\n",
      "             Customer care complaint       0.46      0.57      0.51        72\n",
      " Data protection and privacy concern       0.62      0.13      0.21        39\n",
      "                         Hate Speech       0.53      0.37      0.44        51\n",
      "Internet or airtime bundle complaint       0.61      0.65      0.63        55\n",
      "                     MPESA complaint       0.70      0.49      0.58        43\n",
      "         Network reliability problem       0.80      0.19      0.31        42\n",
      "                             Neutral       0.63      0.83      0.71       213\n",
      "\n",
      "                            accuracy                           0.60       515\n",
      "                           macro avg       0.62      0.46      0.48       515\n",
      "                        weighted avg       0.61      0.60      0.57       515\n",
      "\n"
     ]
    }
   ],
   "source": [
    "# instantiate the Multinomial Naive Bayes model, and fit the data\n",
    "nb_model = MultinomialNB()\n",
    "nb_model.fit(X_train_vectorized, y_train)\n",
    "\n",
    "# make predictions on the test set\n",
    "y_pred = nb_model.predict(X_test_vectorized)\n",
    "\n",
    "# evaluate the model\n",
    "print(f\"Naive Bayes F1-Score: {f1_score(y_test, y_pred, average='weighted', zero_division=0)}\")\n",
    "print(\"\\nClassification Report:\\n\", classification_report(y_test, y_pred))"
   ]
  },
  {
   "cell_type": "markdown",
   "id": "4b52b4f4",
   "metadata": {},
   "source": [
    "### 3. Random Forest Model"
   ]
  },
  {
   "cell_type": "code",
   "execution_count": 26,
   "id": "72f15183",
   "metadata": {},
   "outputs": [
    {
     "name": "stdout",
     "output_type": "stream",
     "text": [
      "Random Forest F1-Score: 0.5904624558969022\n",
      "\n",
      "Classification Report:\n",
      "                                       precision    recall  f1-score   support\n",
      "\n",
      "             Customer care complaint       0.56      0.33      0.42        72\n",
      " Data protection and privacy concern       0.86      0.15      0.26        39\n",
      "                         Hate Speech       0.63      0.37      0.47        51\n",
      "Internet or airtime bundle complaint       0.60      0.78      0.68        55\n",
      "                     MPESA complaint       0.62      0.74      0.67        43\n",
      "         Network reliability problem       0.67      0.38      0.48        42\n",
      "                             Neutral       0.63      0.85      0.72       213\n",
      "\n",
      "                            accuracy                           0.62       515\n",
      "                           macro avg       0.65      0.52      0.53       515\n",
      "                        weighted avg       0.63      0.62      0.59       515\n",
      "\n"
     ]
    }
   ],
   "source": [
    "from sklearn.ensemble import RandomForestClassifier\n",
    "\n",
    "# instantiate the Random Forest model, and fit the data\n",
    "rf_model = RandomForestClassifier(n_estimators=100, random_state=42, class_weight='balanced')\n",
    "rf_model.fit(X_train_vectorized, y_train)\n",
    "\n",
    "# make predictions on the test set\n",
    "y_pred = rf_model.predict(X_test_vectorized)\n",
    "\n",
    "# evaluate the model\n",
    "print(f\"Random Forest F1-Score: {f1_score(y_test, y_pred, average='weighted', zero_division=0)}\")\n",
    "print(\"\\nClassification Report:\\n\", classification_report(y_test, y_pred))"
   ]
  },
  {
   "cell_type": "code",
   "execution_count": 29,
   "id": "33c2b780",
   "metadata": {},
   "outputs": [
    {
     "name": "stdout",
     "output_type": "stream",
     "text": [
      "The predicted label for the new tweet is: Data protection and privacy concern\n"
     ]
    }
   ],
   "source": [
    "# test on unseen data\n",
    "new_tweet = \"There have been so many abductions in the country the last couple of months, and I bet on my life that Safaricom is taking part in it by sharing our information with those involved\"\n",
    "\n",
    "cleaned_new_tweet = clean_data(new_tweet)\n",
    "new_tweet_tfidf = vectorizer.transform([cleaned_new_tweet])\n",
    "predicted_label = log_model.predict(new_tweet_tfidf) # use the best performing model for inference\n",
    "\n",
    "print(f\"The predicted label for the new tweet is: {predicted_label[0]}\")"
   ]
  },
  {
   "cell_type": "markdown",
   "id": "701b5ff2",
   "metadata": {},
   "source": []
  }
 ],
 "metadata": {
  "kernelspec": {
   "display_name": "venv",
   "language": "python",
   "name": "python3"
  },
  "language_info": {
   "codemirror_mode": {
    "name": "ipython",
    "version": 3
   },
   "file_extension": ".py",
   "mimetype": "text/x-python",
   "name": "python",
   "nbconvert_exporter": "python",
   "pygments_lexer": "ipython3",
   "version": "3.12.3"
  }
 },
 "nbformat": 4,
 "nbformat_minor": 5
}
