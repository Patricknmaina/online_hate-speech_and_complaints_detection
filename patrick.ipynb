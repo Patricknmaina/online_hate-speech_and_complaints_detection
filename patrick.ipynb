{
 "cells": [
  {
   "cell_type": "markdown",
   "id": "08b54b47",
   "metadata": {},
   "source": [
    "# Safaricom Tweets Classification for complaints & Hate Speech Detection"
   ]
  },
  {
   "cell_type": "code",
   "execution_count": 1,
   "id": "b18716b9",
   "metadata": {},
   "outputs": [],
   "source": [
    "# import libraries\n",
    "import pandas as pd\n",
    "import numpy as np\n",
    "import matplotlib.pyplot as plt\n",
    "import seaborn as sns\n",
    "import plotly.express as px\n",
    "from sklearn.feature_extraction.text import CountVectorizer\n",
    "from sklearn.model_selection import train_test_split\n",
    "from sklearn.linear_model import LogisticRegression\n",
    "from sklearn.naive_bayes import MultinomialNB\n",
    "from sklearn.metrics import classification_report, accuracy_score, precision_score, recall_score, f1_score\n",
    "from imblearn.over_sampling import SMOTE\n",
    "\n",
    "# nltk libraries\n",
    "import nltk\n",
    "nltk.download('punkt_tab', quiet=True)\n",
    "nltk.download('stopwords', quiet=True)\n",
    "nltk.download('wordnet', quiet=True)\n",
    "from nltk.corpus import stopwords\n",
    "from nltk.stem import WordNetLemmatizer\n",
    "from nltk.tokenize import word_tokenize\n",
    "import re"
   ]
  },
  {
   "cell_type": "markdown",
   "id": "12e4553d",
   "metadata": {},
   "source": [
    "## Load the dataset"
   ]
  },
  {
   "cell_type": "code",
   "execution_count": 2,
   "id": "0e38c33e",
   "metadata": {},
   "outputs": [
    {
     "name": "stdout",
     "output_type": "stream",
     "text": [
      "Dataset loaded successfully from data/combined_safaricom_data.csv\n"
     ]
    }
   ],
   "source": [
    "# load dataset\n",
    "from data_prep.data_loader import DataLoader # custom class\n",
    "\n",
    "# define a loader variable\n",
    "loader = DataLoader('data/combined_safaricom_data.csv')\n",
    "data = loader.load_data()"
   ]
  },
  {
   "cell_type": "code",
   "execution_count": 3,
   "id": "748e9366",
   "metadata": {},
   "outputs": [
    {
     "name": "stdout",
     "output_type": "stream",
     "text": [
      "Dataset Information:\n",
      "==================================================\n",
      "<class 'pandas.core.frame.DataFrame'>\n",
      "RangeIndex: 5283 entries, 0 to 5282\n",
      "Data columns (total 10 columns):\n",
      " #   Column    Non-Null Count  Dtype  \n",
      "---  ------    --------------  -----  \n",
      " 0   Tweet ID  5270 non-null   float64\n",
      " 1   URL       5270 non-null   object \n",
      " 2   Content   5270 non-null   object \n",
      " 3   Likes     5283 non-null   int64  \n",
      " 4   Retweets  5283 non-null   int64  \n",
      " 5   Replies   5283 non-null   int64  \n",
      " 6   Quotes    5283 non-null   int64  \n",
      " 7   Views     5283 non-null   int64  \n",
      " 8   Date      5270 non-null   object \n",
      " 9   Labels    5282 non-null   object \n",
      "dtypes: float64(1), int64(5), object(4)\n",
      "memory usage: 412.9+ KB\n",
      "None\n",
      "\n",
      "Dataset shape: (5283, 10)\n",
      "Memory usage: 2.71 MB\n"
     ]
    }
   ],
   "source": [
    "# check the dataset info and shape\n",
    "loader.check_dataset_info()"
   ]
  },
  {
   "cell_type": "code",
   "execution_count": 4,
   "id": "f2b3b81f",
   "metadata": {},
   "outputs": [
    {
     "name": "stdout",
     "output_type": "stream",
     "text": [
      "Handling missing values...\n",
      "========================================\n",
      "Original dataset shape: (5283, 10)\n",
      "Found missing values in 5 columns:\n",
      "  Tweet ID: 13 (0.25%)\n",
      "  URL: 13 (0.25%)\n",
      "  Content: 13 (0.25%)\n",
      "  Date: 13 (0.25%)\n",
      "  Labels: 1 (0.02%)\n",
      "Dropping 13 rows with missing Tweet ID\n",
      "Dropping 13 rows with missing URL\n",
      "Dropping 13 rows with missing Content\n",
      "Dropping 13 rows with missing Date\n",
      "Dropping 1 rows with missing labels\n",
      "✓ All missing values successfully handled!\n",
      "\n",
      "Summary:\n",
      "  Original rows: 5283\n",
      "  Final rows: 5269\n",
      "  Rows removed: 14\n",
      "  Data retention: 99.73%\n",
      "Tweet ID    0\n",
      "URL         0\n",
      "Content     0\n",
      "Likes       0\n",
      "Retweets    0\n",
      "Replies     0\n",
      "Quotes      0\n",
      "Views       0\n",
      "Date        0\n",
      "Labels      0\n",
      "dtype: int64\n"
     ]
    }
   ],
   "source": [
    "# handle missing values\n",
    "data = loader.handle_missing_values(strategy='comprehensive')\n",
    "print(data.isnull().sum())"
   ]
  },
  {
   "cell_type": "code",
   "execution_count": 5,
   "id": "6d987542",
   "metadata": {},
   "outputs": [
    {
     "name": "stdout",
     "output_type": "stream",
     "text": [
      "Number of duplicate rows: 1569\n",
      "Duplicate rows found. Consider removing them.\n"
     ]
    },
    {
     "data": {
      "text/plain": [
       "np.int64(1569)"
      ]
     },
     "execution_count": 5,
     "metadata": {},
     "output_type": "execute_result"
    }
   ],
   "source": [
    "# check for duplicates\n",
    "loader.check_duplicates()"
   ]
  },
  {
   "cell_type": "code",
   "execution_count": 6,
   "id": "8db6872c",
   "metadata": {},
   "outputs": [
    {
     "name": "stdout",
     "output_type": "stream",
     "text": [
      "Removed 1569 duplicate rows.\n",
      "Number of duplicate rows: 0\n",
      "No duplicate rows found.\n"
     ]
    },
    {
     "data": {
      "text/plain": [
       "np.int64(0)"
      ]
     },
     "execution_count": 6,
     "metadata": {},
     "output_type": "execute_result"
    }
   ],
   "source": [
    "# handle duplicate rows\n",
    "loader.remove_duplicates()\n",
    "loader.check_duplicates()"
   ]
  },
  {
   "cell_type": "code",
   "execution_count": 7,
   "id": "40e5e78c",
   "metadata": {},
   "outputs": [
    {
     "name": "stdout",
     "output_type": "stream",
     "text": [
      "Distribution of the target variable:\n",
      "==================================================\n",
      "Labels\n",
      "Neutral                                 1094\n",
      "Hate Speech                              828\n",
      "Customer care complaint                  601\n",
      "Internet or airtime bundle complaint     375\n",
      "MPESA complaint                          282\n",
      "Data protection and privacy concern      264\n",
      "Network reliability problem              256\n",
      "Name: count, dtype: int64\n"
     ]
    },
    {
     "data": {
      "text/plain": [
       "Labels\n",
       "Neutral                                 1094\n",
       "Hate Speech                              828\n",
       "Customer care complaint                  601\n",
       "Internet or airtime bundle complaint     375\n",
       "MPESA complaint                          282\n",
       "Data protection and privacy concern      264\n",
       "Network reliability problem              256\n",
       "Name: count, dtype: int64"
      ]
     },
     "execution_count": 7,
     "metadata": {},
     "output_type": "execute_result"
    }
   ],
   "source": [
    "# check the distribution of the target variable\n",
    "loader.analyze_target_distribution()"
   ]
  },
  {
   "cell_type": "code",
   "execution_count": 8,
   "id": "8e6ffb7d",
   "metadata": {},
   "outputs": [
    {
     "data": {
      "application/vnd.plotly.v1+json": {
       "config": {
        "plotlyServerURL": "https://plot.ly"
       },
       "data": [
        {
         "hovertemplate": "Label=%{x}<br>Count=%{y}<extra></extra>",
         "legendgroup": "",
         "marker": {
          "color": [
           "#636EFA",
           "#EF553B",
           "#00CC96",
           "#AB63FA",
           "#FFA15A",
           "#19D3F3",
           "#FF6692"
          ],
          "pattern": {
           "shape": ""
          }
         },
         "name": "",
         "orientation": "v",
         "showlegend": false,
         "textposition": "auto",
         "type": "bar",
         "x": [
          "Neutral",
          "Hate Speech",
          "Customer care complaint",
          "Internet or airtime bundle complaint",
          "MPESA complaint",
          "Data protection and privacy concern",
          "Network reliability problem"
         ],
         "xaxis": "x",
         "y": {
          "bdata": "RgQ8A1kCdwEaAQgBAAE=",
          "dtype": "i2"
         },
         "yaxis": "y"
        }
       ],
       "layout": {
        "barmode": "relative",
        "legend": {
         "tracegroupgap": 0
        },
        "template": {
         "data": {
          "bar": [
           {
            "error_x": {
             "color": "#2a3f5f"
            },
            "error_y": {
             "color": "#2a3f5f"
            },
            "marker": {
             "line": {
              "color": "#E5ECF6",
              "width": 0.5
             },
             "pattern": {
              "fillmode": "overlay",
              "size": 10,
              "solidity": 0.2
             }
            },
            "type": "bar"
           }
          ],
          "barpolar": [
           {
            "marker": {
             "line": {
              "color": "#E5ECF6",
              "width": 0.5
             },
             "pattern": {
              "fillmode": "overlay",
              "size": 10,
              "solidity": 0.2
             }
            },
            "type": "barpolar"
           }
          ],
          "carpet": [
           {
            "aaxis": {
             "endlinecolor": "#2a3f5f",
             "gridcolor": "white",
             "linecolor": "white",
             "minorgridcolor": "white",
             "startlinecolor": "#2a3f5f"
            },
            "baxis": {
             "endlinecolor": "#2a3f5f",
             "gridcolor": "white",
             "linecolor": "white",
             "minorgridcolor": "white",
             "startlinecolor": "#2a3f5f"
            },
            "type": "carpet"
           }
          ],
          "choropleth": [
           {
            "colorbar": {
             "outlinewidth": 0,
             "ticks": ""
            },
            "type": "choropleth"
           }
          ],
          "contour": [
           {
            "colorbar": {
             "outlinewidth": 0,
             "ticks": ""
            },
            "colorscale": [
             [
              0,
              "#0d0887"
             ],
             [
              0.1111111111111111,
              "#46039f"
             ],
             [
              0.2222222222222222,
              "#7201a8"
             ],
             [
              0.3333333333333333,
              "#9c179e"
             ],
             [
              0.4444444444444444,
              "#bd3786"
             ],
             [
              0.5555555555555556,
              "#d8576b"
             ],
             [
              0.6666666666666666,
              "#ed7953"
             ],
             [
              0.7777777777777778,
              "#fb9f3a"
             ],
             [
              0.8888888888888888,
              "#fdca26"
             ],
             [
              1,
              "#f0f921"
             ]
            ],
            "type": "contour"
           }
          ],
          "contourcarpet": [
           {
            "colorbar": {
             "outlinewidth": 0,
             "ticks": ""
            },
            "type": "contourcarpet"
           }
          ],
          "heatmap": [
           {
            "colorbar": {
             "outlinewidth": 0,
             "ticks": ""
            },
            "colorscale": [
             [
              0,
              "#0d0887"
             ],
             [
              0.1111111111111111,
              "#46039f"
             ],
             [
              0.2222222222222222,
              "#7201a8"
             ],
             [
              0.3333333333333333,
              "#9c179e"
             ],
             [
              0.4444444444444444,
              "#bd3786"
             ],
             [
              0.5555555555555556,
              "#d8576b"
             ],
             [
              0.6666666666666666,
              "#ed7953"
             ],
             [
              0.7777777777777778,
              "#fb9f3a"
             ],
             [
              0.8888888888888888,
              "#fdca26"
             ],
             [
              1,
              "#f0f921"
             ]
            ],
            "type": "heatmap"
           }
          ],
          "histogram": [
           {
            "marker": {
             "pattern": {
              "fillmode": "overlay",
              "size": 10,
              "solidity": 0.2
             }
            },
            "type": "histogram"
           }
          ],
          "histogram2d": [
           {
            "colorbar": {
             "outlinewidth": 0,
             "ticks": ""
            },
            "colorscale": [
             [
              0,
              "#0d0887"
             ],
             [
              0.1111111111111111,
              "#46039f"
             ],
             [
              0.2222222222222222,
              "#7201a8"
             ],
             [
              0.3333333333333333,
              "#9c179e"
             ],
             [
              0.4444444444444444,
              "#bd3786"
             ],
             [
              0.5555555555555556,
              "#d8576b"
             ],
             [
              0.6666666666666666,
              "#ed7953"
             ],
             [
              0.7777777777777778,
              "#fb9f3a"
             ],
             [
              0.8888888888888888,
              "#fdca26"
             ],
             [
              1,
              "#f0f921"
             ]
            ],
            "type": "histogram2d"
           }
          ],
          "histogram2dcontour": [
           {
            "colorbar": {
             "outlinewidth": 0,
             "ticks": ""
            },
            "colorscale": [
             [
              0,
              "#0d0887"
             ],
             [
              0.1111111111111111,
              "#46039f"
             ],
             [
              0.2222222222222222,
              "#7201a8"
             ],
             [
              0.3333333333333333,
              "#9c179e"
             ],
             [
              0.4444444444444444,
              "#bd3786"
             ],
             [
              0.5555555555555556,
              "#d8576b"
             ],
             [
              0.6666666666666666,
              "#ed7953"
             ],
             [
              0.7777777777777778,
              "#fb9f3a"
             ],
             [
              0.8888888888888888,
              "#fdca26"
             ],
             [
              1,
              "#f0f921"
             ]
            ],
            "type": "histogram2dcontour"
           }
          ],
          "mesh3d": [
           {
            "colorbar": {
             "outlinewidth": 0,
             "ticks": ""
            },
            "type": "mesh3d"
           }
          ],
          "parcoords": [
           {
            "line": {
             "colorbar": {
              "outlinewidth": 0,
              "ticks": ""
             }
            },
            "type": "parcoords"
           }
          ],
          "pie": [
           {
            "automargin": true,
            "type": "pie"
           }
          ],
          "scatter": [
           {
            "fillpattern": {
             "fillmode": "overlay",
             "size": 10,
             "solidity": 0.2
            },
            "type": "scatter"
           }
          ],
          "scatter3d": [
           {
            "line": {
             "colorbar": {
              "outlinewidth": 0,
              "ticks": ""
             }
            },
            "marker": {
             "colorbar": {
              "outlinewidth": 0,
              "ticks": ""
             }
            },
            "type": "scatter3d"
           }
          ],
          "scattercarpet": [
           {
            "marker": {
             "colorbar": {
              "outlinewidth": 0,
              "ticks": ""
             }
            },
            "type": "scattercarpet"
           }
          ],
          "scattergeo": [
           {
            "marker": {
             "colorbar": {
              "outlinewidth": 0,
              "ticks": ""
             }
            },
            "type": "scattergeo"
           }
          ],
          "scattergl": [
           {
            "marker": {
             "colorbar": {
              "outlinewidth": 0,
              "ticks": ""
             }
            },
            "type": "scattergl"
           }
          ],
          "scattermap": [
           {
            "marker": {
             "colorbar": {
              "outlinewidth": 0,
              "ticks": ""
             }
            },
            "type": "scattermap"
           }
          ],
          "scattermapbox": [
           {
            "marker": {
             "colorbar": {
              "outlinewidth": 0,
              "ticks": ""
             }
            },
            "type": "scattermapbox"
           }
          ],
          "scatterpolar": [
           {
            "marker": {
             "colorbar": {
              "outlinewidth": 0,
              "ticks": ""
             }
            },
            "type": "scatterpolar"
           }
          ],
          "scatterpolargl": [
           {
            "marker": {
             "colorbar": {
              "outlinewidth": 0,
              "ticks": ""
             }
            },
            "type": "scatterpolargl"
           }
          ],
          "scatterternary": [
           {
            "marker": {
             "colorbar": {
              "outlinewidth": 0,
              "ticks": ""
             }
            },
            "type": "scatterternary"
           }
          ],
          "surface": [
           {
            "colorbar": {
             "outlinewidth": 0,
             "ticks": ""
            },
            "colorscale": [
             [
              0,
              "#0d0887"
             ],
             [
              0.1111111111111111,
              "#46039f"
             ],
             [
              0.2222222222222222,
              "#7201a8"
             ],
             [
              0.3333333333333333,
              "#9c179e"
             ],
             [
              0.4444444444444444,
              "#bd3786"
             ],
             [
              0.5555555555555556,
              "#d8576b"
             ],
             [
              0.6666666666666666,
              "#ed7953"
             ],
             [
              0.7777777777777778,
              "#fb9f3a"
             ],
             [
              0.8888888888888888,
              "#fdca26"
             ],
             [
              1,
              "#f0f921"
             ]
            ],
            "type": "surface"
           }
          ],
          "table": [
           {
            "cells": {
             "fill": {
              "color": "#EBF0F8"
             },
             "line": {
              "color": "white"
             }
            },
            "header": {
             "fill": {
              "color": "#C8D4E3"
             },
             "line": {
              "color": "white"
             }
            },
            "type": "table"
           }
          ]
         },
         "layout": {
          "annotationdefaults": {
           "arrowcolor": "#2a3f5f",
           "arrowhead": 0,
           "arrowwidth": 1
          },
          "autotypenumbers": "strict",
          "coloraxis": {
           "colorbar": {
            "outlinewidth": 0,
            "ticks": ""
           }
          },
          "colorscale": {
           "diverging": [
            [
             0,
             "#8e0152"
            ],
            [
             0.1,
             "#c51b7d"
            ],
            [
             0.2,
             "#de77ae"
            ],
            [
             0.3,
             "#f1b6da"
            ],
            [
             0.4,
             "#fde0ef"
            ],
            [
             0.5,
             "#f7f7f7"
            ],
            [
             0.6,
             "#e6f5d0"
            ],
            [
             0.7,
             "#b8e186"
            ],
            [
             0.8,
             "#7fbc41"
            ],
            [
             0.9,
             "#4d9221"
            ],
            [
             1,
             "#276419"
            ]
           ],
           "sequential": [
            [
             0,
             "#0d0887"
            ],
            [
             0.1111111111111111,
             "#46039f"
            ],
            [
             0.2222222222222222,
             "#7201a8"
            ],
            [
             0.3333333333333333,
             "#9c179e"
            ],
            [
             0.4444444444444444,
             "#bd3786"
            ],
            [
             0.5555555555555556,
             "#d8576b"
            ],
            [
             0.6666666666666666,
             "#ed7953"
            ],
            [
             0.7777777777777778,
             "#fb9f3a"
            ],
            [
             0.8888888888888888,
             "#fdca26"
            ],
            [
             1,
             "#f0f921"
            ]
           ],
           "sequentialminus": [
            [
             0,
             "#0d0887"
            ],
            [
             0.1111111111111111,
             "#46039f"
            ],
            [
             0.2222222222222222,
             "#7201a8"
            ],
            [
             0.3333333333333333,
             "#9c179e"
            ],
            [
             0.4444444444444444,
             "#bd3786"
            ],
            [
             0.5555555555555556,
             "#d8576b"
            ],
            [
             0.6666666666666666,
             "#ed7953"
            ],
            [
             0.7777777777777778,
             "#fb9f3a"
            ],
            [
             0.8888888888888888,
             "#fdca26"
            ],
            [
             1,
             "#f0f921"
            ]
           ]
          },
          "colorway": [
           "#636efa",
           "#EF553B",
           "#00cc96",
           "#ab63fa",
           "#FFA15A",
           "#19d3f3",
           "#FF6692",
           "#B6E880",
           "#FF97FF",
           "#FECB52"
          ],
          "font": {
           "color": "#2a3f5f"
          },
          "geo": {
           "bgcolor": "white",
           "lakecolor": "white",
           "landcolor": "#E5ECF6",
           "showlakes": true,
           "showland": true,
           "subunitcolor": "white"
          },
          "hoverlabel": {
           "align": "left"
          },
          "hovermode": "closest",
          "mapbox": {
           "style": "light"
          },
          "paper_bgcolor": "white",
          "plot_bgcolor": "#E5ECF6",
          "polar": {
           "angularaxis": {
            "gridcolor": "white",
            "linecolor": "white",
            "ticks": ""
           },
           "bgcolor": "#E5ECF6",
           "radialaxis": {
            "gridcolor": "white",
            "linecolor": "white",
            "ticks": ""
           }
          },
          "scene": {
           "xaxis": {
            "backgroundcolor": "#E5ECF6",
            "gridcolor": "white",
            "gridwidth": 2,
            "linecolor": "white",
            "showbackground": true,
            "ticks": "",
            "zerolinecolor": "white"
           },
           "yaxis": {
            "backgroundcolor": "#E5ECF6",
            "gridcolor": "white",
            "gridwidth": 2,
            "linecolor": "white",
            "showbackground": true,
            "ticks": "",
            "zerolinecolor": "white"
           },
           "zaxis": {
            "backgroundcolor": "#E5ECF6",
            "gridcolor": "white",
            "gridwidth": 2,
            "linecolor": "white",
            "showbackground": true,
            "ticks": "",
            "zerolinecolor": "white"
           }
          },
          "shapedefaults": {
           "line": {
            "color": "#2a3f5f"
           }
          },
          "ternary": {
           "aaxis": {
            "gridcolor": "white",
            "linecolor": "white",
            "ticks": ""
           },
           "baxis": {
            "gridcolor": "white",
            "linecolor": "white",
            "ticks": ""
           },
           "bgcolor": "#E5ECF6",
           "caxis": {
            "gridcolor": "white",
            "linecolor": "white",
            "ticks": ""
           }
          },
          "title": {
           "x": 0.05
          },
          "xaxis": {
           "automargin": true,
           "gridcolor": "white",
           "linecolor": "white",
           "ticks": "",
           "title": {
            "standoff": 15
           },
           "zerolinecolor": "white",
           "zerolinewidth": 2
          },
          "yaxis": {
           "automargin": true,
           "gridcolor": "white",
           "linecolor": "white",
           "ticks": "",
           "title": {
            "standoff": 15
           },
           "zerolinecolor": "white",
           "zerolinewidth": 2
          }
         }
        },
        "title": {
         "text": "Distribution of Target Variable"
        },
        "xaxis": {
         "anchor": "y",
         "domain": [
          0,
          1
         ],
         "title": {
          "text": "Label"
         }
        },
        "yaxis": {
         "anchor": "x",
         "domain": [
          0,
          1
         ],
         "title": {
          "text": "Count"
         }
        }
       }
      }
     },
     "metadata": {},
     "output_type": "display_data"
    }
   ],
   "source": [
    "# plot the distribution of the target variable\n",
    "loader.plot_target_distribution()"
   ]
  },
  {
   "cell_type": "code",
   "execution_count": 9,
   "id": "6ae0df5b",
   "metadata": {},
   "outputs": [],
   "source": [
    "# display a comprehensive summary of the dataset\n",
    "# loader.get_dataset_summary()"
   ]
  },
  {
   "cell_type": "markdown",
   "id": "6a012222",
   "metadata": {},
   "source": [
    "## Feature Engineering, Data Cleaning, Preprocessing & Vectorization"
   ]
  },
  {
   "cell_type": "code",
   "execution_count": 10,
   "id": "3d2d5b0c",
   "metadata": {},
   "outputs": [
    {
     "name": "stdout",
     "output_type": "stream",
     "text": [
      "Starting feature engineering pipeline...\n",
      "==================================================\n",
      "Generating text features...\n",
      "Added features: chars, words, sentences\n",
      "Removed columns: ['Tweet ID', 'URL']\n",
      "Cleaning text data...\n",
      "Text cleaning completed.\n",
      "Tokenizing text...\n",
      "Tokenization completed.\n",
      "Lemmatizing text...\n",
      "Lemmatization completed.\n",
      "Creating processed text...\n",
      "Processed text creation completed.\n",
      "Handling missing values in 'Labels' column...\n",
      "Removed 0 rows with 'unknown' labels.\n"
     ]
    },
    {
     "name": "stderr",
     "output_type": "stream",
     "text": [
      "/home/patrick/Desktop/online_hate-speech_and_complaints_detection/data_prep/feature_engineering.py:221: FutureWarning:\n",
      "\n",
      "A value is trying to be set on a copy of a DataFrame or Series through chained assignment using an inplace method.\n",
      "The behavior will change in pandas 3.0. This inplace method will never work because the intermediate object on which we are setting values always behaves as a copy.\n",
      "\n",
      "For example, when doing 'df[col].method(value, inplace=True)', try using 'df.method({col: value}, inplace=True)' or df[col] = df[col].method(value) instead, to perform the operation inplace on the original object.\n",
      "\n",
      "\n",
      "\n"
     ]
    },
    {
     "name": "stdout",
     "output_type": "stream",
     "text": [
      "Processed data saved to data/cleaned_safaricom_data.csv\n",
      "Prepared data for modeling:\n",
      "Features shape: (3700, 12)\n",
      "Target shape: (3700,)\n",
      "Splitting data with test_size=0.2, random_state=42\n",
      "Training set shape: (2960, 12)\n",
      "Testing set shape: (740, 12)\n",
      "Vectorizing text using COUNT vectorizer...\n",
      "Training features shape: (2960, 5000)\n",
      "Testing features shape: (740, 5000)\n",
      "Vocabulary size: 5000\n",
      "Feature engineering pipeline completed!\n",
      "==================================================\n"
     ]
    }
   ],
   "source": [
    "# use the FeatureEngineering class for creating new features, data cleaning, data preprocessing and vectorization\n",
    "from data_prep.feature_engineering import FeatureEngineering\n",
    "fe = FeatureEngineering(data)\n",
    "X_train_vec, X_test_vec, y_train, y_test, vectorizer = fe.process_pipeline()"
   ]
  },
  {
   "cell_type": "code",
   "execution_count": 11,
   "id": "e2b5f734",
   "metadata": {},
   "outputs": [],
   "source": [
    "# Ensure that fe.processed_data is not None before saving\n",
    "if fe.data is None:\n",
    "    raise ValueError(\"Processed data is not available. Please ensure the preprocessing pipeline has been run successfully.\")\n",
    "else:\n",
    "    safaricom_df = fe.data.copy()\n",
    "\n",
    "safaricom_df.to_csv('data/cleaned_safaricom_data.csv', index=False)"
   ]
  },
  {
   "cell_type": "markdown",
   "id": "6c49b3e1",
   "metadata": {},
   "source": [
    "## Modeling"
   ]
  },
  {
   "cell_type": "code",
   "execution_count": 12,
   "id": "8c20cbc3",
   "metadata": {},
   "outputs": [
    {
     "name": "stdout",
     "output_type": "stream",
     "text": [
      "Training and evaluating all models...\n",
      "==================================================\n",
      "Training Logistic Regression model...\n"
     ]
    },
    {
     "name": "stdout",
     "output_type": "stream",
     "text": [
      "Logistic Regression model trained successfully.\n",
      "Evaluating Logistic Regression...\n",
      "Logistic Regression Results:\n",
      "Accuracy: 0.5014\n",
      "Precision: 0.5054\n",
      "Recall: 0.5014\n",
      "F1-Score: 0.5020\n",
      "\n",
      "Classification Report:\n",
      "                                      precision    recall  f1-score   support\n",
      "\n",
      "             Customer care complaint       0.45      0.53      0.48       118\n",
      " Data protection and privacy concern       0.38      0.35      0.37        48\n",
      "                         Hate Speech       0.56      0.51      0.53       176\n",
      "Internet or airtime bundle complaint       0.50      0.44      0.47        71\n",
      "                     MPESA complaint       0.52      0.47      0.49        58\n",
      "         Network reliability problem       0.36      0.43      0.39        54\n",
      "                             Neutral       0.55      0.57      0.56       215\n",
      "\n",
      "                            accuracy                           0.50       740\n",
      "                           macro avg       0.47      0.47      0.47       740\n",
      "                        weighted avg       0.51      0.50      0.50       740\n",
      "\n",
      "Training Naive Bayes model...\n",
      "Naive Bayes model trained successfully.\n",
      "Evaluating Naive Bayes...\n",
      "Naive Bayes Results:\n",
      "Accuracy: 0.4878\n",
      "Precision: 0.5110\n",
      "Recall: 0.4878\n",
      "F1-Score: 0.4741\n",
      "\n",
      "Classification Report:\n",
      "                                      precision    recall  f1-score   support\n",
      "\n",
      "             Customer care complaint       0.40      0.64      0.49       118\n",
      " Data protection and privacy concern       0.60      0.31      0.41        48\n",
      "                         Hate Speech       0.60      0.43      0.50       176\n",
      "Internet or airtime bundle complaint       0.58      0.44      0.50        71\n",
      "                     MPESA complaint       0.68      0.33      0.44        58\n",
      "         Network reliability problem       0.31      0.09      0.14        54\n",
      "                             Neutral       0.46      0.65      0.54       215\n",
      "\n",
      "                            accuracy                           0.49       740\n",
      "                           macro avg       0.52      0.41      0.43       740\n",
      "                        weighted avg       0.51      0.49      0.47       740\n",
      "\n",
      "Training Random Forest model...\n",
      "Random Forest model trained successfully.\n",
      "Evaluating Random Forest...\n",
      "Random Forest Results:\n",
      "Accuracy: 0.4959\n",
      "Precision: 0.5026\n",
      "Recall: 0.4959\n",
      "F1-Score: 0.4845\n",
      "\n",
      "Classification Report:\n",
      "                                      precision    recall  f1-score   support\n",
      "\n",
      "             Customer care complaint       0.49      0.39      0.43       118\n",
      " Data protection and privacy concern       0.50      0.17      0.25        48\n",
      "                         Hate Speech       0.56      0.43      0.49       176\n",
      "Internet or airtime bundle complaint       0.57      0.61      0.59        71\n",
      "                     MPESA complaint       0.50      0.45      0.47        58\n",
      "         Network reliability problem       0.41      0.37      0.39        54\n",
      "                             Neutral       0.47      0.69      0.56       215\n",
      "\n",
      "                            accuracy                           0.50       740\n",
      "                           macro avg       0.50      0.44      0.45       740\n",
      "                        weighted avg       0.50      0.50      0.48       740\n",
      "\n",
      "\n",
      "Best model: Logistic Regression (F1-Score: 0.5020)\n"
     ]
    }
   ],
   "source": [
    "# use the Modeling() class to train and evaluate all models\n",
    "from data_prep.modeling import Modeling\n",
    "modeler = Modeling()\n",
    "results = modeler.train_and_evaluate_all_models(X_train_vec, y_train, X_test_vec, y_test)"
   ]
  },
  {
   "cell_type": "code",
   "execution_count": 13,
   "id": "490cfd11",
   "metadata": {},
   "outputs": [
    {
     "name": "stdout",
     "output_type": "stream",
     "text": [
      "Model Comparison:\n",
      "==================================================\n",
      "              Model  accuracy  precision  recall  f1_score\n",
      "Logistic Regression    0.5014     0.5054  0.5014    0.5020\n",
      "        Naive Bayes    0.4878     0.5110  0.4878    0.4741\n",
      "      Random Forest    0.4959     0.5026  0.4959    0.4845\n"
     ]
    },
    {
     "data": {
      "text/html": [
       "<div>\n",
       "<style scoped>\n",
       "    .dataframe tbody tr th:only-of-type {\n",
       "        vertical-align: middle;\n",
       "    }\n",
       "\n",
       "    .dataframe tbody tr th {\n",
       "        vertical-align: top;\n",
       "    }\n",
       "\n",
       "    .dataframe thead th {\n",
       "        text-align: right;\n",
       "    }\n",
       "</style>\n",
       "<table border=\"1\" class=\"dataframe\">\n",
       "  <thead>\n",
       "    <tr style=\"text-align: right;\">\n",
       "      <th></th>\n",
       "      <th>Model</th>\n",
       "      <th>accuracy</th>\n",
       "      <th>precision</th>\n",
       "      <th>recall</th>\n",
       "      <th>f1_score</th>\n",
       "    </tr>\n",
       "  </thead>\n",
       "  <tbody>\n",
       "    <tr>\n",
       "      <th>0</th>\n",
       "      <td>Logistic Regression</td>\n",
       "      <td>0.501351</td>\n",
       "      <td>0.505401</td>\n",
       "      <td>0.501351</td>\n",
       "      <td>0.501951</td>\n",
       "    </tr>\n",
       "    <tr>\n",
       "      <th>1</th>\n",
       "      <td>Naive Bayes</td>\n",
       "      <td>0.487838</td>\n",
       "      <td>0.511017</td>\n",
       "      <td>0.487838</td>\n",
       "      <td>0.474124</td>\n",
       "    </tr>\n",
       "    <tr>\n",
       "      <th>2</th>\n",
       "      <td>Random Forest</td>\n",
       "      <td>0.495946</td>\n",
       "      <td>0.502578</td>\n",
       "      <td>0.495946</td>\n",
       "      <td>0.484543</td>\n",
       "    </tr>\n",
       "  </tbody>\n",
       "</table>\n",
       "</div>"
      ],
      "text/plain": [
       "                 Model  accuracy  precision    recall  f1_score\n",
       "0  Logistic Regression  0.501351   0.505401  0.501351  0.501951\n",
       "1          Naive Bayes  0.487838   0.511017  0.487838  0.474124\n",
       "2        Random Forest  0.495946   0.502578  0.495946  0.484543"
      ]
     },
     "execution_count": 13,
     "metadata": {},
     "output_type": "execute_result"
    }
   ],
   "source": [
    "# compare all the models\n",
    "modeler.compare_models()"
   ]
  },
  {
   "cell_type": "code",
   "execution_count": 12,
   "id": "99842bc5",
   "metadata": {},
   "outputs": [],
   "source": [
    "# # cross-validation of the model\n",
    "# # Initialize the logistic regression model\n",
    "# lr_model = LogisticRegression(max_iter=1000, random_state=42)\n",
    "\n",
    "# # Use the Modeling class's cross_validate_model method for cross-validation\n",
    "# cv_results = modeler.cross_validate_model(lr_model, X_train_vec, y_train, cv=5)\n",
    "\n",
    "# print(\"Logistic Regression 5-fold cross-validation results:\", cv_results)"
   ]
  },
  {
   "cell_type": "code",
   "execution_count": 14,
   "id": "6a1e849a",
   "metadata": {},
   "outputs": [
    {
     "data": {
      "image/png": "[encoded data removed]",
      "text/plain": [
       "<Figure size 1000x800 with 2 Axes>"
      ]
     },
     "metadata": {},
     "output_type": "display_data"
    }
   ],
   "source": [
    "# plot the confusion matrix for the best model\n",
    "modeler.plot_confusion_matrix()"
   ]
  },
  {
   "cell_type": "code",
   "execution_count": 15,
   "id": "5e942abd",
   "metadata": {},
   "outputs": [
    {
     "name": "stdout",
     "output_type": "stream",
     "text": [
      "Testing predictions on sample tweets:\n",
      "1. Tweet: Safaricom network is very slow today, I can't browse properly\n",
      "   Prediction: Network reliability problem\n",
      "\n",
      "2. Tweet: There have been so many abductions in the country and I bet Safaricom is sharing our information\n",
      "   Prediction: Data protection and privacy concern\n",
      "\n",
      "3. Tweet: Thank you Safaricom for the great service today\n",
      "   Prediction: Hate Speech\n",
      "\n",
      "4. Tweet: My MPESA transaction failed again, this is frustrating\n",
      "   Prediction: MPESA complaint\n",
      "\n"
     ]
    }
   ],
   "source": [
    "# predict on some new tweets\n",
    "test_tweets = [\n",
    "    \"Safaricom network is very slow today, I can't browse properly\",\n",
    "    \"There have been so many abductions in the country and I bet Safaricom is sharing our information\",\n",
    "    \"Thank you Safaricom for the great service today\",\n",
    "    \"My MPESA transaction failed again, this is frustrating\"\n",
    "]\n",
    "    \n",
    "print(\"Testing predictions on sample tweets:\")\n",
    "for i, tweet in enumerate(test_tweets, 1):\n",
    "    prediction = modeler.predict_new_text(tweet, vectorizer)\n",
    "    print(f\"{i}. Tweet: {tweet}\")\n",
    "    print(f\"   Prediction: {prediction}\")\n",
    "    print()"
   ]
  },
  {
   "cell_type": "markdown",
   "id": "701b5ff2",
   "metadata": {},
   "source": []
  }
 ],
 "metadata": {
  "kernelspec": {
   "display_name": "venv",
   "language": "python",
   "name": "python3"
  },
  "language_info": {
   "codemirror_mode": {
    "name": "ipython",
    "version": 3
   },
   "file_extension": ".py",
   "mimetype": "text/x-python",
   "name": "python",
   "nbconvert_exporter": "python",
   "pygments_lexer": "ipython3",
   "version": "3.12.3"
  }
 },
 "nbformat": 4,
 "nbformat_minor": 5
}
