{
 "cells": [
  {
   "cell_type": "code",
   "execution_count": 1,
   "id": "20258971",
   "metadata": {},
   "outputs": [
    {
     "data": {
      "text/plain": [
       "True"
      ]
     },
     "execution_count": 1,
     "metadata": {},
     "output_type": "execute_result"
    }
   ],
   "source": [
    "#importing the necessary libraries\n",
    "import pandas as pd\n",
    "import numpy as np\n",
    "import os\n",
    "import sys\n",
    "import nltk\n",
    "import re\n",
    "from nltk.corpus import stopwords\n",
    "from nltk.stem import WordNetLemmatizer\n",
    "from nltk.tokenize import word_tokenize\n",
    "nltk.download('stopwords', quiet=True)\n",
    "nltk.download('wordnet', quiet=True)\n",
    "nltk.download('punkt', quiet=True)\n",
    "nltk.download('punkt_tab', quiet=True)\n",
    "\n"
   ]
  },
  {
   "cell_type": "code",
   "execution_count": 2,
   "id": "392d87ff",
   "metadata": {},
   "outputs": [
    {
     "name": "stderr",
     "output_type": "stream",
     "text": [
      "'ls' is not recognized as an internal or external command,\n",
      "operable program or batch file.\n"
     ]
    }
   ],
   "source": [
    "#checking files present\n",
    "!ls"
   ]
  },
  {
   "cell_type": "code",
   "execution_count": 3,
   "id": "63e18e30",
   "metadata": {},
   "outputs": [
    {
     "data": {
      "text/html": [
       "<div>\n",
       "<style scoped>\n",
       "    .dataframe tbody tr th:only-of-type {\n",
       "        vertical-align: middle;\n",
       "    }\n",
       "\n",
       "    .dataframe tbody tr th {\n",
       "        vertical-align: top;\n",
       "    }\n",
       "\n",
       "    .dataframe thead th {\n",
       "        text-align: right;\n",
       "    }\n",
       "</style>\n",
       "<table border=\"1\" class=\"dataframe\">\n",
       "  <thead>\n",
       "    <tr style=\"text-align: right;\">\n",
       "      <th></th>\n",
       "      <th>Tweet ID</th>\n",
       "      <th>URL</th>\n",
       "      <th>Content</th>\n",
       "      <th>Likes</th>\n",
       "      <th>Retweets</th>\n",
       "      <th>Replies</th>\n",
       "      <th>Quotes</th>\n",
       "      <th>Views</th>\n",
       "      <th>Date</th>\n",
       "      <th>Labels</th>\n",
       "    </tr>\n",
       "  </thead>\n",
       "  <tbody>\n",
       "    <tr>\n",
       "      <th>0</th>\n",
       "      <td>1.950000e+18</td>\n",
       "      <td>https://x.com/MawiaDorothy/status/194955836816...</td>\n",
       "      <td>How comes I have overdue debts.. na sijakopa.....</td>\n",
       "      <td>1</td>\n",
       "      <td>0</td>\n",
       "      <td>0</td>\n",
       "      <td>0</td>\n",
       "      <td>21</td>\n",
       "      <td>July 27, 2025 at 07:51 PM</td>\n",
       "      <td>Customer care complaint</td>\n",
       "    </tr>\n",
       "    <tr>\n",
       "      <th>1</th>\n",
       "      <td>1.950000e+18</td>\n",
       "      <td>https://x.com/KruiGeofrey/status/1949310365839...</td>\n",
       "      <td>@Monty_Hasashi @Safaricom 😂😂</td>\n",
       "      <td>0</td>\n",
       "      <td>0</td>\n",
       "      <td>0</td>\n",
       "      <td>0</td>\n",
       "      <td>22</td>\n",
       "      <td>July 27, 2025 at 03:26 AM</td>\n",
       "      <td>Neutral</td>\n",
       "    </tr>\n",
       "    <tr>\n",
       "      <th>2</th>\n",
       "      <td>1.950000e+18</td>\n",
       "      <td>https://x.com/martozgicha/status/1949022872242...</td>\n",
       "      <td>@safaricom weka data ,wacheni jokes...Thank yo...</td>\n",
       "      <td>0</td>\n",
       "      <td>0</td>\n",
       "      <td>0</td>\n",
       "      <td>0</td>\n",
       "      <td>6</td>\n",
       "      <td>July 26, 2025 at 08:23 AM</td>\n",
       "      <td>Internet or airtime bundle complaint</td>\n",
       "    </tr>\n",
       "    <tr>\n",
       "      <th>3</th>\n",
       "      <td>1.950000e+18</td>\n",
       "      <td>https://x.com/liyansmutembei/status/1948476756...</td>\n",
       "      <td>@SafaricomPLC Hello @SafaricomPLC   @safaricom...</td>\n",
       "      <td>0</td>\n",
       "      <td>0</td>\n",
       "      <td>0</td>\n",
       "      <td>0</td>\n",
       "      <td>47</td>\n",
       "      <td>July 24, 2025 at 08:13 PM</td>\n",
       "      <td>Customer care complaint</td>\n",
       "    </tr>\n",
       "    <tr>\n",
       "      <th>4</th>\n",
       "      <td>1.950000e+18</td>\n",
       "      <td>https://x.com/SsirNixoNdugire/status/194833516...</td>\n",
       "      <td>@PeterNdegwa_ @SafaricomPLC @Safaricom_Care @S...</td>\n",
       "      <td>0</td>\n",
       "      <td>0</td>\n",
       "      <td>0</td>\n",
       "      <td>0</td>\n",
       "      <td>5</td>\n",
       "      <td>July 24, 2025 at 10:51 AM</td>\n",
       "      <td>Customer care complaint</td>\n",
       "    </tr>\n",
       "  </tbody>\n",
       "</table>\n",
       "</div>"
      ],
      "text/plain": [
       "       Tweet ID                                                URL  \\\n",
       "0  1.950000e+18  https://x.com/MawiaDorothy/status/194955836816...   \n",
       "1  1.950000e+18  https://x.com/KruiGeofrey/status/1949310365839...   \n",
       "2  1.950000e+18  https://x.com/martozgicha/status/1949022872242...   \n",
       "3  1.950000e+18  https://x.com/liyansmutembei/status/1948476756...   \n",
       "4  1.950000e+18  https://x.com/SsirNixoNdugire/status/194833516...   \n",
       "\n",
       "                                             Content  Likes  Retweets  \\\n",
       "0  How comes I have overdue debts.. na sijakopa.....      1         0   \n",
       "1                       @Monty_Hasashi @Safaricom 😂😂      0         0   \n",
       "2  @safaricom weka data ,wacheni jokes...Thank yo...      0         0   \n",
       "3  @SafaricomPLC Hello @SafaricomPLC   @safaricom...      0         0   \n",
       "4  @PeterNdegwa_ @SafaricomPLC @Safaricom_Care @S...      0         0   \n",
       "\n",
       "   Replies  Quotes  Views                       Date  \\\n",
       "0        0       0     21  July 27, 2025 at 07:51 PM   \n",
       "1        0       0     22  July 27, 2025 at 03:26 AM   \n",
       "2        0       0      6  July 26, 2025 at 08:23 AM   \n",
       "3        0       0     47  July 24, 2025 at 08:13 PM   \n",
       "4        0       0      5  July 24, 2025 at 10:51 AM   \n",
       "\n",
       "                                 Labels  \n",
       "0               Customer care complaint  \n",
       "1                               Neutral  \n",
       "2  Internet or airtime bundle complaint  \n",
       "3               Customer care complaint  \n",
       "4               Customer care complaint  "
      ]
     },
     "execution_count": 3,
     "metadata": {},
     "output_type": "execute_result"
    }
   ],
   "source": [
    "#Loading the Safaricom tweets dataset\n",
    "saf_tweets=pd.read_csv('saf_tweets.csv')\n",
    "#Displaying the first few rows of the dataset\n",
    "saf_tweets.head()\n"
   ]
  },
  {
   "cell_type": "code",
   "execution_count": 4,
   "id": "7bb6e07a",
   "metadata": {},
   "outputs": [
    {
     "name": "stdout",
     "output_type": "stream",
     "text": [
      "<class 'pandas.core.frame.DataFrame'>\n",
      "RangeIndex: 2574 entries, 0 to 2573\n",
      "Data columns (total 10 columns):\n",
      " #   Column    Non-Null Count  Dtype  \n",
      "---  ------    --------------  -----  \n",
      " 0   Tweet ID  2574 non-null   float64\n",
      " 1   URL       2574 non-null   object \n",
      " 2   Content   2574 non-null   object \n",
      " 3   Likes     2574 non-null   int64  \n",
      " 4   Retweets  2574 non-null   int64  \n",
      " 5   Replies   2574 non-null   int64  \n",
      " 6   Quotes    2574 non-null   int64  \n",
      " 7   Views     2574 non-null   int64  \n",
      " 8   Date      2574 non-null   object \n",
      " 9   Labels    2573 non-null   object \n",
      "dtypes: float64(1), int64(5), object(4)\n",
      "memory usage: 201.2+ KB\n"
     ]
    }
   ],
   "source": [
    "#checking info\n",
    "saf_tweets.info()"
   ]
  },
  {
   "cell_type": "code",
   "execution_count": 5,
   "id": "57463147",
   "metadata": {},
   "outputs": [
    {
     "data": {
      "text/plain": [
       "Neutral                                 1032\n",
       "Customer care complaint                  397\n",
       "Internet or airtime bundle complaint     299\n",
       "Hate Speech                              297\n",
       "MPESA complaint                          189\n",
       "Network reliability problem              184\n",
       "Data protection and privacy concern      175\n",
       "Name: Labels, dtype: int64"
      ]
     },
     "execution_count": 5,
     "metadata": {},
     "output_type": "execute_result"
    }
   ],
   "source": [
    "#Check unique counts in labels\n",
    "saf_tweets['Labels'].value_counts()"
   ]
  },
  {
   "cell_type": "code",
   "execution_count": 6,
   "id": "64792f0f",
   "metadata": {},
   "outputs": [
    {
     "data": {
      "text/plain": [
       "0"
      ]
     },
     "execution_count": 6,
     "metadata": {},
     "output_type": "execute_result"
    }
   ],
   "source": [
    "#Check for duplicated values\n",
    "saf_tweets.duplicated().sum()"
   ]
  },
  {
   "cell_type": "markdown",
   "id": "60f8be69",
   "metadata": {},
   "source": [
    "### Data cleaning and preparation"
   ]
  },
  {
   "cell_type": "markdown",
   "id": "82244d62",
   "metadata": {},
   "source": [
    "##### Contradiction dictionary"
   ]
  },
  {
   "cell_type": "code",
   "execution_count": 7,
   "id": "b1350802",
   "metadata": {},
   "outputs": [],
   "source": [
    "# Global tools\n",
    "stop_words = set(stopwords.words('english'))\n",
    "lemmatizer = WordNetLemmatizer()\n",
    "\n",
    "# Contractions dictionary\n",
    "contractions = {\n",
    "    \"won't\": \"will not\", \"can't\": \"cannot\", \"n't\": \" not\",\n",
    "    \"'re\": \" are\", \"'ve\": \" have\", \"'ll\": \" will\",\n",
    "    \"'d\": \" would\", \"'m\": \" am\", \"it's\": \"it is\",\n",
    "    \"that's\": \"that is\", \"what's\": \"what is\",\n",
    "    \"there's\": \"there is\", \"here's\": \"here is\"\n",
    "}"
   ]
  },
  {
   "cell_type": "code",
   "execution_count": 8,
   "id": "b578a546",
   "metadata": {},
   "outputs": [],
   "source": [
    "def expand_contractions_text(text, contractions=contractions):\n",
    "    \"\"\"Expand contractions in the text.\"\"\"\n",
    "    for contraction, expansion in contractions.items():\n",
    "        text = text.replace(contraction, expansion)\n",
    "    return text\n"
   ]
  },
  {
   "cell_type": "markdown",
   "id": "23d81161",
   "metadata": {},
   "source": [
    "#### Removing repeated characters"
   ]
  },
  {
   "cell_type": "code",
   "execution_count": 9,
   "id": "d589d7da",
   "metadata": {},
   "outputs": [],
   "source": [
    "def remove_repeated_characters(text):\n",
    "    \"\"\"Reduce repeated characters (e.g., soooo → soo).\"\"\"\n",
    "    return re.sub(r'(.)\\1{2,}', r'\\1\\1', text)\n"
   ]
  },
  {
   "cell_type": "markdown",
   "id": "915262ab",
   "metadata": {},
   "source": [
    "##### Basic cleaning function"
   ]
  },
  {
   "cell_type": "code",
   "execution_count": 10,
   "id": "a81bfab7",
   "metadata": {},
   "outputs": [],
   "source": [
    "def basic_cleaning(text, \n",
    "                   remove_urls=True,\n",
    "                   remove_mentions=True,\n",
    "                   remove_hashtags=True):\n",
    "    \"\"\"Apply basic regex cleaning to text.\"\"\"\n",
    "    if pd.isna(text):\n",
    "        return ''\n",
    "    \n",
    "    text = str(text)\n",
    "\n",
    "    if remove_urls:\n",
    "        text = re.sub(r'http\\S+|www\\S+|https\\S+', '', text)\n",
    "\n",
    "    if remove_mentions:\n",
    "        text = re.sub(r'@\\w+', '', text)\n",
    "\n",
    "    if remove_hashtags:\n",
    "        text = re.sub(r'#', '', text)\n",
    "\n",
    "    text = re.sub(r'[^a-zA-Z\\s!?]', '', text)  # Remove special chars but keep ! ?\n",
    "    text = re.sub(r'!+', '!', text)\n",
    "    text = re.sub(r'\\?+', '?', text)\n",
    "    text = re.sub(r'\\s+', ' ', text).strip()\n",
    "\n",
    "    return text\n"
   ]
  },
  {
   "cell_type": "code",
   "execution_count": 11,
   "id": "fb41e79f",
   "metadata": {},
   "outputs": [],
   "source": [
    "def clean_text_pipeline(text,\n",
    "                        expand_contractions=True,\n",
    "                        remove_repeated_chars=True,\n",
    "                        remove_urls=True,\n",
    "                        remove_mentions=True,\n",
    "                        remove_hashtags=True):\n",
    "    \"\"\"Complete cleaning pipeline (no tokenizing or lemmatizing).\"\"\"\n",
    "    if pd.isna(text):\n",
    "        return ''\n",
    "    \n",
    "    text = str(text)\n",
    "\n",
    "    if expand_contractions:\n",
    "        text = expand_contractions_text(text)\n",
    "    \n",
    "    if remove_repeated_chars:\n",
    "        text = remove_repeated_characters(text)\n",
    "\n",
    "    text = basic_cleaning(\n",
    "        text,\n",
    "        remove_urls=remove_urls,\n",
    "        remove_mentions=remove_mentions,\n",
    "        remove_hashtags=remove_hashtags\n",
    "    )\n",
    "\n",
    "    return text\n"
   ]
  },
  {
   "cell_type": "markdown",
   "id": "0818494c",
   "metadata": {},
   "source": [
    "## Testing if it has worked with some tweets"
   ]
  },
  {
   "cell_type": "code",
   "execution_count": 12,
   "id": "47f62a1c",
   "metadata": {},
   "outputs": [
    {
     "name": "stdout",
     "output_type": "stream",
     "text": [
      "Cleaned: My network is misbehaving\n",
      "Cleaned: rudisheni hii na mnipee bundles sasa sms nazifanyia nini\n",
      "Cleaned: \n",
      "Cleaned: you are a scam\n"
     ]
    }
   ],
   "source": [
    "tweets = [\n",
    "    \"My @safaricom network is misbehaving\",\n",
    "    \"@safaricom rudisheni hii na mnipee bundles .sasa sms nazifanyia nini https://t.co/CvaD1kd5wM\",\n",
    "    \"@Shikanda_00 @safaricom\",\n",
    "    \"@safaricom you are a scam https://t.co/80BRkJ5uB2\"\n",
    "]\n",
    "\n",
    "for t in tweets:\n",
    "    print(\"Cleaned:\", clean_text_pipeline(t))\n"
   ]
  },
  {
   "cell_type": "code",
   "execution_count": 13,
   "id": "876dfe8e",
   "metadata": {},
   "outputs": [],
   "source": [
    "## testing it on the Safaricom tweets dataset\n",
    "saf_tweets['Cleaned_Text'] = saf_tweets['Content'].apply(clean_text_pipeline)"
   ]
  },
  {
   "cell_type": "code",
   "execution_count": 14,
   "id": "f0840c20",
   "metadata": {},
   "outputs": [
    {
     "data": {
      "text/html": [
       "<div>\n",
       "<style scoped>\n",
       "    .dataframe tbody tr th:only-of-type {\n",
       "        vertical-align: middle;\n",
       "    }\n",
       "\n",
       "    .dataframe tbody tr th {\n",
       "        vertical-align: top;\n",
       "    }\n",
       "\n",
       "    .dataframe thead th {\n",
       "        text-align: right;\n",
       "    }\n",
       "</style>\n",
       "<table border=\"1\" class=\"dataframe\">\n",
       "  <thead>\n",
       "    <tr style=\"text-align: right;\">\n",
       "      <th></th>\n",
       "      <th>Content</th>\n",
       "      <th>Cleaned_Text</th>\n",
       "    </tr>\n",
       "  </thead>\n",
       "  <tbody>\n",
       "    <tr>\n",
       "      <th>0</th>\n",
       "      <td>How comes I have overdue debts.. na sijakopa.....</td>\n",
       "      <td>How comes I have overdue debts na sijakopawhat...</td>\n",
       "    </tr>\n",
       "    <tr>\n",
       "      <th>1</th>\n",
       "      <td>@Monty_Hasashi @Safaricom 😂😂</td>\n",
       "      <td></td>\n",
       "    </tr>\n",
       "    <tr>\n",
       "      <th>2</th>\n",
       "      <td>@safaricom weka data ,wacheni jokes...Thank yo...</td>\n",
       "      <td>weka data wacheni jokesThank you for being par...</td>\n",
       "    </tr>\n",
       "    <tr>\n",
       "      <th>3</th>\n",
       "      <td>@SafaricomPLC Hello @SafaricomPLC   @safaricom...</td>\n",
       "      <td>Hello can you borrow from Airtel and allow man...</td>\n",
       "    </tr>\n",
       "    <tr>\n",
       "      <th>4</th>\n",
       "      <td>@PeterNdegwa_ @SafaricomPLC @Safaricom_Care @S...</td>\n",
       "      <td>Jambo Kindly consider introducing a Narration ...</td>\n",
       "    </tr>\n",
       "    <tr>\n",
       "      <th>5</th>\n",
       "      <td>Update: @Safaricom PLC  (NSE: SCOM), has annou...</td>\n",
       "      <td>Update PLC NSE SCOM has announced a historic m...</td>\n",
       "    </tr>\n",
       "    <tr>\n",
       "      <th>6</th>\n",
       "      <td>Customer Growth: 50M Connected, The @Safaricom...</td>\n",
       "      <td>Customer Growth M Connected The story proves o...</td>\n",
       "    </tr>\n",
       "    <tr>\n",
       "      <th>7</th>\n",
       "      <td>Through the @Safaricom and M-PESA Foundations,...</td>\n",
       "      <td>Through the and MPESA Foundations M Kenyans ha...</td>\n",
       "    </tr>\n",
       "    <tr>\n",
       "      <th>8</th>\n",
       "      <td>In the last financial year, @Safaricom contrib...</td>\n",
       "      <td>In the last financial year contributed KES B t...</td>\n",
       "    </tr>\n",
       "    <tr>\n",
       "      <th>9</th>\n",
       "      <td>Beyond Kenya, @Safaricom is also winning in Et...</td>\n",
       "      <td>Beyond Kenya is also winning in Ethiopia As of...</td>\n",
       "    </tr>\n",
       "  </tbody>\n",
       "</table>\n",
       "</div>"
      ],
      "text/plain": [
       "                                             Content  \\\n",
       "0  How comes I have overdue debts.. na sijakopa.....   \n",
       "1                       @Monty_Hasashi @Safaricom 😂😂   \n",
       "2  @safaricom weka data ,wacheni jokes...Thank yo...   \n",
       "3  @SafaricomPLC Hello @SafaricomPLC   @safaricom...   \n",
       "4  @PeterNdegwa_ @SafaricomPLC @Safaricom_Care @S...   \n",
       "5  Update: @Safaricom PLC  (NSE: SCOM), has annou...   \n",
       "6  Customer Growth: 50M Connected, The @Safaricom...   \n",
       "7  Through the @Safaricom and M-PESA Foundations,...   \n",
       "8  In the last financial year, @Safaricom contrib...   \n",
       "9  Beyond Kenya, @Safaricom is also winning in Et...   \n",
       "\n",
       "                                        Cleaned_Text  \n",
       "0  How comes I have overdue debts na sijakopawhat...  \n",
       "1                                                     \n",
       "2  weka data wacheni jokesThank you for being par...  \n",
       "3  Hello can you borrow from Airtel and allow man...  \n",
       "4  Jambo Kindly consider introducing a Narration ...  \n",
       "5  Update PLC NSE SCOM has announced a historic m...  \n",
       "6  Customer Growth M Connected The story proves o...  \n",
       "7  Through the and MPESA Foundations M Kenyans ha...  \n",
       "8  In the last financial year contributed KES B t...  \n",
       "9  Beyond Kenya is also winning in Ethiopia As of...  "
      ]
     },
     "execution_count": 14,
     "metadata": {},
     "output_type": "execute_result"
    }
   ],
   "source": [
    "saf_tweets[['Content', 'Cleaned_Text']].head(10)"
   ]
  },
  {
   "cell_type": "code",
   "execution_count": 15,
   "id": "a5c3049a",
   "metadata": {},
   "outputs": [],
   "source": [
    "saf_tweets[['Content', 'Cleaned_Text']].to_csv('saf_tweets_cleaned.csv', index=False)\n"
   ]
  },
  {
   "cell_type": "markdown",
   "id": "0bbd678b",
   "metadata": {},
   "source": [
    "### Expand Contractions\n",
    "Contractions like \"can't\", \"won't\", \"I'm\" should be expanded to \"cannot\", \"will not\", \"I am\" — this helps with better tokenization and modeling.\n",
    "\n",
    "We’ll use the contractions library for this."
   ]
  },
  {
   "cell_type": "code",
   "execution_count": 16,
   "id": "9b2b4f55",
   "metadata": {},
   "outputs": [
    {
     "name": "stdout",
     "output_type": "stream",
     "text": [
      "Requirement already satisfied: contractions in c:\\users\\admin\\anaconda3\\envs\\learn-env\\lib\\site-packages (0.1.73)\n",
      "Requirement already satisfied: textsearch>=0.0.21 in c:\\users\\admin\\anaconda3\\envs\\learn-env\\lib\\site-packages (from contractions) (0.0.24)\n",
      "Requirement already satisfied: pyahocorasick in c:\\users\\admin\\anaconda3\\envs\\learn-env\\lib\\site-packages (from textsearch>=0.0.21->contractions) (2.1.0)\n",
      "Requirement already satisfied: anyascii in c:\\users\\admin\\anaconda3\\envs\\learn-env\\lib\\site-packages (from textsearch>=0.0.21->contractions) (0.3.3)\n",
      "Note: you may need to restart the kernel to use updated packages.\n"
     ]
    }
   ],
   "source": [
    "pip install contractions\n"
   ]
  },
  {
   "cell_type": "code",
   "execution_count": 17,
   "id": "c7885722",
   "metadata": {},
   "outputs": [
    {
     "data": {
      "text/html": [
       "<div>\n",
       "<style scoped>\n",
       "    .dataframe tbody tr th:only-of-type {\n",
       "        vertical-align: middle;\n",
       "    }\n",
       "\n",
       "    .dataframe tbody tr th {\n",
       "        vertical-align: top;\n",
       "    }\n",
       "\n",
       "    .dataframe thead th {\n",
       "        text-align: right;\n",
       "    }\n",
       "</style>\n",
       "<table border=\"1\" class=\"dataframe\">\n",
       "  <thead>\n",
       "    <tr style=\"text-align: right;\">\n",
       "      <th></th>\n",
       "      <th>Content</th>\n",
       "      <th>Cleaned_Text</th>\n",
       "    </tr>\n",
       "  </thead>\n",
       "  <tbody>\n",
       "    <tr>\n",
       "      <th>0</th>\n",
       "      <td>How comes I have overdue debts.. na sijakopa.....</td>\n",
       "      <td>How comes I have overdue debts na sijakopawhat...</td>\n",
       "    </tr>\n",
       "    <tr>\n",
       "      <th>1</th>\n",
       "      <td>@Monty_Hasashi @Safaricom 😂😂</td>\n",
       "      <td></td>\n",
       "    </tr>\n",
       "    <tr>\n",
       "      <th>2</th>\n",
       "      <td>@safaricom weka data ,wacheni jokes...Thank yo...</td>\n",
       "      <td>weka data wacheni jokesThank you for being par...</td>\n",
       "    </tr>\n",
       "    <tr>\n",
       "      <th>3</th>\n",
       "      <td>@SafaricomPLC Hello @SafaricomPLC   @safaricom...</td>\n",
       "      <td>Hello can you borrow from Airtel and allow man...</td>\n",
       "    </tr>\n",
       "    <tr>\n",
       "      <th>4</th>\n",
       "      <td>@PeterNdegwa_ @SafaricomPLC @Safaricom_Care @S...</td>\n",
       "      <td>Jambo Kindly consider introducing a Narration ...</td>\n",
       "    </tr>\n",
       "    <tr>\n",
       "      <th>5</th>\n",
       "      <td>Update: @Safaricom PLC  (NSE: SCOM), has annou...</td>\n",
       "      <td>Update PLC NSE SCOM has announced a historic m...</td>\n",
       "    </tr>\n",
       "    <tr>\n",
       "      <th>6</th>\n",
       "      <td>Customer Growth: 50M Connected, The @Safaricom...</td>\n",
       "      <td>Customer Growth M Connected The story proves o...</td>\n",
       "    </tr>\n",
       "    <tr>\n",
       "      <th>7</th>\n",
       "      <td>Through the @Safaricom and M-PESA Foundations,...</td>\n",
       "      <td>Through the and MPESA Foundations M Kenyans ha...</td>\n",
       "    </tr>\n",
       "    <tr>\n",
       "      <th>8</th>\n",
       "      <td>In the last financial year, @Safaricom contrib...</td>\n",
       "      <td>In the last financial year contributed KES B t...</td>\n",
       "    </tr>\n",
       "    <tr>\n",
       "      <th>9</th>\n",
       "      <td>Beyond Kenya, @Safaricom is also winning in Et...</td>\n",
       "      <td>Beyond Kenya is also winning in Ethiopia As of...</td>\n",
       "    </tr>\n",
       "  </tbody>\n",
       "</table>\n",
       "</div>"
      ],
      "text/plain": [
       "                                             Content  \\\n",
       "0  How comes I have overdue debts.. na sijakopa.....   \n",
       "1                       @Monty_Hasashi @Safaricom 😂😂   \n",
       "2  @safaricom weka data ,wacheni jokes...Thank yo...   \n",
       "3  @SafaricomPLC Hello @SafaricomPLC   @safaricom...   \n",
       "4  @PeterNdegwa_ @SafaricomPLC @Safaricom_Care @S...   \n",
       "5  Update: @Safaricom PLC  (NSE: SCOM), has annou...   \n",
       "6  Customer Growth: 50M Connected, The @Safaricom...   \n",
       "7  Through the @Safaricom and M-PESA Foundations,...   \n",
       "8  In the last financial year, @Safaricom contrib...   \n",
       "9  Beyond Kenya, @Safaricom is also winning in Et...   \n",
       "\n",
       "                                        Cleaned_Text  \n",
       "0  How comes I have overdue debts na sijakopawhat...  \n",
       "1                                                     \n",
       "2  weka data wacheni jokesThank you for being par...  \n",
       "3  Hello can you borrow from Airtel and allow man...  \n",
       "4  Jambo Kindly consider introducing a Narration ...  \n",
       "5  Update PLC NSE SCOM has announced a historic m...  \n",
       "6  Customer Growth M Connected The story proves o...  \n",
       "7  Through the and MPESA Foundations M Kenyans ha...  \n",
       "8  In the last financial year contributed KES B t...  \n",
       "9  Beyond Kenya is also winning in Ethiopia As of...  "
      ]
     },
     "execution_count": 17,
     "metadata": {},
     "output_type": "execute_result"
    }
   ],
   "source": [
    "import contractions\n",
    "\n",
    "def expand_contractions(text):\n",
    "    if isinstance(text, str):\n",
    "        return contractions.fix(text)\n",
    "    else:\n",
    "        return \"\"\n",
    "\n",
    "# Apply to Cleaned_Text column\n",
    "saf_tweets['Cleaned_Text'] =saf_tweets['Cleaned_Text'].apply(expand_contractions)\n",
    "\n",
    "# Preview\n",
    "saf_tweets[['Content', 'Cleaned_Text']].head(10)\n"
   ]
  },
  {
   "cell_type": "markdown",
   "id": "787ecaa5",
   "metadata": {},
   "source": [
    "### Tokenization and Lemmatization\n",
    "In this step, we prepared our cleaned tweet text for machine learning by breaking it into individual words and reducing each word to its base form.\n",
    "\n",
    " What We Did:\n",
    "Tokenization: Split each tweet into individual words (tokens) using NLTK's word_tokenize.\n",
    "\n",
    "Lowercasing: Converted all tokens to lowercase for consistency.\n",
    "\n",
    "Stopword Removal: Removed common English words like \"is\", \"the\", \"and\", which do not contribute meaningful information for classification.\n",
    "\n",
    "Alphabetic Filtering: Removed numbers, punctuation, and non-alphabetic characters.\n",
    "\n",
    "Lemmatization: Converted each token to its root dictionary form using WordNetLemmatizer.\n",
    "For example:\n",
    "\n",
    "\"running\", \"ran\", \"runs\" → \"run\"\n",
    "\n"
   ]
  },
  {
   "cell_type": "code",
   "execution_count": 18,
   "id": "f5baa5d9",
   "metadata": {},
   "outputs": [
    {
     "data": {
      "text/html": [
       "<div>\n",
       "<style scoped>\n",
       "    .dataframe tbody tr th:only-of-type {\n",
       "        vertical-align: middle;\n",
       "    }\n",
       "\n",
       "    .dataframe tbody tr th {\n",
       "        vertical-align: top;\n",
       "    }\n",
       "\n",
       "    .dataframe thead th {\n",
       "        text-align: right;\n",
       "    }\n",
       "</style>\n",
       "<table border=\"1\" class=\"dataframe\">\n",
       "  <thead>\n",
       "    <tr style=\"text-align: right;\">\n",
       "      <th></th>\n",
       "      <th>Content</th>\n",
       "      <th>Cleaned_Text</th>\n",
       "      <th>Processed_Text</th>\n",
       "    </tr>\n",
       "  </thead>\n",
       "  <tbody>\n",
       "    <tr>\n",
       "      <th>0</th>\n",
       "      <td>How comes I have overdue debts.. na sijakopa.....</td>\n",
       "      <td>How comes I have overdue debts na sijakopawhat...</td>\n",
       "      <td>come overdue debt na sijakopawhat happening</td>\n",
       "    </tr>\n",
       "    <tr>\n",
       "      <th>1</th>\n",
       "      <td>@Monty_Hasashi @Safaricom 😂😂</td>\n",
       "      <td></td>\n",
       "      <td></td>\n",
       "    </tr>\n",
       "    <tr>\n",
       "      <th>2</th>\n",
       "      <td>@safaricom weka data ,wacheni jokes...Thank yo...</td>\n",
       "      <td>weka data wacheni jokesThank you for being par...</td>\n",
       "      <td>weka data wacheni jokesthank part journey toda...</td>\n",
       "    </tr>\n",
       "    <tr>\n",
       "      <th>3</th>\n",
       "      <td>@SafaricomPLC Hello @SafaricomPLC   @safaricom...</td>\n",
       "      <td>Hello can you borrow from Airtel and allow man...</td>\n",
       "      <td>hello borrow airtel allow management one safar...</td>\n",
       "    </tr>\n",
       "    <tr>\n",
       "      <th>4</th>\n",
       "      <td>@PeterNdegwa_ @SafaricomPLC @Safaricom_Care @S...</td>\n",
       "      <td>Jambo Kindly consider introducing a Narration ...</td>\n",
       "      <td>jambo kindly consider introducing narration he...</td>\n",
       "    </tr>\n",
       "  </tbody>\n",
       "</table>\n",
       "</div>"
      ],
      "text/plain": [
       "                                             Content  \\\n",
       "0  How comes I have overdue debts.. na sijakopa.....   \n",
       "1                       @Monty_Hasashi @Safaricom 😂😂   \n",
       "2  @safaricom weka data ,wacheni jokes...Thank yo...   \n",
       "3  @SafaricomPLC Hello @SafaricomPLC   @safaricom...   \n",
       "4  @PeterNdegwa_ @SafaricomPLC @Safaricom_Care @S...   \n",
       "\n",
       "                                        Cleaned_Text  \\\n",
       "0  How comes I have overdue debts na sijakopawhat...   \n",
       "1                                                      \n",
       "2  weka data wacheni jokesThank you for being par...   \n",
       "3  Hello can you borrow from Airtel and allow man...   \n",
       "4  Jambo Kindly consider introducing a Narration ...   \n",
       "\n",
       "                                      Processed_Text  \n",
       "0        come overdue debt na sijakopawhat happening  \n",
       "1                                                     \n",
       "2  weka data wacheni jokesthank part journey toda...  \n",
       "3  hello borrow airtel allow management one safar...  \n",
       "4  jambo kindly consider introducing narration he...  "
      ]
     },
     "execution_count": 18,
     "metadata": {},
     "output_type": "execute_result"
    }
   ],
   "source": [
    "def tokenize_and_lemmatize(text):\n",
    "    if isinstance(text, str):\n",
    "        tokens = word_tokenize(text.lower())  # Tokenize and lowercase\n",
    "        tokens = [lemmatizer.lemmatize(token) for token in tokens if token not in stop_words and token.isalpha()]\n",
    "        return ' '.join(tokens)\n",
    "    return \"\"\n",
    "\n",
    "# Apply to the cleaned column\n",
    "saf_tweets['Processed_Text'] = saf_tweets['Cleaned_Text'].apply(tokenize_and_lemmatize)\n",
    "\n",
    "# Preview result\n",
    "saf_tweets[['Content', 'Cleaned_Text', 'Processed_Text']].head()\n"
   ]
  },
  {
   "cell_type": "markdown",
   "id": "899958da",
   "metadata": {},
   "source": [
    "## Text Vectorization: Converting Tweets into Numeric Features\n",
    "\n",
    "To prepare our processed tweet text for machine learning, we need to convert it into a numerical format. This is done using **vectorization**, where each tweet is represented by a vector of numbers based on the words it contains.\n",
    "\n",
    "We apply two different vectorization techniques:\n",
    "\n",
    "- **CountVectorizer**: This method counts how many times each word appears in a tweet. The result is a sparse matrix where each column represents a word from the vocabulary and each row represents a tweet.\n",
    "\n",
    "- **TfidfVectorizer (Term Frequency-Inverse Document Frequency)**: This method does more than just count. It also considers how *unique* a word is across all tweets. Common words (like \"the\", \"and\") get lower scores, while rare but meaningful words get higher scores. This helps improve the performance of machine learning models.\n",
    "\n",
    "We apply both methods separately to generate two sets of features:\n",
    "- One using raw word counts\n",
    "- One using TF-IDF scores\n",
    "\n",
    "This allows us to compare how different vectorization strategies affect model performance.\n"
   ]
  },
  {
   "cell_type": "code",
   "execution_count": 19,
   "id": "2e22e36b",
   "metadata": {},
   "outputs": [
    {
     "data": {
      "text/html": [
       "<div>\n",
       "<style scoped>\n",
       "    .dataframe tbody tr th:only-of-type {\n",
       "        vertical-align: middle;\n",
       "    }\n",
       "\n",
       "    .dataframe tbody tr th {\n",
       "        vertical-align: top;\n",
       "    }\n",
       "\n",
       "    .dataframe thead th {\n",
       "        text-align: right;\n",
       "    }\n",
       "</style>\n",
       "<table border=\"1\" class=\"dataframe\">\n",
       "  <thead>\n",
       "    <tr style=\"text-align: right;\">\n",
       "      <th></th>\n",
       "      <th>abandon</th>\n",
       "      <th>abandon snitcher</th>\n",
       "      <th>abduct</th>\n",
       "      <th>abducted</th>\n",
       "      <th>abducted killed</th>\n",
       "      <th>abducting</th>\n",
       "      <th>abduction</th>\n",
       "      <th>abductor</th>\n",
       "      <th>able</th>\n",
       "      <th>able access</th>\n",
       "      <th>...</th>\n",
       "      <th>ziidi mmf</th>\n",
       "      <th>ziko</th>\n",
       "      <th>zile</th>\n",
       "      <th>zimbabwe</th>\n",
       "      <th>zimebaki</th>\n",
       "      <th>zinaisha</th>\n",
       "      <th>zingine</th>\n",
       "      <th>zote</th>\n",
       "      <th>zuku</th>\n",
       "      <th>zuri</th>\n",
       "    </tr>\n",
       "  </thead>\n",
       "  <tbody>\n",
       "    <tr>\n",
       "      <th>0</th>\n",
       "      <td>0</td>\n",
       "      <td>0</td>\n",
       "      <td>0</td>\n",
       "      <td>0</td>\n",
       "      <td>0</td>\n",
       "      <td>0</td>\n",
       "      <td>0</td>\n",
       "      <td>0</td>\n",
       "      <td>0</td>\n",
       "      <td>0</td>\n",
       "      <td>...</td>\n",
       "      <td>0</td>\n",
       "      <td>0</td>\n",
       "      <td>0</td>\n",
       "      <td>0</td>\n",
       "      <td>0</td>\n",
       "      <td>0</td>\n",
       "      <td>0</td>\n",
       "      <td>0</td>\n",
       "      <td>0</td>\n",
       "      <td>0</td>\n",
       "    </tr>\n",
       "    <tr>\n",
       "      <th>1</th>\n",
       "      <td>0</td>\n",
       "      <td>0</td>\n",
       "      <td>0</td>\n",
       "      <td>0</td>\n",
       "      <td>0</td>\n",
       "      <td>0</td>\n",
       "      <td>0</td>\n",
       "      <td>0</td>\n",
       "      <td>0</td>\n",
       "      <td>0</td>\n",
       "      <td>...</td>\n",
       "      <td>0</td>\n",
       "      <td>0</td>\n",
       "      <td>0</td>\n",
       "      <td>0</td>\n",
       "      <td>0</td>\n",
       "      <td>0</td>\n",
       "      <td>0</td>\n",
       "      <td>0</td>\n",
       "      <td>0</td>\n",
       "      <td>0</td>\n",
       "    </tr>\n",
       "    <tr>\n",
       "      <th>2</th>\n",
       "      <td>0</td>\n",
       "      <td>0</td>\n",
       "      <td>0</td>\n",
       "      <td>0</td>\n",
       "      <td>0</td>\n",
       "      <td>0</td>\n",
       "      <td>0</td>\n",
       "      <td>0</td>\n",
       "      <td>0</td>\n",
       "      <td>0</td>\n",
       "      <td>...</td>\n",
       "      <td>0</td>\n",
       "      <td>0</td>\n",
       "      <td>0</td>\n",
       "      <td>0</td>\n",
       "      <td>0</td>\n",
       "      <td>0</td>\n",
       "      <td>0</td>\n",
       "      <td>0</td>\n",
       "      <td>0</td>\n",
       "      <td>0</td>\n",
       "    </tr>\n",
       "    <tr>\n",
       "      <th>3</th>\n",
       "      <td>0</td>\n",
       "      <td>0</td>\n",
       "      <td>0</td>\n",
       "      <td>0</td>\n",
       "      <td>0</td>\n",
       "      <td>0</td>\n",
       "      <td>0</td>\n",
       "      <td>0</td>\n",
       "      <td>0</td>\n",
       "      <td>0</td>\n",
       "      <td>...</td>\n",
       "      <td>0</td>\n",
       "      <td>0</td>\n",
       "      <td>0</td>\n",
       "      <td>0</td>\n",
       "      <td>0</td>\n",
       "      <td>0</td>\n",
       "      <td>0</td>\n",
       "      <td>0</td>\n",
       "      <td>0</td>\n",
       "      <td>0</td>\n",
       "    </tr>\n",
       "    <tr>\n",
       "      <th>4</th>\n",
       "      <td>0</td>\n",
       "      <td>0</td>\n",
       "      <td>0</td>\n",
       "      <td>0</td>\n",
       "      <td>0</td>\n",
       "      <td>0</td>\n",
       "      <td>0</td>\n",
       "      <td>0</td>\n",
       "      <td>0</td>\n",
       "      <td>0</td>\n",
       "      <td>...</td>\n",
       "      <td>0</td>\n",
       "      <td>0</td>\n",
       "      <td>0</td>\n",
       "      <td>0</td>\n",
       "      <td>0</td>\n",
       "      <td>0</td>\n",
       "      <td>0</td>\n",
       "      <td>0</td>\n",
       "      <td>0</td>\n",
       "      <td>0</td>\n",
       "    </tr>\n",
       "    <tr>\n",
       "      <th>...</th>\n",
       "      <td>...</td>\n",
       "      <td>...</td>\n",
       "      <td>...</td>\n",
       "      <td>...</td>\n",
       "      <td>...</td>\n",
       "      <td>...</td>\n",
       "      <td>...</td>\n",
       "      <td>...</td>\n",
       "      <td>...</td>\n",
       "      <td>...</td>\n",
       "      <td>...</td>\n",
       "      <td>...</td>\n",
       "      <td>...</td>\n",
       "      <td>...</td>\n",
       "      <td>...</td>\n",
       "      <td>...</td>\n",
       "      <td>...</td>\n",
       "      <td>...</td>\n",
       "      <td>...</td>\n",
       "      <td>...</td>\n",
       "      <td>...</td>\n",
       "    </tr>\n",
       "    <tr>\n",
       "      <th>95</th>\n",
       "      <td>0</td>\n",
       "      <td>0</td>\n",
       "      <td>0</td>\n",
       "      <td>0</td>\n",
       "      <td>0</td>\n",
       "      <td>0</td>\n",
       "      <td>0</td>\n",
       "      <td>0</td>\n",
       "      <td>0</td>\n",
       "      <td>0</td>\n",
       "      <td>...</td>\n",
       "      <td>0</td>\n",
       "      <td>0</td>\n",
       "      <td>0</td>\n",
       "      <td>0</td>\n",
       "      <td>0</td>\n",
       "      <td>0</td>\n",
       "      <td>0</td>\n",
       "      <td>0</td>\n",
       "      <td>0</td>\n",
       "      <td>0</td>\n",
       "    </tr>\n",
       "    <tr>\n",
       "      <th>96</th>\n",
       "      <td>0</td>\n",
       "      <td>0</td>\n",
       "      <td>0</td>\n",
       "      <td>0</td>\n",
       "      <td>0</td>\n",
       "      <td>0</td>\n",
       "      <td>0</td>\n",
       "      <td>0</td>\n",
       "      <td>0</td>\n",
       "      <td>0</td>\n",
       "      <td>...</td>\n",
       "      <td>0</td>\n",
       "      <td>0</td>\n",
       "      <td>0</td>\n",
       "      <td>0</td>\n",
       "      <td>0</td>\n",
       "      <td>0</td>\n",
       "      <td>0</td>\n",
       "      <td>0</td>\n",
       "      <td>0</td>\n",
       "      <td>0</td>\n",
       "    </tr>\n",
       "    <tr>\n",
       "      <th>97</th>\n",
       "      <td>0</td>\n",
       "      <td>0</td>\n",
       "      <td>0</td>\n",
       "      <td>0</td>\n",
       "      <td>0</td>\n",
       "      <td>0</td>\n",
       "      <td>0</td>\n",
       "      <td>0</td>\n",
       "      <td>0</td>\n",
       "      <td>0</td>\n",
       "      <td>...</td>\n",
       "      <td>0</td>\n",
       "      <td>0</td>\n",
       "      <td>0</td>\n",
       "      <td>0</td>\n",
       "      <td>0</td>\n",
       "      <td>0</td>\n",
       "      <td>0</td>\n",
       "      <td>0</td>\n",
       "      <td>0</td>\n",
       "      <td>0</td>\n",
       "    </tr>\n",
       "    <tr>\n",
       "      <th>98</th>\n",
       "      <td>0</td>\n",
       "      <td>0</td>\n",
       "      <td>0</td>\n",
       "      <td>0</td>\n",
       "      <td>0</td>\n",
       "      <td>0</td>\n",
       "      <td>0</td>\n",
       "      <td>0</td>\n",
       "      <td>0</td>\n",
       "      <td>0</td>\n",
       "      <td>...</td>\n",
       "      <td>0</td>\n",
       "      <td>0</td>\n",
       "      <td>0</td>\n",
       "      <td>0</td>\n",
       "      <td>0</td>\n",
       "      <td>0</td>\n",
       "      <td>0</td>\n",
       "      <td>0</td>\n",
       "      <td>0</td>\n",
       "      <td>0</td>\n",
       "    </tr>\n",
       "    <tr>\n",
       "      <th>99</th>\n",
       "      <td>0</td>\n",
       "      <td>0</td>\n",
       "      <td>0</td>\n",
       "      <td>0</td>\n",
       "      <td>0</td>\n",
       "      <td>0</td>\n",
       "      <td>0</td>\n",
       "      <td>0</td>\n",
       "      <td>0</td>\n",
       "      <td>0</td>\n",
       "      <td>...</td>\n",
       "      <td>0</td>\n",
       "      <td>0</td>\n",
       "      <td>0</td>\n",
       "      <td>0</td>\n",
       "      <td>0</td>\n",
       "      <td>0</td>\n",
       "      <td>0</td>\n",
       "      <td>0</td>\n",
       "      <td>0</td>\n",
       "      <td>0</td>\n",
       "    </tr>\n",
       "  </tbody>\n",
       "</table>\n",
       "<p>100 rows × 5000 columns</p>\n",
       "</div>"
      ],
      "text/plain": [
       "    abandon  abandon snitcher  abduct  abducted  abducted killed  abducting  \\\n",
       "0         0                 0       0         0                0          0   \n",
       "1         0                 0       0         0                0          0   \n",
       "2         0                 0       0         0                0          0   \n",
       "3         0                 0       0         0                0          0   \n",
       "4         0                 0       0         0                0          0   \n",
       "..      ...               ...     ...       ...              ...        ...   \n",
       "95        0                 0       0         0                0          0   \n",
       "96        0                 0       0         0                0          0   \n",
       "97        0                 0       0         0                0          0   \n",
       "98        0                 0       0         0                0          0   \n",
       "99        0                 0       0         0                0          0   \n",
       "\n",
       "    abduction  abductor  able  able access  ...  ziidi mmf  ziko  zile  \\\n",
       "0           0         0     0            0  ...          0     0     0   \n",
       "1           0         0     0            0  ...          0     0     0   \n",
       "2           0         0     0            0  ...          0     0     0   \n",
       "3           0         0     0            0  ...          0     0     0   \n",
       "4           0         0     0            0  ...          0     0     0   \n",
       "..        ...       ...   ...          ...  ...        ...   ...   ...   \n",
       "95          0         0     0            0  ...          0     0     0   \n",
       "96          0         0     0            0  ...          0     0     0   \n",
       "97          0         0     0            0  ...          0     0     0   \n",
       "98          0         0     0            0  ...          0     0     0   \n",
       "99          0         0     0            0  ...          0     0     0   \n",
       "\n",
       "    zimbabwe  zimebaki  zinaisha  zingine  zote  zuku  zuri  \n",
       "0          0         0         0        0     0     0     0  \n",
       "1          0         0         0        0     0     0     0  \n",
       "2          0         0         0        0     0     0     0  \n",
       "3          0         0         0        0     0     0     0  \n",
       "4          0         0         0        0     0     0     0  \n",
       "..       ...       ...       ...      ...   ...   ...   ...  \n",
       "95         0         0         0        0     0     0     0  \n",
       "96         0         0         0        0     0     0     0  \n",
       "97         0         0         0        0     0     0     0  \n",
       "98         0         0         0        0     0     0     0  \n",
       "99         0         0         0        0     0     0     0  \n",
       "\n",
       "[100 rows x 5000 columns]"
      ]
     },
     "execution_count": 19,
     "metadata": {},
     "output_type": "execute_result"
    }
   ],
   "source": [
    "from sklearn.feature_extraction.text import CountVectorizer\n",
    "\n",
    "# Initialize CountVectorizer\n",
    "count_vect = CountVectorizer(max_features=5000, ngram_range=(1,2))\n",
    "\n",
    "# Fit and transform the processed text\n",
    "X_count = count_vect.fit_transform(saf_tweets['Processed_Text'])\n",
    "\n",
    "# Optional: convert to DataFrame\n",
    "count_df = pd.DataFrame(X_count.toarray(), columns=count_vect.get_feature_names())\n",
    "\n",
    "# Preview\n",
    "count_df.head(100)\n"
   ]
  },
  {
   "cell_type": "code",
   "execution_count": 20,
   "id": "65ac627c",
   "metadata": {},
   "outputs": [
    {
     "data": {
      "text/html": [
       "<div>\n",
       "<style scoped>\n",
       "    .dataframe tbody tr th:only-of-type {\n",
       "        vertical-align: middle;\n",
       "    }\n",
       "\n",
       "    .dataframe tbody tr th {\n",
       "        vertical-align: top;\n",
       "    }\n",
       "\n",
       "    .dataframe thead th {\n",
       "        text-align: right;\n",
       "    }\n",
       "</style>\n",
       "<table border=\"1\" class=\"dataframe\">\n",
       "  <thead>\n",
       "    <tr style=\"text-align: right;\">\n",
       "      <th></th>\n",
       "      <th>Content</th>\n",
       "      <th>Cleaned_Text</th>\n",
       "      <th>Processed_Text</th>\n",
       "    </tr>\n",
       "  </thead>\n",
       "  <tbody>\n",
       "    <tr>\n",
       "      <th>0</th>\n",
       "      <td>How comes I have overdue debts.. na sijakopa.....</td>\n",
       "      <td>How comes I have overdue debts na sijakopawhat...</td>\n",
       "      <td>come overdue debt na sijakopawhat happening</td>\n",
       "    </tr>\n",
       "    <tr>\n",
       "      <th>1</th>\n",
       "      <td>@Monty_Hasashi @Safaricom 😂😂</td>\n",
       "      <td></td>\n",
       "      <td></td>\n",
       "    </tr>\n",
       "    <tr>\n",
       "      <th>2</th>\n",
       "      <td>@safaricom weka data ,wacheni jokes...Thank yo...</td>\n",
       "      <td>weka data wacheni jokesThank you for being par...</td>\n",
       "      <td>weka data wacheni jokesthank part journey toda...</td>\n",
       "    </tr>\n",
       "    <tr>\n",
       "      <th>3</th>\n",
       "      <td>@SafaricomPLC Hello @SafaricomPLC   @safaricom...</td>\n",
       "      <td>Hello can you borrow from Airtel and allow man...</td>\n",
       "      <td>hello borrow airtel allow management one safar...</td>\n",
       "    </tr>\n",
       "    <tr>\n",
       "      <th>4</th>\n",
       "      <td>@PeterNdegwa_ @SafaricomPLC @Safaricom_Care @S...</td>\n",
       "      <td>Jambo Kindly consider introducing a Narration ...</td>\n",
       "      <td>jambo kindly consider introducing narration he...</td>\n",
       "    </tr>\n",
       "    <tr>\n",
       "      <th>5</th>\n",
       "      <td>Update: @Safaricom PLC  (NSE: SCOM), has annou...</td>\n",
       "      <td>Update PLC NSE SCOM has announced a historic m...</td>\n",
       "      <td>update plc nse scom announced historic milesto...</td>\n",
       "    </tr>\n",
       "    <tr>\n",
       "      <th>6</th>\n",
       "      <td>Customer Growth: 50M Connected, The @Safaricom...</td>\n",
       "      <td>Customer Growth M Connected The story proves o...</td>\n",
       "      <td>customer growth connected story prof one thing...</td>\n",
       "    </tr>\n",
       "    <tr>\n",
       "      <th>7</th>\n",
       "      <td>Through the @Safaricom and M-PESA Foundations,...</td>\n",
       "      <td>Through the and MPESA Foundations M Kenyans ha...</td>\n",
       "      <td>mpesa foundation kenyan benefited project educ...</td>\n",
       "    </tr>\n",
       "    <tr>\n",
       "      <th>8</th>\n",
       "      <td>In the last financial year, @Safaricom contrib...</td>\n",
       "      <td>In the last financial year contributed KES B t...</td>\n",
       "      <td>last financial year contributed kes b kenyan e...</td>\n",
       "    </tr>\n",
       "    <tr>\n",
       "      <th>9</th>\n",
       "      <td>Beyond Kenya, @Safaricom is also winning in Et...</td>\n",
       "      <td>Beyond Kenya is also winning in Ethiopia As of...</td>\n",
       "      <td>beyond kenya also winning ethiopia july operat...</td>\n",
       "    </tr>\n",
       "  </tbody>\n",
       "</table>\n",
       "</div>"
      ],
      "text/plain": [
       "                                             Content  \\\n",
       "0  How comes I have overdue debts.. na sijakopa.....   \n",
       "1                       @Monty_Hasashi @Safaricom 😂😂   \n",
       "2  @safaricom weka data ,wacheni jokes...Thank yo...   \n",
       "3  @SafaricomPLC Hello @SafaricomPLC   @safaricom...   \n",
       "4  @PeterNdegwa_ @SafaricomPLC @Safaricom_Care @S...   \n",
       "5  Update: @Safaricom PLC  (NSE: SCOM), has annou...   \n",
       "6  Customer Growth: 50M Connected, The @Safaricom...   \n",
       "7  Through the @Safaricom and M-PESA Foundations,...   \n",
       "8  In the last financial year, @Safaricom contrib...   \n",
       "9  Beyond Kenya, @Safaricom is also winning in Et...   \n",
       "\n",
       "                                        Cleaned_Text  \\\n",
       "0  How comes I have overdue debts na sijakopawhat...   \n",
       "1                                                      \n",
       "2  weka data wacheni jokesThank you for being par...   \n",
       "3  Hello can you borrow from Airtel and allow man...   \n",
       "4  Jambo Kindly consider introducing a Narration ...   \n",
       "5  Update PLC NSE SCOM has announced a historic m...   \n",
       "6  Customer Growth M Connected The story proves o...   \n",
       "7  Through the and MPESA Foundations M Kenyans ha...   \n",
       "8  In the last financial year contributed KES B t...   \n",
       "9  Beyond Kenya is also winning in Ethiopia As of...   \n",
       "\n",
       "                                      Processed_Text  \n",
       "0        come overdue debt na sijakopawhat happening  \n",
       "1                                                     \n",
       "2  weka data wacheni jokesthank part journey toda...  \n",
       "3  hello borrow airtel allow management one safar...  \n",
       "4  jambo kindly consider introducing narration he...  \n",
       "5  update plc nse scom announced historic milesto...  \n",
       "6  customer growth connected story prof one thing...  \n",
       "7  mpesa foundation kenyan benefited project educ...  \n",
       "8  last financial year contributed kes b kenyan e...  \n",
       "9  beyond kenya also winning ethiopia july operat...  "
      ]
     },
     "execution_count": 20,
     "metadata": {},
     "output_type": "execute_result"
    }
   ],
   "source": [
    "saf_tweets[['Content', 'Cleaned_Text', 'Processed_Text']].head(10)\n"
   ]
  },
  {
   "cell_type": "code",
   "execution_count": 21,
   "id": "dbfd9b73",
   "metadata": {},
   "outputs": [
    {
     "data": {
      "text/html": [
       "<div>\n",
       "<style scoped>\n",
       "    .dataframe tbody tr th:only-of-type {\n",
       "        vertical-align: middle;\n",
       "    }\n",
       "\n",
       "    .dataframe tbody tr th {\n",
       "        vertical-align: top;\n",
       "    }\n",
       "\n",
       "    .dataframe thead th {\n",
       "        text-align: right;\n",
       "    }\n",
       "</style>\n",
       "<table border=\"1\" class=\"dataframe\">\n",
       "  <thead>\n",
       "    <tr style=\"text-align: right;\">\n",
       "      <th></th>\n",
       "      <th>abandon</th>\n",
       "      <th>abandon snitcher</th>\n",
       "      <th>abduct</th>\n",
       "      <th>abducted</th>\n",
       "      <th>abducted killed</th>\n",
       "      <th>abducting</th>\n",
       "      <th>abduction</th>\n",
       "      <th>abductor</th>\n",
       "      <th>able</th>\n",
       "      <th>able access</th>\n",
       "      <th>...</th>\n",
       "      <th>ziidi mmf</th>\n",
       "      <th>ziko</th>\n",
       "      <th>zile</th>\n",
       "      <th>zimbabwe</th>\n",
       "      <th>zimebaki</th>\n",
       "      <th>zinaisha</th>\n",
       "      <th>zingine</th>\n",
       "      <th>zote</th>\n",
       "      <th>zuku</th>\n",
       "      <th>zuri</th>\n",
       "    </tr>\n",
       "  </thead>\n",
       "  <tbody>\n",
       "    <tr>\n",
       "      <th>0</th>\n",
       "      <td>0.0</td>\n",
       "      <td>0.0</td>\n",
       "      <td>0.0</td>\n",
       "      <td>0.0</td>\n",
       "      <td>0.0</td>\n",
       "      <td>0.0</td>\n",
       "      <td>0.0</td>\n",
       "      <td>0.0</td>\n",
       "      <td>0.0</td>\n",
       "      <td>0.0</td>\n",
       "      <td>...</td>\n",
       "      <td>0.0</td>\n",
       "      <td>0.0</td>\n",
       "      <td>0.0</td>\n",
       "      <td>0.0</td>\n",
       "      <td>0.0</td>\n",
       "      <td>0.0</td>\n",
       "      <td>0.0</td>\n",
       "      <td>0.0</td>\n",
       "      <td>0.0</td>\n",
       "      <td>0.0</td>\n",
       "    </tr>\n",
       "    <tr>\n",
       "      <th>1</th>\n",
       "      <td>0.0</td>\n",
       "      <td>0.0</td>\n",
       "      <td>0.0</td>\n",
       "      <td>0.0</td>\n",
       "      <td>0.0</td>\n",
       "      <td>0.0</td>\n",
       "      <td>0.0</td>\n",
       "      <td>0.0</td>\n",
       "      <td>0.0</td>\n",
       "      <td>0.0</td>\n",
       "      <td>...</td>\n",
       "      <td>0.0</td>\n",
       "      <td>0.0</td>\n",
       "      <td>0.0</td>\n",
       "      <td>0.0</td>\n",
       "      <td>0.0</td>\n",
       "      <td>0.0</td>\n",
       "      <td>0.0</td>\n",
       "      <td>0.0</td>\n",
       "      <td>0.0</td>\n",
       "      <td>0.0</td>\n",
       "    </tr>\n",
       "    <tr>\n",
       "      <th>2</th>\n",
       "      <td>0.0</td>\n",
       "      <td>0.0</td>\n",
       "      <td>0.0</td>\n",
       "      <td>0.0</td>\n",
       "      <td>0.0</td>\n",
       "      <td>0.0</td>\n",
       "      <td>0.0</td>\n",
       "      <td>0.0</td>\n",
       "      <td>0.0</td>\n",
       "      <td>0.0</td>\n",
       "      <td>...</td>\n",
       "      <td>0.0</td>\n",
       "      <td>0.0</td>\n",
       "      <td>0.0</td>\n",
       "      <td>0.0</td>\n",
       "      <td>0.0</td>\n",
       "      <td>0.0</td>\n",
       "      <td>0.0</td>\n",
       "      <td>0.0</td>\n",
       "      <td>0.0</td>\n",
       "      <td>0.0</td>\n",
       "    </tr>\n",
       "    <tr>\n",
       "      <th>3</th>\n",
       "      <td>0.0</td>\n",
       "      <td>0.0</td>\n",
       "      <td>0.0</td>\n",
       "      <td>0.0</td>\n",
       "      <td>0.0</td>\n",
       "      <td>0.0</td>\n",
       "      <td>0.0</td>\n",
       "      <td>0.0</td>\n",
       "      <td>0.0</td>\n",
       "      <td>0.0</td>\n",
       "      <td>...</td>\n",
       "      <td>0.0</td>\n",
       "      <td>0.0</td>\n",
       "      <td>0.0</td>\n",
       "      <td>0.0</td>\n",
       "      <td>0.0</td>\n",
       "      <td>0.0</td>\n",
       "      <td>0.0</td>\n",
       "      <td>0.0</td>\n",
       "      <td>0.0</td>\n",
       "      <td>0.0</td>\n",
       "    </tr>\n",
       "    <tr>\n",
       "      <th>4</th>\n",
       "      <td>0.0</td>\n",
       "      <td>0.0</td>\n",
       "      <td>0.0</td>\n",
       "      <td>0.0</td>\n",
       "      <td>0.0</td>\n",
       "      <td>0.0</td>\n",
       "      <td>0.0</td>\n",
       "      <td>0.0</td>\n",
       "      <td>0.0</td>\n",
       "      <td>0.0</td>\n",
       "      <td>...</td>\n",
       "      <td>0.0</td>\n",
       "      <td>0.0</td>\n",
       "      <td>0.0</td>\n",
       "      <td>0.0</td>\n",
       "      <td>0.0</td>\n",
       "      <td>0.0</td>\n",
       "      <td>0.0</td>\n",
       "      <td>0.0</td>\n",
       "      <td>0.0</td>\n",
       "      <td>0.0</td>\n",
       "    </tr>\n",
       "    <tr>\n",
       "      <th>...</th>\n",
       "      <td>...</td>\n",
       "      <td>...</td>\n",
       "      <td>...</td>\n",
       "      <td>...</td>\n",
       "      <td>...</td>\n",
       "      <td>...</td>\n",
       "      <td>...</td>\n",
       "      <td>...</td>\n",
       "      <td>...</td>\n",
       "      <td>...</td>\n",
       "      <td>...</td>\n",
       "      <td>...</td>\n",
       "      <td>...</td>\n",
       "      <td>...</td>\n",
       "      <td>...</td>\n",
       "      <td>...</td>\n",
       "      <td>...</td>\n",
       "      <td>...</td>\n",
       "      <td>...</td>\n",
       "      <td>...</td>\n",
       "      <td>...</td>\n",
       "    </tr>\n",
       "    <tr>\n",
       "      <th>245</th>\n",
       "      <td>0.0</td>\n",
       "      <td>0.0</td>\n",
       "      <td>0.0</td>\n",
       "      <td>0.0</td>\n",
       "      <td>0.0</td>\n",
       "      <td>0.0</td>\n",
       "      <td>0.0</td>\n",
       "      <td>0.0</td>\n",
       "      <td>0.0</td>\n",
       "      <td>0.0</td>\n",
       "      <td>...</td>\n",
       "      <td>0.0</td>\n",
       "      <td>0.0</td>\n",
       "      <td>0.0</td>\n",
       "      <td>0.0</td>\n",
       "      <td>0.0</td>\n",
       "      <td>0.0</td>\n",
       "      <td>0.0</td>\n",
       "      <td>0.0</td>\n",
       "      <td>0.0</td>\n",
       "      <td>0.0</td>\n",
       "    </tr>\n",
       "    <tr>\n",
       "      <th>246</th>\n",
       "      <td>0.0</td>\n",
       "      <td>0.0</td>\n",
       "      <td>0.0</td>\n",
       "      <td>0.0</td>\n",
       "      <td>0.0</td>\n",
       "      <td>0.0</td>\n",
       "      <td>0.0</td>\n",
       "      <td>0.0</td>\n",
       "      <td>0.0</td>\n",
       "      <td>0.0</td>\n",
       "      <td>...</td>\n",
       "      <td>0.0</td>\n",
       "      <td>0.0</td>\n",
       "      <td>0.0</td>\n",
       "      <td>0.0</td>\n",
       "      <td>0.0</td>\n",
       "      <td>0.0</td>\n",
       "      <td>0.0</td>\n",
       "      <td>0.0</td>\n",
       "      <td>0.0</td>\n",
       "      <td>0.0</td>\n",
       "    </tr>\n",
       "    <tr>\n",
       "      <th>247</th>\n",
       "      <td>0.0</td>\n",
       "      <td>0.0</td>\n",
       "      <td>0.0</td>\n",
       "      <td>0.0</td>\n",
       "      <td>0.0</td>\n",
       "      <td>0.0</td>\n",
       "      <td>0.0</td>\n",
       "      <td>0.0</td>\n",
       "      <td>0.0</td>\n",
       "      <td>0.0</td>\n",
       "      <td>...</td>\n",
       "      <td>0.0</td>\n",
       "      <td>0.0</td>\n",
       "      <td>0.0</td>\n",
       "      <td>0.0</td>\n",
       "      <td>0.0</td>\n",
       "      <td>0.0</td>\n",
       "      <td>0.0</td>\n",
       "      <td>0.0</td>\n",
       "      <td>0.0</td>\n",
       "      <td>0.0</td>\n",
       "    </tr>\n",
       "    <tr>\n",
       "      <th>248</th>\n",
       "      <td>0.0</td>\n",
       "      <td>0.0</td>\n",
       "      <td>0.0</td>\n",
       "      <td>0.0</td>\n",
       "      <td>0.0</td>\n",
       "      <td>0.0</td>\n",
       "      <td>0.0</td>\n",
       "      <td>0.0</td>\n",
       "      <td>0.0</td>\n",
       "      <td>0.0</td>\n",
       "      <td>...</td>\n",
       "      <td>0.0</td>\n",
       "      <td>0.0</td>\n",
       "      <td>0.0</td>\n",
       "      <td>0.0</td>\n",
       "      <td>0.0</td>\n",
       "      <td>0.0</td>\n",
       "      <td>0.0</td>\n",
       "      <td>0.0</td>\n",
       "      <td>0.0</td>\n",
       "      <td>0.0</td>\n",
       "    </tr>\n",
       "    <tr>\n",
       "      <th>249</th>\n",
       "      <td>0.0</td>\n",
       "      <td>0.0</td>\n",
       "      <td>0.0</td>\n",
       "      <td>0.0</td>\n",
       "      <td>0.0</td>\n",
       "      <td>0.0</td>\n",
       "      <td>0.0</td>\n",
       "      <td>0.0</td>\n",
       "      <td>0.0</td>\n",
       "      <td>0.0</td>\n",
       "      <td>...</td>\n",
       "      <td>0.0</td>\n",
       "      <td>0.0</td>\n",
       "      <td>0.0</td>\n",
       "      <td>0.0</td>\n",
       "      <td>0.0</td>\n",
       "      <td>0.0</td>\n",
       "      <td>0.0</td>\n",
       "      <td>0.0</td>\n",
       "      <td>0.0</td>\n",
       "      <td>0.0</td>\n",
       "    </tr>\n",
       "  </tbody>\n",
       "</table>\n",
       "<p>250 rows × 5000 columns</p>\n",
       "</div>"
      ],
      "text/plain": [
       "     abandon  abandon snitcher  abduct  abducted  abducted killed  abducting  \\\n",
       "0        0.0               0.0     0.0       0.0              0.0        0.0   \n",
       "1        0.0               0.0     0.0       0.0              0.0        0.0   \n",
       "2        0.0               0.0     0.0       0.0              0.0        0.0   \n",
       "3        0.0               0.0     0.0       0.0              0.0        0.0   \n",
       "4        0.0               0.0     0.0       0.0              0.0        0.0   \n",
       "..       ...               ...     ...       ...              ...        ...   \n",
       "245      0.0               0.0     0.0       0.0              0.0        0.0   \n",
       "246      0.0               0.0     0.0       0.0              0.0        0.0   \n",
       "247      0.0               0.0     0.0       0.0              0.0        0.0   \n",
       "248      0.0               0.0     0.0       0.0              0.0        0.0   \n",
       "249      0.0               0.0     0.0       0.0              0.0        0.0   \n",
       "\n",
       "     abduction  abductor  able  able access  ...  ziidi mmf  ziko  zile  \\\n",
       "0          0.0       0.0   0.0          0.0  ...        0.0   0.0   0.0   \n",
       "1          0.0       0.0   0.0          0.0  ...        0.0   0.0   0.0   \n",
       "2          0.0       0.0   0.0          0.0  ...        0.0   0.0   0.0   \n",
       "3          0.0       0.0   0.0          0.0  ...        0.0   0.0   0.0   \n",
       "4          0.0       0.0   0.0          0.0  ...        0.0   0.0   0.0   \n",
       "..         ...       ...   ...          ...  ...        ...   ...   ...   \n",
       "245        0.0       0.0   0.0          0.0  ...        0.0   0.0   0.0   \n",
       "246        0.0       0.0   0.0          0.0  ...        0.0   0.0   0.0   \n",
       "247        0.0       0.0   0.0          0.0  ...        0.0   0.0   0.0   \n",
       "248        0.0       0.0   0.0          0.0  ...        0.0   0.0   0.0   \n",
       "249        0.0       0.0   0.0          0.0  ...        0.0   0.0   0.0   \n",
       "\n",
       "     zimbabwe  zimebaki  zinaisha  zingine  zote  zuku  zuri  \n",
       "0         0.0       0.0       0.0      0.0   0.0   0.0   0.0  \n",
       "1         0.0       0.0       0.0      0.0   0.0   0.0   0.0  \n",
       "2         0.0       0.0       0.0      0.0   0.0   0.0   0.0  \n",
       "3         0.0       0.0       0.0      0.0   0.0   0.0   0.0  \n",
       "4         0.0       0.0       0.0      0.0   0.0   0.0   0.0  \n",
       "..        ...       ...       ...      ...   ...   ...   ...  \n",
       "245       0.0       0.0       0.0      0.0   0.0   0.0   0.0  \n",
       "246       0.0       0.0       0.0      0.0   0.0   0.0   0.0  \n",
       "247       0.0       0.0       0.0      0.0   0.0   0.0   0.0  \n",
       "248       0.0       0.0       0.0      0.0   0.0   0.0   0.0  \n",
       "249       0.0       0.0       0.0      0.0   0.0   0.0   0.0  \n",
       "\n",
       "[250 rows x 5000 columns]"
      ]
     },
     "execution_count": 21,
     "metadata": {},
     "output_type": "execute_result"
    }
   ],
   "source": [
    "from sklearn.feature_extraction.text import TfidfVectorizer\n",
    "\n",
    "# Initialize TF-IDF Vectorizer\n",
    "tfidf_vect = TfidfVectorizer(max_features=5000, ngram_range=(1,2))\n",
    "\n",
    "# Fit and transform the same text\n",
    "X_tfidf = tfidf_vect.fit_transform(saf_tweets['Processed_Text'])\n",
    "\n",
    "# Optional: convert to DataFrame\n",
    "tfidf_df = pd.DataFrame(X_tfidf.toarray(), columns=tfidf_vect.get_feature_names())\n",
    "\n",
    "# Preview\n",
    "tfidf_df.head(250)\n"
   ]
  },
  {
   "cell_type": "markdown",
   "id": "e34b8cbb",
   "metadata": {},
   "source": [
    "## Verifying Vectorization Results\n",
    "\n",
    "To ensure that our text vectorization worked correctly, we preview the transformed data. Specifically, we:\n",
    "\n",
    "- Display a few rows from the resulting feature matrix to confirm the shape and structure.\n",
    "- Check if the vectorized data reflects the expected word presence or absence per tweet.\n",
    "- Ensure that the output contains non-zero values for tweets that include words from our vocabulary.\n",
    "\n",
    "Each row in the output corresponds to a tweet, and each column represents a word. A non-zero entry shows that the word appears in that tweet (or its importance score, in the case of TF-IDF).\n",
    "\n",
    "This verification step helps confirm that the tweets have been correctly transformed into numerical format and are now ready to be used as input features for machine learning models.\n"
   ]
  },
  {
   "cell_type": "code",
   "execution_count": 22,
   "id": "bea3f869",
   "metadata": {},
   "outputs": [
    {
     "data": {
      "text/plain": [
       "24172"
      ]
     },
     "execution_count": 22,
     "metadata": {},
     "output_type": "execute_result"
    }
   ],
   "source": [
    "# Total non-zero elements in the whole matrix\n",
    "#This shows how many words are detected by the count vectorizer\n",
    "X_count.toarray().sum()\n"
   ]
  },
  {
   "cell_type": "code",
   "execution_count": 23,
   "id": "f839f26e",
   "metadata": {},
   "outputs": [
    {
     "data": {
      "text/plain": [
       "array([ 5,  0, 12, ...,  2, 23, 22], dtype=int64)"
      ]
     },
     "execution_count": 23,
     "metadata": {},
     "output_type": "execute_result"
    }
   ],
   "source": [
    "# Count of non-zero tokens per tweet\n",
    "# This code shows total words remaining from index 0 after cleaning and tekenizing\n",
    "np.count_nonzero(X_count.toarray(), axis=1)\n"
   ]
  },
  {
   "cell_type": "code",
   "execution_count": 24,
   "id": "07171662",
   "metadata": {},
   "outputs": [
    {
     "data": {
      "text/html": [
       "<div>\n",
       "<style scoped>\n",
       "    .dataframe tbody tr th:only-of-type {\n",
       "        vertical-align: middle;\n",
       "    }\n",
       "\n",
       "    .dataframe tbody tr th {\n",
       "        vertical-align: top;\n",
       "    }\n",
       "\n",
       "    .dataframe thead th {\n",
       "        text-align: right;\n",
       "    }\n",
       "</style>\n",
       "<table border=\"1\" class=\"dataframe\">\n",
       "  <thead>\n",
       "    <tr style=\"text-align: right;\">\n",
       "      <th></th>\n",
       "      <th>Content</th>\n",
       "      <th>Processed_Text</th>\n",
       "    </tr>\n",
       "  </thead>\n",
       "  <tbody>\n",
       "    <tr>\n",
       "      <th>307</th>\n",
       "      <td>In delivering on our maternal and general heal...</td>\n",
       "      <td>delivering maternal general healthcare service...</td>\n",
       "    </tr>\n",
       "    <tr>\n",
       "      <th>304</th>\n",
       "      <td>In delivering on our maternal and general heal...</td>\n",
       "      <td>delivering maternal general healthcare service...</td>\n",
       "    </tr>\n",
       "    <tr>\n",
       "      <th>2373</th>\n",
       "      <td>📢Calling upon all our students in the School o...</td>\n",
       "      <td>calling upon student school science technology...</td>\n",
       "    </tr>\n",
       "    <tr>\n",
       "      <th>2154</th>\n",
       "      <td>@Safaricom_Care Thanks for your good network @...</td>\n",
       "      <td>thanks good network big problem physical custo...</td>\n",
       "    </tr>\n",
       "    <tr>\n",
       "      <th>2153</th>\n",
       "      <td>@Safaricom_Care @Ianolinmaina99 Thanks for you...</td>\n",
       "      <td>thanks good network big problem physical custo...</td>\n",
       "    </tr>\n",
       "  </tbody>\n",
       "</table>\n",
       "</div>"
      ],
      "text/plain": [
       "                                                Content  \\\n",
       "307   In delivering on our maternal and general heal...   \n",
       "304   In delivering on our maternal and general heal...   \n",
       "2373  📢Calling upon all our students in the School o...   \n",
       "2154  @Safaricom_Care Thanks for your good network @...   \n",
       "2153  @Safaricom_Care @Ianolinmaina99 Thanks for you...   \n",
       "\n",
       "                                         Processed_Text  \n",
       "307   delivering maternal general healthcare service...  \n",
       "304   delivering maternal general healthcare service...  \n",
       "2373  calling upon student school science technology...  \n",
       "2154  thanks good network big problem physical custo...  \n",
       "2153  thanks good network big problem physical custo...  "
      ]
     },
     "execution_count": 24,
     "metadata": {},
     "output_type": "execute_result"
    }
   ],
   "source": [
    "# Check tweets with the most recognized words\n",
    "nonzero_counts = np.count_nonzero(X_count.toarray(), axis=1)\n",
    "top_indices = nonzero_counts.argsort()[-5:][::-1]  # Top 5 tweets with most tokens\n",
    "\n",
    "# Preview them\n",
    "saf_tweets.iloc[top_indices][[\"Content\", \"Processed_Text\"]]\n"
   ]
  },
  {
   "cell_type": "code",
   "execution_count": 25,
   "id": "4d0cbcee",
   "metadata": {},
   "outputs": [
    {
     "data": {
      "text/plain": [
       "{'alongside': 1,\n",
       " 'alongside modern': 1,\n",
       " 'centre': 1,\n",
       " 'centre sigomre': 1,\n",
       " 'commence': 1,\n",
       " 'commence construction': 1,\n",
       " 'construction': 1,\n",
       " 'construction new': 1,\n",
       " 'continue': 1,\n",
       " 'continue undertake': 1,\n",
       " 'delivering': 1,\n",
       " 'delivering maternal': 1,\n",
       " 'enhance': 1,\n",
       " 'enhance improve': 1,\n",
       " 'equipped': 1,\n",
       " 'equipped maternity': 1,\n",
       " 'facility': 1,\n",
       " 'foundation': 2,\n",
       " 'foundation stone': 1,\n",
       " 'foundation tingare': 1,\n",
       " 'general': 1,\n",
       " 'general healthcare': 1,\n",
       " 'get': 1,\n",
       " 'get modern': 1,\n",
       " 'health': 2,\n",
       " 'health centre': 1,\n",
       " 'health reduce': 1,\n",
       " 'healthcare': 2,\n",
       " 'healthcare infrastructure': 1,\n",
       " 'healthcare service': 1,\n",
       " 'improve': 2,\n",
       " 'improve healthcare': 1,\n",
       " 'improve maternal': 1,\n",
       " 'infrastructure': 1,\n",
       " 'infrastructure partnership': 1,\n",
       " 'join': 1,\n",
       " 'join tomorrow': 1,\n",
       " 'laboratory': 1,\n",
       " 'laboratory join': 1,\n",
       " 'lay': 1,\n",
       " 'lay foundation': 1,\n",
       " 'maternal': 2,\n",
       " 'maternal general': 1,\n",
       " 'maternal health': 1,\n",
       " 'maternity': 1,\n",
       " 'maternity unit': 1,\n",
       " 'modern': 2,\n",
       " 'modern laboratory': 1,\n",
       " 'modern well': 1,\n",
       " 'mortality': 1,\n",
       " 'mortality rate': 1,\n",
       " 'neonatal': 1,\n",
       " 'neonatal mortality': 1,\n",
       " 'new': 1,\n",
       " 'new facility': 1,\n",
       " 'partnership': 2,\n",
       " 'partnership enhance': 1,\n",
       " 'partnership foundation': 1,\n",
       " 'rate': 1,\n",
       " 'rate alongside': 1,\n",
       " 'reduce': 1,\n",
       " 'reduce neonatal': 1,\n",
       " 'service': 1,\n",
       " 'service continue': 1,\n",
       " 'sigomre': 1,\n",
       " 'sigomre ward': 1,\n",
       " 'soon': 1,\n",
       " 'soon get': 1,\n",
       " 'stone': 1,\n",
       " 'stone commence': 1,\n",
       " 'tingare': 1,\n",
       " 'tingare health': 1,\n",
       " 'tomorrow': 1,\n",
       " 'tomorrow lay': 1,\n",
       " 'undertake': 1,\n",
       " 'undertake partnership': 1,\n",
       " 'unit': 1,\n",
       " 'unit improve': 1,\n",
       " 'ward': 1,\n",
       " 'ward soon': 1,\n",
       " 'well': 1,\n",
       " 'well equipped': 1}"
      ]
     },
     "execution_count": 25,
     "metadata": {},
     "output_type": "execute_result"
    }
   ],
   "source": [
    "#This code tells you which words appeared in that tweet and how many times each word occurred.\n",
    "# Pick a row (e.g., 307)\n",
    "row_index = 307\n",
    "\n",
    "# Get non-zero tokens and their counts\n",
    "row = X_count[row_index].toarray()[0]\n",
    "tokens = np.array(count_vect.get_feature_names())\n",
    "\n",
    "# Show only tokens that appear (count > 0)\n",
    "token_counts = {token: count for token, count in zip(tokens, row) if count > 0}\n",
    "token_counts\n"
   ]
  },
  {
   "cell_type": "markdown",
   "id": "351f538d",
   "metadata": {},
   "source": [
    "### Split your data:\n",
    "\n",
    "Use train_test_split() to separate into training and test sets.\n",
    "\n",
    "2. Train & evaluate traditional ML models:\n",
    "\n",
    "Logistic Regression\n",
    "\n",
    "Multinomial Naive Bayes\n",
    "\n",
    "Evaluate using accuracy, F1-score, confusion matrix\n",
    "\n",
    "3. Move to transformer-based models (XLM-R & mBERT):\n",
    "\n",
    "Tokenize with HuggingFace tokenizer\n",
    "\n",
    "Fine-tune using transformers library\n",
    "\n",
    "Use Trainer API or manual training loop\n",
    "\n",
    "Evaluate performance\n",
    "\n"
   ]
  },
  {
   "cell_type": "markdown",
   "id": "37668b63",
   "metadata": {},
   "source": [
    "### Splitting data\n",
    "We split data to test model performance fairly, and we ensure X and y match so that each input has a correct target label during training.\n"
   ]
  },
  {
   "cell_type": "code",
   "execution_count": 26,
   "id": "1cc0a8bf",
   "metadata": {},
   "outputs": [
    {
     "data": {
      "text/plain": [
       "Index(['Tweet ID', 'URL', 'Content', 'Likes', 'Retweets', 'Replies', 'Quotes',\n",
       "       'Views', 'Date', 'Labels', 'Cleaned_Text', 'Processed_Text'],\n",
       "      dtype='object')"
      ]
     },
     "execution_count": 26,
     "metadata": {},
     "output_type": "execute_result"
    }
   ],
   "source": [
    "saf_tweets.columns\n"
   ]
  },
  {
   "cell_type": "code",
   "execution_count": 27,
   "id": "1caf8ecf",
   "metadata": {},
   "outputs": [
    {
     "data": {
      "text/plain": [
       "array(['Customer care complaint', 'Neutral',\n",
       "       'Internet or airtime bundle complaint', 'Hate Speech',\n",
       "       'Data protection and privacy concern',\n",
       "       'Network reliability problem', 'MPESA complaint', nan],\n",
       "      dtype=object)"
      ]
     },
     "execution_count": 27,
     "metadata": {},
     "output_type": "execute_result"
    }
   ],
   "source": [
    "saf_tweets['Labels'].unique()\n"
   ]
  },
  {
   "cell_type": "code",
   "execution_count": 28,
   "id": "071c4052",
   "metadata": {},
   "outputs": [
    {
     "data": {
      "text/plain": [
       "1"
      ]
     },
     "execution_count": 28,
     "metadata": {},
     "output_type": "execute_result"
    }
   ],
   "source": [
    "saf_tweets['Labels'].isnull().sum()\n"
   ]
  },
  {
   "cell_type": "code",
   "execution_count": 29,
   "id": "69c5cd1d",
   "metadata": {},
   "outputs": [],
   "source": [
    "saf_tweets = saf_tweets.dropna(subset=['Labels'])\n"
   ]
  },
  {
   "cell_type": "code",
   "execution_count": 30,
   "id": "f0661b7a",
   "metadata": {},
   "outputs": [],
   "source": [
    "# Feature matrix (X) from TF-IDF\n",
    "X = X_tfidf  # or use X_count if you're working with CountVectorizer\n",
    "\n",
    "# Target labels\n",
    "y = saf_tweets['Labels']\n"
   ]
  },
  {
   "cell_type": "code",
   "execution_count": 31,
   "id": "b6c11f96",
   "metadata": {},
   "outputs": [
    {
     "name": "stdout",
     "output_type": "stream",
     "text": [
      "X shape: (2574, 5000)\n",
      "y shape: (2573,)\n"
     ]
    }
   ],
   "source": [
    "print(\"X shape:\", X.shape)\n",
    "print(\"y shape:\", y.shape)\n"
   ]
  },
  {
   "cell_type": "markdown",
   "id": "8b14d367",
   "metadata": {},
   "source": [
    "### Here we drop rows with missing labels, we need to ensure that our feature matrix X had the same number of rows as the label vector y. So we regenerated X using the updated saf_tweets DataFram"
   ]
  },
  {
   "cell_type": "code",
   "execution_count": 32,
   "id": "1a4dc6da",
   "metadata": {},
   "outputs": [
    {
     "name": "stdout",
     "output_type": "stream",
     "text": [
      "After dropping, saf_tweets shape: (2573, 12)\n"
     ]
    }
   ],
   "source": [
    "# Drop rows with missing labels\n",
    "saf_tweets = saf_tweets.dropna(subset=['Labels'])\n",
    "\n",
    "# Confirm the new shape\n",
    "print(\"After dropping, saf_tweets shape:\", saf_tweets.shape)\n"
   ]
  },
  {
   "cell_type": "code",
   "execution_count": 33,
   "id": "c3872aa7",
   "metadata": {},
   "outputs": [
    {
     "name": "stdout",
     "output_type": "stream",
     "text": [
      "X shape: (2574, 5000)\n",
      "y shape: (2573,)\n"
     ]
    }
   ],
   "source": [
    "print(\"X shape:\", X.shape)\n",
    "print(\"y shape:\", y.shape)\n"
   ]
  },
  {
   "cell_type": "code",
   "execution_count": 34,
   "id": "7e7d6313",
   "metadata": {},
   "outputs": [],
   "source": [
    "X = tfidf_vect.transform(saf_tweets[\"Processed_Text\"])\n"
   ]
  },
  {
   "cell_type": "code",
   "execution_count": 35,
   "id": "07c053df",
   "metadata": {},
   "outputs": [
    {
     "name": "stdout",
     "output_type": "stream",
     "text": [
      "X shape: (2573, 5000)\n",
      "y shape: (2573,)\n"
     ]
    }
   ],
   "source": [
    "# Here we are confirming if our rows are equal the we can model\n",
    "print(\"X shape:\", X.shape)\n",
    "print(\"y shape:\", y.shape)\n"
   ]
  },
  {
   "cell_type": "code",
   "execution_count": 36,
   "id": "5a29554d",
   "metadata": {},
   "outputs": [],
   "source": [
    "from sklearn.model_selection import train_test_split\n",
    "\n",
    "# Split the dataset (assuming X and y are already cleaned and aligned)\n",
    "X_train, X_test, y_train, y_test = train_test_split(\n",
    "    X, y, test_size=0.2, random_state=42, stratify=y\n",
    ")\n"
   ]
  },
  {
   "cell_type": "markdown",
   "id": "b98c9f40",
   "metadata": {},
   "source": [
    "### Modelling\n",
    "\n",
    "### Now we begin with Logistic regression\n",
    "We trained a Logistic Regression model using the training data.\n",
    "\n",
    "Evaluated its performance using:\n",
    "\n",
    "Accuracy Score to measure overall correctness.\n",
    "\n",
    "Confusion Matrix to visualize how well the model predicted each category.\n",
    "\n",
    "Classification Report to analyze precision, recall, and F1-score for each class.\n",
    "\n",
    "Key Takeaways:\n",
    "\n",
    "The model achieved an accuracy of 57%.\n",
    "\n",
    "It predicted the 'Neutral' class well but struggled with less frequent categories.\n",
    "\n",
    "Precision and recall were low for most complaint types, suggesting that improvements are needed."
   ]
  },
  {
   "cell_type": "code",
   "execution_count": 37,
   "id": "13305610",
   "metadata": {},
   "outputs": [
    {
     "name": "stdout",
     "output_type": "stream",
     "text": [
      "Accuracy Score: 0.5728155339805825\n",
      "\n",
      "Confusion Matrix:\n",
      " [[ 28   0   0   3   1   0  47]\n",
      " [  4   4   2   0   0   0  25]\n",
      " [  1   0  17   0   0   1  40]\n",
      " [  2   0   0  28   0   1  29]\n",
      " [  3   0   1   0  16   0  18]\n",
      " [  3   0   1   6   0   7  20]\n",
      " [  9   0   0   0   3   0 195]]\n",
      "\n",
      "Classification Report:\n",
      "                                       precision    recall  f1-score   support\n",
      "\n",
      "             Customer care complaint       0.56      0.35      0.43        79\n",
      " Data protection and privacy concern       1.00      0.11      0.21        35\n",
      "                         Hate Speech       0.81      0.29      0.43        59\n",
      "Internet or airtime bundle complaint       0.76      0.47      0.58        60\n",
      "                     MPESA complaint       0.80      0.42      0.55        38\n",
      "         Network reliability problem       0.78      0.19      0.30        37\n",
      "                             Neutral       0.52      0.94      0.67       207\n",
      "\n",
      "                            accuracy                           0.57       515\n",
      "                           macro avg       0.75      0.40      0.45       515\n",
      "                        weighted avg       0.66      0.57      0.53       515\n",
      "\n"
     ]
    }
   ],
   "source": [
    "# I mport and Train Logistic Regression\n",
    "from sklearn.linear_model import LogisticRegression\n",
    "from sklearn.metrics import classification_report, confusion_matrix, accuracy_score\n",
    "\n",
    "# 1. Initialize the Logistic Regression model\n",
    "log_reg = LogisticRegression(max_iter=1000, random_state=42)\n",
    "\n",
    "# 2. Fit (train) the model using training data\n",
    "log_reg.fit(X_train, y_train)\n",
    "\n",
    "# 3. Predict labels for the test set\n",
    "y_pred = log_reg.predict(X_test)\n",
    "\n",
    "# 4. Evaluate model performance\n",
    "print(\"Accuracy Score:\", accuracy_score(y_test, y_pred))  # Overall accuracy\n",
    "print(\"\\nConfusion Matrix:\\n\", confusion_matrix(y_test, y_pred))  # Breakdown of predictions\n",
    "print(\"\\nClassification Report:\\n\", classification_report(y_test, y_pred))  # Precision, recall, F1\n"
   ]
  },
  {
   "cell_type": "code",
   "execution_count": 38,
   "id": "dc14b5ac",
   "metadata": {},
   "outputs": [
    {
     "data": {
      "image/png": "[encoded data removed]",
      "text/plain": [
       "<Figure size 720x504 with 2 Axes>"
      ]
     },
     "metadata": {
      "needs_background": "light"
     },
     "output_type": "display_data"
    }
   ],
   "source": [
    "import seaborn as sns\n",
    "import matplotlib.pyplot as plt\n",
    "from sklearn.metrics import confusion_matrix\n",
    "\n",
    "# Get the actual label names\n",
    "labels = np.unique(y_test)\n",
    "\n",
    "# Compute confusion matrix\n",
    "cm = confusion_matrix(y_test, y_pred, labels=labels)\n",
    "\n",
    "# Plot\n",
    "plt.figure(figsize=(10, 7))\n",
    "sns.heatmap(cm, annot=True, fmt='d', xticklabels=labels, yticklabels=labels, cmap='Blues')\n",
    "plt.xlabel(\"Predicted\")\n",
    "plt.ylabel(\"Actual\")\n",
    "plt.title(\"Confusion Matrix\")\n",
    "plt.show()\n"
   ]
  },
  {
   "cell_type": "markdown",
   "id": "662d3147",
   "metadata": {},
   "source": [
    "### Naive Bayes for Multiclass Classification"
   ]
  },
  {
   "cell_type": "code",
   "execution_count": 39,
   "id": "638fa694",
   "metadata": {},
   "outputs": [
    {
     "name": "stdout",
     "output_type": "stream",
     "text": [
      "Accuracy Score: 0.48349514563106794\n",
      "\n",
      "Confusion Matrix:\n",
      " [[ 14   0   0   1   0   0  64]\n",
      " [  1   0   0   0   0   0  34]\n",
      " [  2   0  12   0   0   0  45]\n",
      " [  1   0   0  15   0   0  44]\n",
      " [  2   0   0   0   3   0  33]\n",
      " [  1   0   0   4   0   1  31]\n",
      " [  3   0   0   0   0   0 204]]\n",
      "\n",
      "Classification Report:\n",
      "                                       precision    recall  f1-score   support\n",
      "\n",
      "             Customer care complaint       0.58      0.18      0.27        79\n",
      " Data protection and privacy concern       0.00      0.00      0.00        35\n",
      "                         Hate Speech       1.00      0.20      0.34        59\n",
      "Internet or airtime bundle complaint       0.75      0.25      0.38        60\n",
      "                     MPESA complaint       1.00      0.08      0.15        38\n",
      "         Network reliability problem       1.00      0.03      0.05        37\n",
      "                             Neutral       0.45      0.99      0.62       207\n",
      "\n",
      "                            accuracy                           0.48       515\n",
      "                           macro avg       0.68      0.25      0.26       515\n",
      "                        weighted avg       0.62      0.48      0.39       515\n",
      "\n"
     ]
    },
    {
     "name": "stderr",
     "output_type": "stream",
     "text": [
      "c:\\Users\\Admin\\anaconda3\\envs\\learn-env\\lib\\site-packages\\sklearn\\metrics\\_classification.py:1221: UndefinedMetricWarning: Precision and F-score are ill-defined and being set to 0.0 in labels with no predicted samples. Use `zero_division` parameter to control this behavior.\n",
      "  _warn_prf(average, modifier, msg_start, len(result))\n"
     ]
    }
   ],
   "source": [
    "from sklearn.naive_bayes import MultinomialNB # this is well suited for text data(FT-IDF)\n",
    "from sklearn.metrics import accuracy_score, classification_report, confusion_matrix\n",
    "\n",
    "# 1. Initialize the Naive Bayes classifier\n",
    "nb_model = MultinomialNB()\n",
    "\n",
    "# 2. Fit the model to the training data\n",
    "nb_model.fit(X_train, y_train)\n",
    "\n",
    "# 3. Make predictions on the test set\n",
    "y_pred_nb = nb_model.predict(X_test)\n",
    "\n",
    "# 4. Evaluate the model\n",
    "accuracy = accuracy_score(y_test, y_pred_nb)\n",
    "print(\"Accuracy Score:\", accuracy)\n",
    "\n",
    "# 5. Display the confusion matrix\n",
    "print(\"\\nConfusion Matrix:\\n\", confusion_matrix(y_test, y_pred_nb))\n",
    "\n",
    "# 6. Print a detailed classification report\n",
    "print(\"\\nClassification Report:\\n\", classification_report(y_test, y_pred_nb))\n"
   ]
  },
  {
   "cell_type": "code",
   "execution_count": 40,
   "id": "1f8bbe6a",
   "metadata": {},
   "outputs": [
    {
     "data": {
      "image/png": "[encoded data removed]",
      "text/plain": [
       "<Figure size 720x504 with 2 Axes>"
      ]
     },
     "metadata": {
      "needs_background": "light"
     },
     "output_type": "display_data"
    }
   ],
   "source": [
    "import matplotlib.pyplot as plt\n",
    "import seaborn as sns\n",
    "from sklearn.metrics import confusion_matrix\n",
    "\n",
    "# Define your class labels in the correct order\n",
    "class_names = [\n",
    "    \"Customer care complaint\",\n",
    "    \"Data protection and privacy concern\",\n",
    "    \"Hate Speech\",\n",
    "    \"Internet or airtime bundle complaint\",\n",
    "    \"MPESA complaint\",\n",
    "    \"Network reliability problem\",\n",
    "    \"Neutral\"\n",
    "]\n",
    "\n",
    "# Generate the confusion matrix\n",
    "nb_cm = confusion_matrix(y_test, y_pred_nb)\n",
    "\n",
    "# Plot the confusion matrix heatmap\n",
    "plt.figure(figsize=(10, 7))\n",
    "sns.heatmap(nb_cm, annot=True, fmt='d', cmap='Blues',\n",
    "            xticklabels=class_names, yticklabels=class_names)\n",
    "\n",
    "plt.title(\"Confusion Matrix - Naive Bayes\")\n",
    "plt.xlabel(\"Predicted Label\")\n",
    "plt.ylabel(\"True Label\")\n",
    "plt.xticks(rotation=45, ha='right')\n",
    "plt.yticks(rotation=0)\n",
    "plt.tight_layout()\n",
    "plt.show()\n"
   ]
  },
  {
   "cell_type": "markdown",
   "id": "0bed73b1",
   "metadata": {},
   "source": [
    "### Random Forest"
   ]
  },
  {
   "cell_type": "code",
   "execution_count": 41,
   "id": "c137ddfd",
   "metadata": {},
   "outputs": [
    {
     "name": "stdout",
     "output_type": "stream",
     "text": [
      "Accuracy Score: 0.6\n",
      "\n",
      "Classification Report:\n",
      "                                       precision    recall  f1-score   support\n",
      "\n",
      "             Customer care complaint       0.45      0.29      0.35        79\n",
      " Data protection and privacy concern       1.00      0.26      0.41        35\n",
      "                         Hate Speech       0.74      0.39      0.51        59\n",
      "Internet or airtime bundle complaint       0.65      0.67      0.66        60\n",
      "                     MPESA complaint       0.62      0.53      0.57        38\n",
      "         Network reliability problem       0.65      0.46      0.54        37\n",
      "                             Neutral       0.58      0.86      0.69       207\n",
      "\n",
      "                            accuracy                           0.60       515\n",
      "                           macro avg       0.67      0.49      0.53       515\n",
      "                        weighted avg       0.62      0.60      0.58       515\n",
      "\n"
     ]
    },
    {
     "data": {
      "image/png": "[encoded data removed]",
      "text/plain": [
       "<Figure size 720x432 with 2 Axes>"
      ]
     },
     "metadata": {
      "needs_background": "light"
     },
     "output_type": "display_data"
    }
   ],
   "source": [
    "from sklearn.ensemble import RandomForestClassifier\n",
    "from sklearn.metrics import accuracy_score, classification_report, confusion_matrix\n",
    "\n",
    "# 1. Initialize the model\n",
    "rf_model = RandomForestClassifier(n_estimators=100, random_state=42)\n",
    "\n",
    "# 2. Fit the model on training data\n",
    "rf_model.fit(X_train, y_train)\n",
    "\n",
    "# 3. Predict on test data\n",
    "y_pred_rf = rf_model.predict(X_test)\n",
    "\n",
    "# 4. Evaluate the model\n",
    "accuracy_rf = accuracy_score(y_test, y_pred_rf)\n",
    "print(\"Accuracy Score:\", accuracy_rf)\n",
    "print(\"\\nClassification Report:\\n\", classification_report(y_test, y_pred_rf))\n",
    "\n",
    "# 5. Plot the confusion matrix\n",
    "labels = y.unique().tolist()  # Use your actual label list if you have one\n",
    "cm = confusion_matrix(y_test, y_pred_rf, labels=labels)\n",
    "\n",
    "plt.figure(figsize=(10, 6))\n",
    "sns.heatmap(cm, annot=True, fmt='d', cmap='Blues',\n",
    "            xticklabels=labels, yticklabels=labels)\n",
    "plt.title(\"Random Forest Confusion Matrix\")\n",
    "plt.xlabel(\"Predicted Labels\")\n",
    "plt.ylabel(\"True Labels\")\n",
    "plt.show()\n"
   ]
  },
  {
   "cell_type": "markdown",
   "id": "a55648be",
   "metadata": {},
   "source": [
    "### Model comparison\n",
    "Random Forest performed the best overall, with the highest accuracy and F1-score.\n",
    "\n",
    "Logistic Regression showed high precision but lower recall, meaning it made fewer false positives but missed more actual cases.\n",
    "\n",
    "Naive Bayes performed the worst, likely due to its simplicity and assumptions, which may not fit the complexity of the text data."
   ]
  },
  {
   "cell_type": "code",
   "execution_count": 42,
   "id": "46f6c604",
   "metadata": {},
   "outputs": [
    {
     "name": "stdout",
     "output_type": "stream",
     "text": [
      "                 Model  Accuracy  Precision (Macro)  Recall (Macro)  \\\n",
      "0  Logistic Regression    0.5728               0.75            0.40   \n",
      "1          Naive Bayes    0.4835               0.68            0.25   \n",
      "2        Random Forest    0.6135               0.73            0.46   \n",
      "\n",
      "   F1-score (Macro)  \n",
      "0              0.45  \n",
      "1              0.26  \n",
      "2              0.49  \n"
     ]
    }
   ],
   "source": [
    "# Create a summary DataFrame of model metrics\n",
    "model_comparison = pd.DataFrame({\n",
    "    'Model': ['Logistic Regression', 'Naive Bayes', 'Random Forest'],\n",
    "    'Accuracy': [0.5728, 0.4835, 0.6135],\n",
    "    'Precision (Macro)': [0.75, 0.68, 0.73],\n",
    "    'Recall (Macro)': [0.40, 0.25, 0.46],\n",
    "    'F1-score (Macro)': [0.45, 0.26, 0.49]\n",
    "})\n",
    "\n",
    "# Display the comparison table\n",
    "print(model_comparison)\n"
   ]
  },
  {
   "cell_type": "code",
   "execution_count": 43,
   "id": "ac336538",
   "metadata": {},
   "outputs": [
    {
     "data": {
      "image/png": "[encoded data removed]",
      "text/plain": [
       "<Figure size 720x432 with 1 Axes>"
      ]
     },
     "metadata": {
      "needs_background": "light"
     },
     "output_type": "display_data"
    }
   ],
   "source": [
    "# Create a DataFrame with model results\n",
    "results = pd.DataFrame({\n",
    "    'Model': ['Logistic Regression', 'Naive Bayes', 'Random Forest'],\n",
    "    'Accuracy': [0.57, 0.48, 0.61],\n",
    "    'F1 Score (Macro)': [0.45, 0.26, 0.49],\n",
    "    'Precision (Macro)': [0.75, 0.68, 0.73],\n",
    "    'Recall (Macro)': [0.40, 0.25, 0.46]\n",
    "})\n",
    "\n",
    "# Plot Accuracy and F1 Score\n",
    "results.set_index('Model')[['Accuracy', 'F1 Score (Macro)']].plot(kind='bar', figsize=(10,6), colormap='Set2')\n",
    "plt.title('Model Comparison: Accuracy & F1 Score')\n",
    "plt.ylabel('Score')\n",
    "plt.ylim(0, 1)\n",
    "plt.xticks(rotation=15)\n",
    "plt.grid(axis='y')\n",
    "plt.tight_layout()\n",
    "plt.show()\n"
   ]
  },
  {
   "cell_type": "markdown",
   "id": "10ece754",
   "metadata": {},
   "source": [
    "### Dealing with the imbalance\n",
    "\n",
    "### 📊 Class Distribution Before and After SMOTE\n",
    "\n",
    "The plots below compare the class distribution of the training set before and after applying SMOTE (Synthetic Minority Over-sampling Technique).\n",
    "\n",
    "- **Left plot**: Shows the original imbalance in the training data, where some classes (like \"Neutral\") had significantly more samples than others (e.g., \"Data protection and privacy concern\").\n",
    "- **Right plot**: Displays the balanced distribution after SMOTE was applied, where each class has been upsampled to the same count (825 samples per class).\n",
    "\n",
    "This resampling step ensures that all classes are equally represented during model training, helping to reduce bias toward majority classes and improve the model's ability to correctly classify minority classes.\n"
   ]
  },
  {
   "cell_type": "code",
   "execution_count": 44,
   "id": "1e9aea7e",
   "metadata": {},
   "outputs": [
    {
     "name": "stdout",
     "output_type": "stream",
     "text": [
      "Original training set shape: Neutral                                 825\n",
      "Customer care complaint                 318\n",
      "Internet or airtime bundle complaint    239\n",
      "Hate Speech                             238\n",
      "MPESA complaint                         151\n",
      "Network reliability problem             147\n",
      "Data protection and privacy concern     140\n",
      "Name: Labels, dtype: int64\n",
      "Resampled training set shape: Network reliability problem             825\n",
      "Hate Speech                             825\n",
      "MPESA complaint                         825\n",
      "Customer care complaint                 825\n",
      "Data protection and privacy concern     825\n",
      "Neutral                                 825\n",
      "Internet or airtime bundle complaint    825\n",
      "Name: Labels, dtype: int64\n"
     ]
    }
   ],
   "source": [
    "from imblearn.over_sampling import SMOTE\n",
    "\n",
    "# Initialize SMOTE\n",
    "smote = SMOTE(random_state=42)\n",
    "\n",
    "# Apply SMOTE to training data only\n",
    "X_train_sm, y_train_sm = smote.fit_resample(X_train, y_train)\n",
    "\n",
    "# Check the new shape after balancing\n",
    "print(\"Original training set shape:\", y_train.value_counts())\n",
    "print(\"Resampled training set shape:\", y_train_sm.value_counts())\n",
    "\n"
   ]
  },
  {
   "cell_type": "code",
   "execution_count": 47,
   "id": "6c8507c6",
   "metadata": {},
   "outputs": [
    {
     "data": {
      "image/png": "[encoded data removed]",
      "text/plain": [
       "<Figure size 1296x504 with 2 Axes>"
      ]
     },
     "metadata": {
      "needs_background": "light"
     },
     "output_type": "display_data"
    }
   ],
   "source": [
    "# Get original and resampled value counts\n",
    "original_counts = y_train.value_counts().sort_values(ascending=False)\n",
    "resampled_counts = pd.Series(y_train_sm).value_counts().sort_values(ascending=False)\n",
    "\n",
    "# Set up a wider figure for better spacing\n",
    "plt.figure(figsize=(18, 7))\n",
    "\n",
    "# Plot original distribution\n",
    "plt.subplot(1, 2, 1)\n",
    "sns.barplot(x=original_counts.index, y=original_counts.values, palette=\"Set2\")\n",
    "plt.title(\"Original Training Set Distribution\")\n",
    "plt.ylabel(\"Count\")\n",
    "plt.xticks(rotation=30, ha='right')  # Rotate and align x-axis labels\n",
    "\n",
    "# Plot resampled distribution\n",
    "plt.subplot(1, 2, 2)\n",
    "sns.barplot(x=resampled_counts.index, y=resampled_counts.values, palette=\"Set3\")\n",
    "plt.title(\"Resampled Training Set Distribution (After SMOTE)\")\n",
    "plt.ylabel(\"Count\")\n",
    "plt.xticks(rotation=30, ha='right')  # Rotate and align x-axis labels\n",
    "\n",
    "plt.tight_layout()\n",
    "plt.show()\n"
   ]
  },
  {
   "cell_type": "markdown",
   "id": "8ba70ead",
   "metadata": {},
   "source": [
    "### Retraining the model after balancing\n",
    "\n",
    "### 📊 Model Performance After SMOTE\n",
    "\n",
    "To address class imbalance, we applied **SMOTE** to the training set and re-evaluated our models on the original test set. Below are the results:\n",
    "\n",
    "- **Logistic Regression (with SMOTE)**\n",
    "  - Accuracy: **53.6%**\n",
    "  - Moderate improvement in class balance.\n",
    "  - F1-score improved for some minority classes.\n",
    "\n",
    "- **Random Forest (with SMOTE)**\n",
    "  - Accuracy: **63.3%**\n",
    "  - Best overall performance.\n",
    "  - Strong F1-scores across most classes.\n",
    "\n",
    "- **Naive Bayes (with SMOTE)**\n",
    "  - Accuracy: **50.1%**\n",
    "  - Better recall for some classes, but overall accuracy and F1 dropped.\n",
    "\n",
    "✅ **Random Forest performed best after SMOTE** and is a strong candidate for final model selection.\n"
   ]
  },
  {
   "cell_type": "code",
   "execution_count": 49,
   "id": "528f010e",
   "metadata": {},
   "outputs": [
    {
     "name": "stdout",
     "output_type": "stream",
     "text": [
      "Logistic Regression (with SMOTE) Accuracy: 0.5359223300970873\n",
      "\n",
      "Confusion Matrix:\n",
      " [[35  5  4  3 11  1 20]\n",
      " [ 3 19  4  0  0  0  9]\n",
      " [ 9  3 39  0  0  1  7]\n",
      " [ 7  1  3 36  0  4  9]\n",
      " [ 4  0  3  0 29  1  1]\n",
      " [ 4  1  1  8  0 19  4]\n",
      " [34  4 58  1 10  1 99]]\n",
      "\n",
      "Classification Report:\n",
      "                                       precision    recall  f1-score   support\n",
      "\n",
      "             Customer care complaint       0.36      0.44      0.40        79\n",
      " Data protection and privacy concern       0.58      0.54      0.56        35\n",
      "                         Hate Speech       0.35      0.66      0.46        59\n",
      "Internet or airtime bundle complaint       0.75      0.60      0.67        60\n",
      "                     MPESA complaint       0.58      0.76      0.66        38\n",
      "         Network reliability problem       0.70      0.51      0.59        37\n",
      "                             Neutral       0.66      0.48      0.56       207\n",
      "\n",
      "                            accuracy                           0.54       515\n",
      "                           macro avg       0.57      0.57      0.56       515\n",
      "                        weighted avg       0.58      0.54      0.54       515\n",
      "\n"
     ]
    }
   ],
   "source": [
    "# Step 1: Apply SMOTE to training data (if not already done)\n",
    "smote = SMOTE(random_state=42)\n",
    "X_train_res, y_train_res = smote.fit_resample(X_train, y_train)\n",
    "\n",
    "# Step 2: Train Logistic Regression on balanced data\n",
    "log_reg_smote = LogisticRegression(max_iter=1000, random_state=42)\n",
    "log_reg_smote.fit(X_train_res, y_train_res)\n",
    "\n",
    "# Step 3: Predict on the original (unbalanced) test set\n",
    "y_pred_smote = log_reg_smote.predict(X_test)\n",
    "\n",
    "# Step 4: Evaluate the model\n",
    "print(\"Logistic Regression (with SMOTE) Accuracy:\", accuracy_score(y_test, y_pred_smote))\n",
    "print(\"\\nConfusion Matrix:\\n\", confusion_matrix(y_test, y_pred_smote))\n",
    "print(\"\\nClassification Report:\\n\", classification_report(y_test, y_pred_smote))\n"
   ]
  },
  {
   "cell_type": "code",
   "execution_count": 51,
   "id": "75edd942",
   "metadata": {},
   "outputs": [
    {
     "name": "stdout",
     "output_type": "stream",
     "text": [
      "Random Forest (with SMOTE) Accuracy: 0.6330097087378641\n",
      "\n",
      "Confusion Matrix:\n",
      " [[ 34   0   2   7   8   2  26]\n",
      " [  5  16   3   1   1   0   9]\n",
      " [  5   0  30   3   0   1  20]\n",
      " [  1   1   2  38   0   6  12]\n",
      " [  3   0   1   0  32   0   2]\n",
      " [  4   0   1   8   0  21   3]\n",
      " [ 26   2  10   0   9   5 155]]\n",
      "\n",
      "Classification Report:\n",
      "                                       precision    recall  f1-score   support\n",
      "\n",
      "             Customer care complaint       0.44      0.43      0.43        79\n",
      " Data protection and privacy concern       0.84      0.46      0.59        35\n",
      "                         Hate Speech       0.61      0.51      0.56        59\n",
      "Internet or airtime bundle complaint       0.67      0.63      0.65        60\n",
      "                     MPESA complaint       0.64      0.84      0.73        38\n",
      "         Network reliability problem       0.60      0.57      0.58        37\n",
      "                             Neutral       0.68      0.75      0.71       207\n",
      "\n",
      "                            accuracy                           0.63       515\n",
      "                           macro avg       0.64      0.60      0.61       515\n",
      "                        weighted avg       0.64      0.63      0.63       515\n",
      "\n"
     ]
    }
   ],
   "source": [
    "# 1. Initialize a new Random Forest model\n",
    "rf_bal = RandomForestClassifier(random_state=42)\n",
    "\n",
    "# 2. Fit on the balanced training data\n",
    "rf_bal.fit(X_train_res, y_train_res)\n",
    "\n",
    "# 3. Predict on the original test set\n",
    "y_pred_rf_bal = rf_bal.predict(X_test)\n",
    "\n",
    "# 4. Evaluate\n",
    "print(\"Random Forest (with SMOTE) Accuracy:\", accuracy_score(y_test, y_pred_rf_bal))\n",
    "print(\"\\nConfusion Matrix:\\n\", confusion_matrix(y_test, y_pred_rf_bal))\n",
    "print(\"\\nClassification Report:\\n\", classification_report(y_test, y_pred_rf_bal))\n"
   ]
  },
  {
   "cell_type": "code",
   "execution_count": 52,
   "id": "739ff0dd",
   "metadata": {},
   "outputs": [
    {
     "name": "stdout",
     "output_type": "stream",
     "text": [
      "Naive Bayes (with SMOTE) Accuracy: 0.5009708737864078\n",
      "\n",
      "Confusion Matrix:\n",
      " [[29  8  3  9 16  3 11]\n",
      " [ 4 24  3  2  2  0  0]\n",
      " [ 5  6 34  5  2  3  4]\n",
      " [ 3  0  3 44  0  9  1]\n",
      " [ 3  3  1  0 30  1  0]\n",
      " [ 1  1  1 11  1 19  3]\n",
      " [70  8 20 12 14  5 78]]\n",
      "\n",
      "Classification Report:\n",
      "                                       precision    recall  f1-score   support\n",
      "\n",
      "             Customer care complaint       0.25      0.37      0.30        79\n",
      " Data protection and privacy concern       0.48      0.69      0.56        35\n",
      "                         Hate Speech       0.52      0.58      0.55        59\n",
      "Internet or airtime bundle complaint       0.53      0.73      0.62        60\n",
      "                     MPESA complaint       0.46      0.79      0.58        38\n",
      "         Network reliability problem       0.47      0.51      0.49        37\n",
      "                             Neutral       0.80      0.38      0.51       207\n",
      "\n",
      "                            accuracy                           0.50       515\n",
      "                           macro avg       0.50      0.58      0.52       515\n",
      "                        weighted avg       0.58      0.50      0.50       515\n",
      "\n"
     ]
    }
   ],
   "source": [
    "# 1. Initialize a new Naive Bayes model\n",
    "nb_bal = MultinomialNB()\n",
    "\n",
    "# 2. Fit on the balanced training data\n",
    "nb_bal.fit(X_train_res, y_train_res)\n",
    "\n",
    "# 3. Predict on the original test set\n",
    "y_pred_nb_bal = nb_bal.predict(X_test)\n",
    "\n",
    "# 4. Evaluate\n",
    "print(\"Naive Bayes (with SMOTE) Accuracy:\", accuracy_score(y_test, y_pred_nb_bal))\n",
    "print(\"\\nConfusion Matrix:\\n\", confusion_matrix(y_test, y_pred_nb_bal))\n",
    "print(\"\\nClassification Report:\\n\", classification_report(y_test, y_pred_nb_bal))\n"
   ]
  },
  {
   "cell_type": "code",
   "execution_count": 54,
   "id": "93575582",
   "metadata": {},
   "outputs": [
    {
     "data": {
      "image/png": "[encoded data removed]",
      "text/plain": [
       "<Figure size 720x432 with 1 Axes>"
      ]
     },
     "metadata": {
      "needs_background": "light"
     },
     "output_type": "display_data"
    }
   ],
   "source": [
    "# Define metric values (from your outputs)\n",
    "models = ['Logistic Regression', 'Naive Bayes', 'Random Forest']\n",
    "accuracy = [0.536, 0.501, 0.633]\n",
    "precision = [0.57, 0.50, 0.64]\n",
    "recall = [0.57, 0.58, 0.60]\n",
    "f1 = [0.56, 0.52, 0.61]\n",
    "\n",
    "# Bar width and positions\n",
    "x = np.arange(len(models))\n",
    "bar_width = 0.2\n",
    "\n",
    "# Create grouped bar plot\n",
    "plt.figure(figsize=(10, 6))\n",
    "plt.bar(x - 1.5*bar_width, accuracy, width=bar_width, label='Accuracy')\n",
    "plt.bar(x - 0.5*bar_width, precision, width=bar_width, label='Precision (Macro)')\n",
    "plt.bar(x + 0.5*bar_width, recall, width=bar_width, label='Recall (Macro)')\n",
    "plt.bar(x + 1.5*bar_width, f1, width=bar_width, label='F1-score (Macro)')\n",
    "\n",
    "# Add labels and formatting\n",
    "plt.xticks(x, models, rotation=15)\n",
    "plt.ylabel('Score')\n",
    "plt.ylim(0, 1)\n",
    "plt.title('Model Performance Comparison (After SMOTE)')\n",
    "plt.legend()\n",
    "plt.tight_layout()\n",
    "plt.grid(axis='y', linestyle='--', alpha=0.7)\n",
    "plt.show()\n"
   ]
  },
  {
   "cell_type": "code",
   "execution_count": 55,
   "id": "58ce23b3",
   "metadata": {},
   "outputs": [
    {
     "data": {
      "application/vnd.plotly.v1+json": {
       "config": {
        "plotlyServerURL": "https://plot.ly"
       },
       "data": [
        {
         "marker": {
          "color": "indianred"
         },
         "name": "Accuracy",
         "type": "bar",
         "x": [
          "Logistic Regression",
          "Naive Bayes",
          "Random Forest"
         ],
         "y": [
          0.536,
          0.501,
          0.633
         ]
        },
        {
         "marker": {
          "color": "lightsalmon"
         },
         "name": "Precision (Macro)",
         "type": "bar",
         "x": [
          "Logistic Regression",
          "Naive Bayes",
          "Random Forest"
         ],
         "y": [
          0.57,
          0.5,
          0.64
         ]
        },
        {
         "marker": {
          "color": "seagreen"
         },
         "name": "Recall (Macro)",
         "type": "bar",
         "x": [
          "Logistic Regression",
          "Naive Bayes",
          "Random Forest"
         ],
         "y": [
          0.57,
          0.58,
          0.6
         ]
        },
        {
         "marker": {
          "color": "steelblue"
         },
         "name": "F1-score (Macro)",
         "type": "bar",
         "x": [
          "Logistic Regression",
          "Naive Bayes",
          "Random Forest"
         ],
         "y": [
          0.56,
          0.52,
          0.61
         ]
        }
       ],
       "layout": {
        "barmode": "group",
        "template": {
         "data": {
          "bar": [
           {
            "error_x": {
             "color": "#2a3f5f"
            },
            "error_y": {
             "color": "#2a3f5f"
            },
            "marker": {
             "line": {
              "color": "white",
              "width": 0.5
             }
            },
            "type": "bar"
           }
          ],
          "barpolar": [
           {
            "marker": {
             "line": {
              "color": "white",
              "width": 0.5
             }
            },
            "type": "barpolar"
           }
          ],
          "carpet": [
           {
            "aaxis": {
             "endlinecolor": "#2a3f5f",
             "gridcolor": "#C8D4E3",
             "linecolor": "#C8D4E3",
             "minorgridcolor": "#C8D4E3",
             "startlinecolor": "#2a3f5f"
            },
            "baxis": {
             "endlinecolor": "#2a3f5f",
             "gridcolor": "#C8D4E3",
             "linecolor": "#C8D4E3",
             "minorgridcolor": "#C8D4E3",
             "startlinecolor": "#2a3f5f"
            },
            "type": "carpet"
           }
          ],
          "choropleth": [
           {
            "colorbar": {
             "outlinewidth": 0,
             "ticks": ""
            },
            "type": "choropleth"
           }
          ],
          "contour": [
           {
            "colorbar": {
             "outlinewidth": 0,
             "ticks": ""
            },
            "colorscale": [
             [
              0,
              "#0d0887"
             ],
             [
              0.1111111111111111,
              "#46039f"
             ],
             [
              0.2222222222222222,
              "#7201a8"
             ],
             [
              0.3333333333333333,
              "#9c179e"
             ],
             [
              0.4444444444444444,
              "#bd3786"
             ],
             [
              0.5555555555555556,
              "#d8576b"
             ],
             [
              0.6666666666666666,
              "#ed7953"
             ],
             [
              0.7777777777777778,
              "#fb9f3a"
             ],
             [
              0.8888888888888888,
              "#fdca26"
             ],
             [
              1,
              "#f0f921"
             ]
            ],
            "type": "contour"
           }
          ],
          "contourcarpet": [
           {
            "colorbar": {
             "outlinewidth": 0,
             "ticks": ""
            },
            "type": "contourcarpet"
           }
          ],
          "heatmap": [
           {
            "colorbar": {
             "outlinewidth": 0,
             "ticks": ""
            },
            "colorscale": [
             [
              0,
              "#0d0887"
             ],
             [
              0.1111111111111111,
              "#46039f"
             ],
             [
              0.2222222222222222,
              "#7201a8"
             ],
             [
              0.3333333333333333,
              "#9c179e"
             ],
             [
              0.4444444444444444,
              "#bd3786"
             ],
             [
              0.5555555555555556,
              "#d8576b"
             ],
             [
              0.6666666666666666,
              "#ed7953"
             ],
             [
              0.7777777777777778,
              "#fb9f3a"
             ],
             [
              0.8888888888888888,
              "#fdca26"
             ],
             [
              1,
              "#f0f921"
             ]
            ],
            "type": "heatmap"
           }
          ],
          "heatmapgl": [
           {
            "colorbar": {
             "outlinewidth": 0,
             "ticks": ""
            },
            "colorscale": [
             [
              0,
              "#0d0887"
             ],
             [
              0.1111111111111111,
              "#46039f"
             ],
             [
              0.2222222222222222,
              "#7201a8"
             ],
             [
              0.3333333333333333,
              "#9c179e"
             ],
             [
              0.4444444444444444,
              "#bd3786"
             ],
             [
              0.5555555555555556,
              "#d8576b"
             ],
             [
              0.6666666666666666,
              "#ed7953"
             ],
             [
              0.7777777777777778,
              "#fb9f3a"
             ],
             [
              0.8888888888888888,
              "#fdca26"
             ],
             [
              1,
              "#f0f921"
             ]
            ],
            "type": "heatmapgl"
           }
          ],
          "histogram": [
           {
            "marker": {
             "colorbar": {
              "outlinewidth": 0,
              "ticks": ""
             }
            },
            "type": "histogram"
           }
          ],
          "histogram2d": [
           {
            "colorbar": {
             "outlinewidth": 0,
             "ticks": ""
            },
            "colorscale": [
             [
              0,
              "#0d0887"
             ],
             [
              0.1111111111111111,
              "#46039f"
             ],
             [
              0.2222222222222222,
              "#7201a8"
             ],
             [
              0.3333333333333333,
              "#9c179e"
             ],
             [
              0.4444444444444444,
              "#bd3786"
             ],
             [
              0.5555555555555556,
              "#d8576b"
             ],
             [
              0.6666666666666666,
              "#ed7953"
             ],
             [
              0.7777777777777778,
              "#fb9f3a"
             ],
             [
              0.8888888888888888,
              "#fdca26"
             ],
             [
              1,
              "#f0f921"
             ]
            ],
            "type": "histogram2d"
           }
          ],
          "histogram2dcontour": [
           {
            "colorbar": {
             "outlinewidth": 0,
             "ticks": ""
            },
            "colorscale": [
             [
              0,
              "#0d0887"
             ],
             [
              0.1111111111111111,
              "#46039f"
             ],
             [
              0.2222222222222222,
              "#7201a8"
             ],
             [
              0.3333333333333333,
              "#9c179e"
             ],
             [
              0.4444444444444444,
              "#bd3786"
             ],
             [
              0.5555555555555556,
              "#d8576b"
             ],
             [
              0.6666666666666666,
              "#ed7953"
             ],
             [
              0.7777777777777778,
              "#fb9f3a"
             ],
             [
              0.8888888888888888,
              "#fdca26"
             ],
             [
              1,
              "#f0f921"
             ]
            ],
            "type": "histogram2dcontour"
           }
          ],
          "mesh3d": [
           {
            "colorbar": {
             "outlinewidth": 0,
             "ticks": ""
            },
            "type": "mesh3d"
           }
          ],
          "parcoords": [
           {
            "line": {
             "colorbar": {
              "outlinewidth": 0,
              "ticks": ""
             }
            },
            "type": "parcoords"
           }
          ],
          "pie": [
           {
            "automargin": true,
            "type": "pie"
           }
          ],
          "scatter": [
           {
            "marker": {
             "colorbar": {
              "outlinewidth": 0,
              "ticks": ""
             }
            },
            "type": "scatter"
           }
          ],
          "scatter3d": [
           {
            "line": {
             "colorbar": {
              "outlinewidth": 0,
              "ticks": ""
             }
            },
            "marker": {
             "colorbar": {
              "outlinewidth": 0,
              "ticks": ""
             }
            },
            "type": "scatter3d"
           }
          ],
          "scattercarpet": [
           {
            "marker": {
             "colorbar": {
              "outlinewidth": 0,
              "ticks": ""
             }
            },
            "type": "scattercarpet"
           }
          ],
          "scattergeo": [
           {
            "marker": {
             "colorbar": {
              "outlinewidth": 0,
              "ticks": ""
             }
            },
            "type": "scattergeo"
           }
          ],
          "scattergl": [
           {
            "marker": {
             "colorbar": {
              "outlinewidth": 0,
              "ticks": ""
             }
            },
            "type": "scattergl"
           }
          ],
          "scattermapbox": [
           {
            "marker": {
             "colorbar": {
              "outlinewidth": 0,
              "ticks": ""
             }
            },
            "type": "scattermapbox"
           }
          ],
          "scatterpolar": [
           {
            "marker": {
             "colorbar": {
              "outlinewidth": 0,
              "ticks": ""
             }
            },
            "type": "scatterpolar"
           }
          ],
          "scatterpolargl": [
           {
            "marker": {
             "colorbar": {
              "outlinewidth": 0,
              "ticks": ""
             }
            },
            "type": "scatterpolargl"
           }
          ],
          "scatterternary": [
           {
            "marker": {
             "colorbar": {
              "outlinewidth": 0,
              "ticks": ""
             }
            },
            "type": "scatterternary"
           }
          ],
          "surface": [
           {
            "colorbar": {
             "outlinewidth": 0,
             "ticks": ""
            },
            "colorscale": [
             [
              0,
              "#0d0887"
             ],
             [
              0.1111111111111111,
              "#46039f"
             ],
             [
              0.2222222222222222,
              "#7201a8"
             ],
             [
              0.3333333333333333,
              "#9c179e"
             ],
             [
              0.4444444444444444,
              "#bd3786"
             ],
             [
              0.5555555555555556,
              "#d8576b"
             ],
             [
              0.6666666666666666,
              "#ed7953"
             ],
             [
              0.7777777777777778,
              "#fb9f3a"
             ],
             [
              0.8888888888888888,
              "#fdca26"
             ],
             [
              1,
              "#f0f921"
             ]
            ],
            "type": "surface"
           }
          ],
          "table": [
           {
            "cells": {
             "fill": {
              "color": "#EBF0F8"
             },
             "line": {
              "color": "white"
             }
            },
            "header": {
             "fill": {
              "color": "#C8D4E3"
             },
             "line": {
              "color": "white"
             }
            },
            "type": "table"
           }
          ]
         },
         "layout": {
          "annotationdefaults": {
           "arrowcolor": "#2a3f5f",
           "arrowhead": 0,
           "arrowwidth": 1
          },
          "coloraxis": {
           "colorbar": {
            "outlinewidth": 0,
            "ticks": ""
           }
          },
          "colorscale": {
           "diverging": [
            [
             0,
             "#8e0152"
            ],
            [
             0.1,
             "#c51b7d"
            ],
            [
             0.2,
             "#de77ae"
            ],
            [
             0.3,
             "#f1b6da"
            ],
            [
             0.4,
             "#fde0ef"
            ],
            [
             0.5,
             "#f7f7f7"
            ],
            [
             0.6,
             "#e6f5d0"
            ],
            [
             0.7,
             "#b8e186"
            ],
            [
             0.8,
             "#7fbc41"
            ],
            [
             0.9,
             "#4d9221"
            ],
            [
             1,
             "#276419"
            ]
           ],
           "sequential": [
            [
             0,
             "#0d0887"
            ],
            [
             0.1111111111111111,
             "#46039f"
            ],
            [
             0.2222222222222222,
             "#7201a8"
            ],
            [
             0.3333333333333333,
             "#9c179e"
            ],
            [
             0.4444444444444444,
             "#bd3786"
            ],
            [
             0.5555555555555556,
             "#d8576b"
            ],
            [
             0.6666666666666666,
             "#ed7953"
            ],
            [
             0.7777777777777778,
             "#fb9f3a"
            ],
            [
             0.8888888888888888,
             "#fdca26"
            ],
            [
             1,
             "#f0f921"
            ]
           ],
           "sequentialminus": [
            [
             0,
             "#0d0887"
            ],
            [
             0.1111111111111111,
             "#46039f"
            ],
            [
             0.2222222222222222,
             "#7201a8"
            ],
            [
             0.3333333333333333,
             "#9c179e"
            ],
            [
             0.4444444444444444,
             "#bd3786"
            ],
            [
             0.5555555555555556,
             "#d8576b"
            ],
            [
             0.6666666666666666,
             "#ed7953"
            ],
            [
             0.7777777777777778,
             "#fb9f3a"
            ],
            [
             0.8888888888888888,
             "#fdca26"
            ],
            [
             1,
             "#f0f921"
            ]
           ]
          },
          "colorway": [
           "#636efa",
           "#EF553B",
           "#00cc96",
           "#ab63fa",
           "#FFA15A",
           "#19d3f3",
           "#FF6692",
           "#B6E880",
           "#FF97FF",
           "#FECB52"
          ],
          "font": {
           "color": "#2a3f5f"
          },
          "geo": {
           "bgcolor": "white",
           "lakecolor": "white",
           "landcolor": "white",
           "showlakes": true,
           "showland": true,
           "subunitcolor": "#C8D4E3"
          },
          "hoverlabel": {
           "align": "left"
          },
          "hovermode": "closest",
          "mapbox": {
           "style": "light"
          },
          "paper_bgcolor": "white",
          "plot_bgcolor": "white",
          "polar": {
           "angularaxis": {
            "gridcolor": "#EBF0F8",
            "linecolor": "#EBF0F8",
            "ticks": ""
           },
           "bgcolor": "white",
           "radialaxis": {
            "gridcolor": "#EBF0F8",
            "linecolor": "#EBF0F8",
            "ticks": ""
           }
          },
          "scene": {
           "xaxis": {
            "backgroundcolor": "white",
            "gridcolor": "#DFE8F3",
            "gridwidth": 2,
            "linecolor": "#EBF0F8",
            "showbackground": true,
            "ticks": "",
            "zerolinecolor": "#EBF0F8"
           },
           "yaxis": {
            "backgroundcolor": "white",
            "gridcolor": "#DFE8F3",
            "gridwidth": 2,
            "linecolor": "#EBF0F8",
            "showbackground": true,
            "ticks": "",
            "zerolinecolor": "#EBF0F8"
           },
           "zaxis": {
            "backgroundcolor": "white",
            "gridcolor": "#DFE8F3",
            "gridwidth": 2,
            "linecolor": "#EBF0F8",
            "showbackground": true,
            "ticks": "",
            "zerolinecolor": "#EBF0F8"
           }
          },
          "shapedefaults": {
           "line": {
            "color": "#2a3f5f"
           }
          },
          "ternary": {
           "aaxis": {
            "gridcolor": "#DFE8F3",
            "linecolor": "#A2B1C6",
            "ticks": ""
           },
           "baxis": {
            "gridcolor": "#DFE8F3",
            "linecolor": "#A2B1C6",
            "ticks": ""
           },
           "bgcolor": "white",
           "caxis": {
            "gridcolor": "#DFE8F3",
            "linecolor": "#A2B1C6",
            "ticks": ""
           }
          },
          "title": {
           "x": 0.05
          },
          "xaxis": {
           "automargin": true,
           "gridcolor": "#EBF0F8",
           "linecolor": "#EBF0F8",
           "ticks": "",
           "title": {
            "standoff": 15
           },
           "zerolinecolor": "#EBF0F8",
           "zerolinewidth": 2
          },
          "yaxis": {
           "automargin": true,
           "gridcolor": "#EBF0F8",
           "linecolor": "#EBF0F8",
           "ticks": "",
           "title": {
            "standoff": 15
           },
           "zerolinecolor": "#EBF0F8",
           "zerolinewidth": 2
          }
         }
        },
        "title": {
         "text": "Model Performance Comparison (After SMOTE)"
        },
        "xaxis": {
         "title": {
          "text": "Model"
         }
        },
        "yaxis": {
         "range": [
          0,
          1
         ],
         "title": {
          "text": "Score"
         }
        }
       }
      }
     },
     "metadata": {},
     "output_type": "display_data"
    }
   ],
   "source": [
    "import plotly.graph_objects as go\n",
    "\n",
    "# Data\n",
    "models = ['Logistic Regression', 'Naive Bayes', 'Random Forest']\n",
    "accuracy = [0.536, 0.501, 0.633]\n",
    "precision = [0.57, 0.50, 0.64]\n",
    "recall = [0.57, 0.58, 0.60]\n",
    "f1 = [0.56, 0.52, 0.61]\n",
    "\n",
    "# Create bar chart\n",
    "fig = go.Figure()\n",
    "\n",
    "fig.add_trace(go.Bar(\n",
    "    x=models,\n",
    "    y=accuracy,\n",
    "    name='Accuracy',\n",
    "    marker_color='indianred'\n",
    "))\n",
    "fig.add_trace(go.Bar(\n",
    "    x=models,\n",
    "    y=precision,\n",
    "    name='Precision (Macro)',\n",
    "    marker_color='lightsalmon'\n",
    "))\n",
    "fig.add_trace(go.Bar(\n",
    "    x=models,\n",
    "    y=recall,\n",
    "    name='Recall (Macro)',\n",
    "    marker_color='seagreen'\n",
    "))\n",
    "fig.add_trace(go.Bar(\n",
    "    x=models,\n",
    "    y=f1,\n",
    "    name='F1-score (Macro)',\n",
    "    marker_color='steelblue'\n",
    "))\n",
    "\n",
    "# Update layout\n",
    "fig.update_layout(\n",
    "    title='Model Performance Comparison (After SMOTE)',\n",
    "    xaxis_title='Model',\n",
    "    yaxis_title='Score',\n",
    "    barmode='group',\n",
    "    yaxis=dict(range=[0, 1]),\n",
    "    template='plotly_white'\n",
    ")\n",
    "\n",
    "# Show plot\n",
    "fig.show()\n"
   ]
  },
  {
   "cell_type": "markdown",
   "id": "398b99b2",
   "metadata": {},
   "source": [
    "### EDA"
   ]
  },
  {
   "cell_type": "markdown",
   "id": "a4488fee",
   "metadata": {},
   "source": [
    "Distribution of Tweet Labels(count vs labels)\n",
    "This bar chart displays the count of tweets for each label category in the dataset. The interactive Plotly visualization allows you to hover over each bar to see the exact number of tweets, zoom in for detailed views across the chart. "
   ]
  },
  {
   "cell_type": "code",
   "execution_count": 65,
   "id": "8d82e4d3",
   "metadata": {},
   "outputs": [
    {
     "data": {
      "application/vnd.plotly.v1+json": {
       "config": {
        "plotlyServerURL": "https://plot.ly"
       },
       "data": [
        {
         "alignmentgroup": "True",
         "hovertemplate": "Labels=%{x}<br>Count=%{y}<extra></extra>",
         "legendgroup": "Neutral",
         "marker": {
          "color": "#636efa"
         },
         "name": "Neutral",
         "offsetgroup": "Neutral",
         "orientation": "v",
         "showlegend": true,
         "textposition": "auto",
         "type": "bar",
         "x": [
          "Neutral"
         ],
         "xaxis": "x",
         "y": [
          1032
         ],
         "yaxis": "y"
        },
        {
         "alignmentgroup": "True",
         "hovertemplate": "Labels=%{x}<br>Count=%{y}<extra></extra>",
         "legendgroup": "Customer care complaint",
         "marker": {
          "color": "#EF553B"
         },
         "name": "Customer care complaint",
         "offsetgroup": "Customer care complaint",
         "orientation": "v",
         "showlegend": true,
         "textposition": "auto",
         "type": "bar",
         "x": [
          "Customer care complaint"
         ],
         "xaxis": "x",
         "y": [
          397
         ],
         "yaxis": "y"
        },
        {
         "alignmentgroup": "True",
         "hovertemplate": "Labels=%{x}<br>Count=%{y}<extra></extra>",
         "legendgroup": "Internet or airtime bundle complaint",
         "marker": {
          "color": "#00cc96"
         },
         "name": "Internet or airtime bundle complaint",
         "offsetgroup": "Internet or airtime bundle complaint",
         "orientation": "v",
         "showlegend": true,
         "textposition": "auto",
         "type": "bar",
         "x": [
          "Internet or airtime bundle complaint"
         ],
         "xaxis": "x",
         "y": [
          299
         ],
         "yaxis": "y"
        },
        {
         "alignmentgroup": "True",
         "hovertemplate": "Labels=%{x}<br>Count=%{y}<extra></extra>",
         "legendgroup": "Hate Speech",
         "marker": {
          "color": "#ab63fa"
         },
         "name": "Hate Speech",
         "offsetgroup": "Hate Speech",
         "orientation": "v",
         "showlegend": true,
         "textposition": "auto",
         "type": "bar",
         "x": [
          "Hate Speech"
         ],
         "xaxis": "x",
         "y": [
          297
         ],
         "yaxis": "y"
        },
        {
         "alignmentgroup": "True",
         "hovertemplate": "Labels=%{x}<br>Count=%{y}<extra></extra>",
         "legendgroup": "MPESA complaint",
         "marker": {
          "color": "#FFA15A"
         },
         "name": "MPESA complaint",
         "offsetgroup": "MPESA complaint",
         "orientation": "v",
         "showlegend": true,
         "textposition": "auto",
         "type": "bar",
         "x": [
          "MPESA complaint"
         ],
         "xaxis": "x",
         "y": [
          189
         ],
         "yaxis": "y"
        },
        {
         "alignmentgroup": "True",
         "hovertemplate": "Labels=%{x}<br>Count=%{y}<extra></extra>",
         "legendgroup": "Network reliability problem",
         "marker": {
          "color": "#19d3f3"
         },
         "name": "Network reliability problem",
         "offsetgroup": "Network reliability problem",
         "orientation": "v",
         "showlegend": true,
         "textposition": "auto",
         "type": "bar",
         "x": [
          "Network reliability problem"
         ],
         "xaxis": "x",
         "y": [
          184
         ],
         "yaxis": "y"
        },
        {
         "alignmentgroup": "True",
         "hovertemplate": "Labels=%{x}<br>Count=%{y}<extra></extra>",
         "legendgroup": "Data protection and privacy concern",
         "marker": {
          "color": "#FF6692"
         },
         "name": "Data protection and privacy concern",
         "offsetgroup": "Data protection and privacy concern",
         "orientation": "v",
         "showlegend": true,
         "textposition": "auto",
         "type": "bar",
         "x": [
          "Data protection and privacy concern"
         ],
         "xaxis": "x",
         "y": [
          175
         ],
         "yaxis": "y"
        }
       ],
       "layout": {
        "barmode": "relative",
        "height": 500,
        "legend": {
         "title": {
          "text": "Labels"
         },
         "tracegroupgap": 0
        },
        "template": {
         "data": {
          "bar": [
           {
            "error_x": {
             "color": "#2a3f5f"
            },
            "error_y": {
             "color": "#2a3f5f"
            },
            "marker": {
             "line": {
              "color": "#E5ECF6",
              "width": 0.5
             }
            },
            "type": "bar"
           }
          ],
          "barpolar": [
           {
            "marker": {
             "line": {
              "color": "#E5ECF6",
              "width": 0.5
             }
            },
            "type": "barpolar"
           }
          ],
          "carpet": [
           {
            "aaxis": {
             "endlinecolor": "#2a3f5f",
             "gridcolor": "white",
             "linecolor": "white",
             "minorgridcolor": "white",
             "startlinecolor": "#2a3f5f"
            },
            "baxis": {
             "endlinecolor": "#2a3f5f",
             "gridcolor": "white",
             "linecolor": "white",
             "minorgridcolor": "white",
             "startlinecolor": "#2a3f5f"
            },
            "type": "carpet"
           }
          ],
          "choropleth": [
           {
            "colorbar": {
             "outlinewidth": 0,
             "ticks": ""
            },
            "type": "choropleth"
           }
          ],
          "contour": [
           {
            "colorbar": {
             "outlinewidth": 0,
             "ticks": ""
            },
            "colorscale": [
             [
              0,
              "#0d0887"
             ],
             [
              0.1111111111111111,
              "#46039f"
             ],
             [
              0.2222222222222222,
              "#7201a8"
             ],
             [
              0.3333333333333333,
              "#9c179e"
             ],
             [
              0.4444444444444444,
              "#bd3786"
             ],
             [
              0.5555555555555556,
              "#d8576b"
             ],
             [
              0.6666666666666666,
              "#ed7953"
             ],
             [
              0.7777777777777778,
              "#fb9f3a"
             ],
             [
              0.8888888888888888,
              "#fdca26"
             ],
             [
              1,
              "#f0f921"
             ]
            ],
            "type": "contour"
           }
          ],
          "contourcarpet": [
           {
            "colorbar": {
             "outlinewidth": 0,
             "ticks": ""
            },
            "type": "contourcarpet"
           }
          ],
          "heatmap": [
           {
            "colorbar": {
             "outlinewidth": 0,
             "ticks": ""
            },
            "colorscale": [
             [
              0,
              "#0d0887"
             ],
             [
              0.1111111111111111,
              "#46039f"
             ],
             [
              0.2222222222222222,
              "#7201a8"
             ],
             [
              0.3333333333333333,
              "#9c179e"
             ],
             [
              0.4444444444444444,
              "#bd3786"
             ],
             [
              0.5555555555555556,
              "#d8576b"
             ],
             [
              0.6666666666666666,
              "#ed7953"
             ],
             [
              0.7777777777777778,
              "#fb9f3a"
             ],
             [
              0.8888888888888888,
              "#fdca26"
             ],
             [
              1,
              "#f0f921"
             ]
            ],
            "type": "heatmap"
           }
          ],
          "heatmapgl": [
           {
            "colorbar": {
             "outlinewidth": 0,
             "ticks": ""
            },
            "colorscale": [
             [
              0,
              "#0d0887"
             ],
             [
              0.1111111111111111,
              "#46039f"
             ],
             [
              0.2222222222222222,
              "#7201a8"
             ],
             [
              0.3333333333333333,
              "#9c179e"
             ],
             [
              0.4444444444444444,
              "#bd3786"
             ],
             [
              0.5555555555555556,
              "#d8576b"
             ],
             [
              0.6666666666666666,
              "#ed7953"
             ],
             [
              0.7777777777777778,
              "#fb9f3a"
             ],
             [
              0.8888888888888888,
              "#fdca26"
             ],
             [
              1,
              "#f0f921"
             ]
            ],
            "type": "heatmapgl"
           }
          ],
          "histogram": [
           {
            "marker": {
             "colorbar": {
              "outlinewidth": 0,
              "ticks": ""
             }
            },
            "type": "histogram"
           }
          ],
          "histogram2d": [
           {
            "colorbar": {
             "outlinewidth": 0,
             "ticks": ""
            },
            "colorscale": [
             [
              0,
              "#0d0887"
             ],
             [
              0.1111111111111111,
              "#46039f"
             ],
             [
              0.2222222222222222,
              "#7201a8"
             ],
             [
              0.3333333333333333,
              "#9c179e"
             ],
             [
              0.4444444444444444,
              "#bd3786"
             ],
             [
              0.5555555555555556,
              "#d8576b"
             ],
             [
              0.6666666666666666,
              "#ed7953"
             ],
             [
              0.7777777777777778,
              "#fb9f3a"
             ],
             [
              0.8888888888888888,
              "#fdca26"
             ],
             [
              1,
              "#f0f921"
             ]
            ],
            "type": "histogram2d"
           }
          ],
          "histogram2dcontour": [
           {
            "colorbar": {
             "outlinewidth": 0,
             "ticks": ""
            },
            "colorscale": [
             [
              0,
              "#0d0887"
             ],
             [
              0.1111111111111111,
              "#46039f"
             ],
             [
              0.2222222222222222,
              "#7201a8"
             ],
             [
              0.3333333333333333,
              "#9c179e"
             ],
             [
              0.4444444444444444,
              "#bd3786"
             ],
             [
              0.5555555555555556,
              "#d8576b"
             ],
             [
              0.6666666666666666,
              "#ed7953"
             ],
             [
              0.7777777777777778,
              "#fb9f3a"
             ],
             [
              0.8888888888888888,
              "#fdca26"
             ],
             [
              1,
              "#f0f921"
             ]
            ],
            "type": "histogram2dcontour"
           }
          ],
          "mesh3d": [
           {
            "colorbar": {
             "outlinewidth": 0,
             "ticks": ""
            },
            "type": "mesh3d"
           }
          ],
          "parcoords": [
           {
            "line": {
             "colorbar": {
              "outlinewidth": 0,
              "ticks": ""
             }
            },
            "type": "parcoords"
           }
          ],
          "pie": [
           {
            "automargin": true,
            "type": "pie"
           }
          ],
          "scatter": [
           {
            "marker": {
             "colorbar": {
              "outlinewidth": 0,
              "ticks": ""
             }
            },
            "type": "scatter"
           }
          ],
          "scatter3d": [
           {
            "line": {
             "colorbar": {
              "outlinewidth": 0,
              "ticks": ""
             }
            },
            "marker": {
             "colorbar": {
              "outlinewidth": 0,
              "ticks": ""
             }
            },
            "type": "scatter3d"
           }
          ],
          "scattercarpet": [
           {
            "marker": {
             "colorbar": {
              "outlinewidth": 0,
              "ticks": ""
             }
            },
            "type": "scattercarpet"
           }
          ],
          "scattergeo": [
           {
            "marker": {
             "colorbar": {
              "outlinewidth": 0,
              "ticks": ""
             }
            },
            "type": "scattergeo"
           }
          ],
          "scattergl": [
           {
            "marker": {
             "colorbar": {
              "outlinewidth": 0,
              "ticks": ""
             }
            },
            "type": "scattergl"
           }
          ],
          "scattermapbox": [
           {
            "marker": {
             "colorbar": {
              "outlinewidth": 0,
              "ticks": ""
             }
            },
            "type": "scattermapbox"
           }
          ],
          "scatterpolar": [
           {
            "marker": {
             "colorbar": {
              "outlinewidth": 0,
              "ticks": ""
             }
            },
            "type": "scatterpolar"
           }
          ],
          "scatterpolargl": [
           {
            "marker": {
             "colorbar": {
              "outlinewidth": 0,
              "ticks": ""
             }
            },
            "type": "scatterpolargl"
           }
          ],
          "scatterternary": [
           {
            "marker": {
             "colorbar": {
              "outlinewidth": 0,
              "ticks": ""
             }
            },
            "type": "scatterternary"
           }
          ],
          "surface": [
           {
            "colorbar": {
             "outlinewidth": 0,
             "ticks": ""
            },
            "colorscale": [
             [
              0,
              "#0d0887"
             ],
             [
              0.1111111111111111,
              "#46039f"
             ],
             [
              0.2222222222222222,
              "#7201a8"
             ],
             [
              0.3333333333333333,
              "#9c179e"
             ],
             [
              0.4444444444444444,
              "#bd3786"
             ],
             [
              0.5555555555555556,
              "#d8576b"
             ],
             [
              0.6666666666666666,
              "#ed7953"
             ],
             [
              0.7777777777777778,
              "#fb9f3a"
             ],
             [
              0.8888888888888888,
              "#fdca26"
             ],
             [
              1,
              "#f0f921"
             ]
            ],
            "type": "surface"
           }
          ],
          "table": [
           {
            "cells": {
             "fill": {
              "color": "#EBF0F8"
             },
             "line": {
              "color": "white"
             }
            },
            "header": {
             "fill": {
              "color": "#C8D4E3"
             },
             "line": {
              "color": "white"
             }
            },
            "type": "table"
           }
          ]
         },
         "layout": {
          "annotationdefaults": {
           "arrowcolor": "#2a3f5f",
           "arrowhead": 0,
           "arrowwidth": 1
          },
          "coloraxis": {
           "colorbar": {
            "outlinewidth": 0,
            "ticks": ""
           }
          },
          "colorscale": {
           "diverging": [
            [
             0,
             "#8e0152"
            ],
            [
             0.1,
             "#c51b7d"
            ],
            [
             0.2,
             "#de77ae"
            ],
            [
             0.3,
             "#f1b6da"
            ],
            [
             0.4,
             "#fde0ef"
            ],
            [
             0.5,
             "#f7f7f7"
            ],
            [
             0.6,
             "#e6f5d0"
            ],
            [
             0.7,
             "#b8e186"
            ],
            [
             0.8,
             "#7fbc41"
            ],
            [
             0.9,
             "#4d9221"
            ],
            [
             1,
             "#276419"
            ]
           ],
           "sequential": [
            [
             0,
             "#0d0887"
            ],
            [
             0.1111111111111111,
             "#46039f"
            ],
            [
             0.2222222222222222,
             "#7201a8"
            ],
            [
             0.3333333333333333,
             "#9c179e"
            ],
            [
             0.4444444444444444,
             "#bd3786"
            ],
            [
             0.5555555555555556,
             "#d8576b"
            ],
            [
             0.6666666666666666,
             "#ed7953"
            ],
            [
             0.7777777777777778,
             "#fb9f3a"
            ],
            [
             0.8888888888888888,
             "#fdca26"
            ],
            [
             1,
             "#f0f921"
            ]
           ],
           "sequentialminus": [
            [
             0,
             "#0d0887"
            ],
            [
             0.1111111111111111,
             "#46039f"
            ],
            [
             0.2222222222222222,
             "#7201a8"
            ],
            [
             0.3333333333333333,
             "#9c179e"
            ],
            [
             0.4444444444444444,
             "#bd3786"
            ],
            [
             0.5555555555555556,
             "#d8576b"
            ],
            [
             0.6666666666666666,
             "#ed7953"
            ],
            [
             0.7777777777777778,
             "#fb9f3a"
            ],
            [
             0.8888888888888888,
             "#fdca26"
            ],
            [
             1,
             "#f0f921"
            ]
           ]
          },
          "colorway": [
           "#636efa",
           "#EF553B",
           "#00cc96",
           "#ab63fa",
           "#FFA15A",
           "#19d3f3",
           "#FF6692",
           "#B6E880",
           "#FF97FF",
           "#FECB52"
          ],
          "font": {
           "color": "#2a3f5f"
          },
          "geo": {
           "bgcolor": "white",
           "lakecolor": "white",
           "landcolor": "#E5ECF6",
           "showlakes": true,
           "showland": true,
           "subunitcolor": "white"
          },
          "hoverlabel": {
           "align": "left"
          },
          "hovermode": "closest",
          "mapbox": {
           "style": "light"
          },
          "paper_bgcolor": "white",
          "plot_bgcolor": "#E5ECF6",
          "polar": {
           "angularaxis": {
            "gridcolor": "white",
            "linecolor": "white",
            "ticks": ""
           },
           "bgcolor": "#E5ECF6",
           "radialaxis": {
            "gridcolor": "white",
            "linecolor": "white",
            "ticks": ""
           }
          },
          "scene": {
           "xaxis": {
            "backgroundcolor": "#E5ECF6",
            "gridcolor": "white",
            "gridwidth": 2,
            "linecolor": "white",
            "showbackground": true,
            "ticks": "",
            "zerolinecolor": "white"
           },
           "yaxis": {
            "backgroundcolor": "#E5ECF6",
            "gridcolor": "white",
            "gridwidth": 2,
            "linecolor": "white",
            "showbackground": true,
            "ticks": "",
            "zerolinecolor": "white"
           },
           "zaxis": {
            "backgroundcolor": "#E5ECF6",
            "gridcolor": "white",
            "gridwidth": 2,
            "linecolor": "white",
            "showbackground": true,
            "ticks": "",
            "zerolinecolor": "white"
           }
          },
          "shapedefaults": {
           "line": {
            "color": "#2a3f5f"
           }
          },
          "ternary": {
           "aaxis": {
            "gridcolor": "white",
            "linecolor": "white",
            "ticks": ""
           },
           "baxis": {
            "gridcolor": "white",
            "linecolor": "white",
            "ticks": ""
           },
           "bgcolor": "#E5ECF6",
           "caxis": {
            "gridcolor": "white",
            "linecolor": "white",
            "ticks": ""
           }
          },
          "title": {
           "x": 0.05
          },
          "xaxis": {
           "automargin": true,
           "gridcolor": "white",
           "linecolor": "white",
           "ticks": "",
           "title": {
            "standoff": 15
           },
           "zerolinecolor": "white",
           "zerolinewidth": 2
          },
          "yaxis": {
           "automargin": true,
           "gridcolor": "white",
           "linecolor": "white",
           "ticks": "",
           "title": {
            "standoff": 15
           },
           "zerolinecolor": "white",
           "zerolinewidth": 2
          }
         }
        },
        "title": {
         "text": "Distribution of Tweet Labels"
        },
        "width": 800,
        "xaxis": {
         "anchor": "y",
         "categoryarray": [
          "Neutral",
          "Customer care complaint",
          "Internet or airtime bundle complaint",
          "Hate Speech",
          "MPESA complaint",
          "Network reliability problem",
          "Data protection and privacy concern"
         ],
         "categoryorder": "array",
         "domain": [
          0,
          1
         ],
         "title": {
          "text": "Labels"
         }
        },
        "yaxis": {
         "anchor": "x",
         "domain": [
          0,
          1
         ],
         "title": {
          "text": "Count"
         }
        }
       }
      }
     },
     "metadata": {},
     "output_type": "display_data"
    }
   ],
   "source": [
    "fig = px.bar(\n",
    "    saf_tweets['Labels'].value_counts().reset_index(),\n",
    "    x='index',\n",
    "    y='Labels',\n",
    "    labels={'index': 'Labels', 'Labels': 'Count'},\n",
    "    title='Distribution of Tweet Labels',\n",
    "    color='index',\n",
    "    width=800,    # width in pixels\n",
    "    height=500    # height in pixels\n",
    ")\n",
    "fig.show()\n"
   ]
  },
  {
   "cell_type": "code",
   "execution_count": 74,
   "id": "354a6785",
   "metadata": {},
   "outputs": [
    {
     "data": {
      "image/png": "[encoded data removed]",
      "text/plain": [
       "<Figure size 576x720 with 1 Axes>"
      ]
     },
     "metadata": {
      "needs_background": "light"
     },
     "output_type": "display_data"
    }
   ],
   "source": [
    "plt.figure(figsize=(8,10))\n",
    "sns.boxplot(x='Labels', y='Tweet_Length', data=saf_tweets, palette='Set2')\n",
    "plt.title('Boxplot of Tweet Lengths by Label')\n",
    "plt.xlabel('Labels')\n",
    "plt.ylabel('Tweet Length (characters)')\n",
    "\n",
    "# Rotate x-axis labels to 45 degrees for better readability\n",
    "plt.xticks(rotation=45, ha='right')\n",
    "\n",
    "plt.tight_layout()  # adjusts plot to make sure everything fits without overlap\n",
    "plt.show()\n"
   ]
  },
  {
   "cell_type": "code",
   "execution_count": 78,
   "id": "d851fe14",
   "metadata": {},
   "outputs": [
    {
     "name": "stdout",
     "output_type": "stream",
     "text": [
      "Neutral                                 1032\n",
      "Customer care complaint                  397\n",
      "Internet or airtime bundle complaint     299\n",
      "Hate Speech                              297\n",
      "MPESA complaint                          189\n",
      "Network reliability problem              184\n",
      "Data protection and privacy concern      175\n",
      "Name: Labels, dtype: int64\n"
     ]
    }
   ],
   "source": [
    "# Step 1: Check available labels\n",
    "print(saf_tweets['Labels'].value_counts())\n"
   ]
  },
  {
   "cell_type": "code",
   "execution_count": 80,
   "id": "d9500ea4",
   "metadata": {},
   "outputs": [
    {
     "data": {
      "text/plain": [
       "Network reliability problem             825\n",
       "Hate Speech                             825\n",
       "MPESA complaint                         825\n",
       "Customer care complaint                 825\n",
       "Data protection and privacy concern     825\n",
       "Neutral                                 825\n",
       "Internet or airtime bundle complaint    825\n",
       "Name: Labels, dtype: int64"
      ]
     },
     "execution_count": 80,
     "metadata": {},
     "output_type": "execute_result"
    }
   ],
   "source": [
    "pd.Series(y_train_sm).value_counts()\n"
   ]
  },
  {
   "cell_type": "code",
   "execution_count": null,
   "id": "34147af6",
   "metadata": {},
   "outputs": [
    {
     "name": "stdout",
     "output_type": "stream",
     "text": [
      "297 tweets found for label 'Hate Speech'.\n"
     ]
    },
    {
     "data": {
      "image/png": "[encoded data removed]",
      "text/plain": [
       "<Figure size 576x432 with 1 Axes>"
      ]
     },
     "metadata": {
      "needs_background": "light"
     },
     "output_type": "display_data"
    }
   ],
   "source": [
    "from sklearn.feature_extraction.text import CountVectorizer\n",
    "\n",
    "# Step 1: Choose the label to analyze\n",
    "label_to_plot = 'Hate Speech'\n",
    "\n",
    "# Step 2: Filter tweets with that label, remove nulls and empty strings\n",
    "tweets = saf_tweets[saf_tweets['Labels'] == label_to_plot]['Content'].dropna()\n",
    "tweets = tweets[tweets.str.strip().astype(bool)]  # removes completely empty or whitespace-only tweets\n",
    "\n",
    "# Optional: Check how many tweets remain\n",
    "print(f\"{len(tweets)} tweets found for label '{label_to_plot}'.\")\n",
    "\n",
    "# Step 3: Initialize CountVectorizer (try without stopwords first to avoid empty vocab)\n",
    "vectorizer = CountVectorizer(stop_words='english')\n",
    "\n",
    "try:\n",
    "    # Step 4: Fit and transform\n",
    "    X = vectorizer.fit_transform(tweets)\n",
    "\n",
    "    # Step 5: Get word frequencies\n",
    "    word_freq = X.sum(axis=0)\n",
    "    word_freq_df = pd.DataFrame({\n",
    "        'word': vectorizer.get_feature_names(),\n",
    "        'count': word_freq.A1\n",
    "    }).sort_values(by='count', ascending=False).head(10)\n",
    "\n",
    "    # Step 6: Plot\n",
    "    plt.figure(figsize=(8,6))\n",
    "    sns.barplot(data=word_freq_df, x='count', y='word', palette='magma')\n",
    "    plt.title(f'Top 10 Most Common Words in \\\"{label_to_plot}\\\" Tweets')\n",
    "    plt.xlabel('Frequency')\n",
    "    plt.ylabel('Word')\n",
    "    plt.tight_layout()\n",
    "    plt.show()\n",
    "\n",
    "except ValueError as e:\n",
    "    print(\"Error:\", e)\n",
    "    print(\"Try using a different label or removing stop_words from CountVectorizer.\")\n"
   ]
  },
  {
   "cell_type": "code",
   "execution_count": null,
   "id": "ed6a5b21",
   "metadata": {},
   "outputs": [],
   "source": []
  }
 ],
 "metadata": {
  "kernelspec": {
   "display_name": "learn-env",
   "language": "python",
   "name": "python3"
  },
  "language_info": {
   "codemirror_mode": {
    "name": "ipython",
    "version": 3
   },
   "file_extension": ".py",
   "mimetype": "text/x-python",
   "name": "python",
   "nbconvert_exporter": "python",
   "pygments_lexer": "ipython3",
   "version": "3.8.5"
  }
 },
 "nbformat": 4,
 "nbformat_minor": 5
}
